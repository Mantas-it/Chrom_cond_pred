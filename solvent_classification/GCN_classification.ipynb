{
 "cells": [
  {
   "cell_type": "code",
   "execution_count": null,
   "metadata": {
    "colab": {
     "base_uri": "https://localhost:8080/",
     "height": 272
    },
    "colab_type": "code",
    "id": "eGgnMlfao_7c",
    "outputId": "08b7377c-acb6-47ac-c942-f65b31b64ade",
    "scrolled": true
   },
   "outputs": [],
   "source": [
    "import deepchem\n",
    "\n",
    "from deepchem.utils.save import load_from_disk\n",
    "dataset_file= \"gcn_solvent.csv\"\n",
    "loader = deepchem.data.CSVLoader(tasks=['ethyl_acetate','dichloromethane','toluene','acetone','chloroform','petroleum_ether','methanol','diethyl_ether','hexane','ethanol'],\n",
    "                                 smiles_field=\"smiles\", \n",
    "                                 featurizer=deepchem.feat.ConvMolFeaturizer())\n",
    "# Featurizing the dataset with ConvMolFeaturizer\n",
    "dataset = loader.featurize(dataset_file)\n"
   ]
  },
  {
   "cell_type": "code",
   "execution_count": null,
   "metadata": {},
   "outputs": [],
   "source": [
    "len(dataset)"
   ]
  },
  {
   "cell_type": "code",
   "execution_count": null,
   "metadata": {
    "colab": {},
    "colab_type": "code",
    "id": "9xDbW2A4p0l8"
   },
   "outputs": [],
   "source": [
    "# Splitter splits the dataset \n",
    "\n",
    "splitter = deepchem.splits.RandomSplitter()\n",
    "train, valid, _ = splitter.train_valid_test_split(dataset,frac_train=0.8,frac_valid=0.1,frac_test=0.1)\n"
   ]
  },
  {
   "cell_type": "code",
   "execution_count": null,
   "metadata": {
    "colab": {},
    "colab_type": "code",
    "id": "6NKyzDA-JlXY"
   },
   "outputs": [],
   "source": [
    "# training\n",
    "from deepchem.models import GraphConvModel\n",
    "graph_conv = GraphConvModel(10,\n",
    "                            batch_size=256,\n",
    "                            mode=\"classification\")"
   ]
  },
  {
   "cell_type": "code",
   "execution_count": null,
   "metadata": {},
   "outputs": [],
   "source": [
    "# may take a while\n",
    "graph_conv.fit(train, nb_epoch=70)"
   ]
  },
  {
   "cell_type": "code",
   "execution_count": null,
   "metadata": {},
   "outputs": [],
   "source": [
    "preds1 = graph_conv.predict(valid)\n",
    "preds1[preds1>=0.5] = 1\n",
    "preds1[preds1<1-0.5] = 0\n",
    "import numpy as np\n",
    "anew =[]\n",
    "preds1[0]\n",
    "for d,ff in enumerate(preds1):\n",
    "    anew.append([])\n",
    "    for zz in range(0,len(ff)):\n",
    "        anew[d].append(preds1[d][zz][1])\n",
    "anew = np.array(anew)"
   ]
  },
  {
   "cell_type": "code",
   "execution_count": null,
   "metadata": {},
   "outputs": [],
   "source": [
    "from sklearn.metrics import accuracy_score\n",
    "round('accuracy: ',accuracy_score(valid.y, anew),4)"
   ]
  }
 ],
 "metadata": {
  "colab": {
   "authorship_tag": "ABX9TyM4xygC2Ed+N/pNX+FwTjJ0",
   "collapsed_sections": [],
   "include_colab_link": false,
   "name": "solubility.ipynb",
   "provenance": []
  },
  "kernelspec": {
   "display_name": "Python 3",
   "language": "python",
   "name": "python3"
  },
  "language_info": {
   "codemirror_mode": {
    "name": "ipython",
    "version": 3
   },
   "file_extension": ".py",
   "mimetype": "text/x-python",
   "name": "python",
   "nbconvert_exporter": "python",
   "pygments_lexer": "ipython3",
   "version": "3.6.13"
  }
 },
 "nbformat": 4,
 "nbformat_minor": 1
}
