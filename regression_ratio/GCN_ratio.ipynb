{
 "cells": [
  {
   "cell_type": "code",
   "execution_count": null,
   "metadata": {
    "colab": {
     "base_uri": "https://localhost:8080/",
     "height": 272
    },
    "colab_type": "code",
    "id": "eGgnMlfao_7c",
    "outputId": "08b7377c-acb6-47ac-c942-f65b31b64ade"
   },
   "outputs": [],
   "source": [
    "import deepchem\n",
    "\n",
    "from deepchem.utils.save import load_from_disk\n",
    "dataset_file= \"gcn_ratio.csv\"\n",
    "\n",
    "loader = deepchem.data.CSVLoader(tasks=[\"rat\"], \n",
    "                                 smiles_field=\"smiles\", \n",
    "                                 featurizer=deepchem.feat.ConvMolFeaturizer())\n",
    "# Featurizing the dataset with ConvMolFeaturizer\n",
    "dataset = loader.featurize(dataset_file)\n"
   ]
  },
  {
   "cell_type": "code",
   "execution_count": null,
   "metadata": {},
   "outputs": [],
   "source": [
    "len(dataset)"
   ]
  },
  {
   "cell_type": "code",
   "execution_count": null,
   "metadata": {
    "colab": {},
    "colab_type": "code",
    "id": "9xDbW2A4p0l8"
   },
   "outputs": [],
   "source": [
    "splitter = deepchem.splits.RandomSplitter()\n",
    "train, valid, _ = splitter.train_valid_test_split(dataset,\n",
    "                                                  frac_train=0.8,\n",
    "                                                  frac_valid=0.1,\n",
    "                                                  frac_test=0.1)\n",
    "normalizer = deepchem.trans.NormalizationTransformer(transform_y=True, \n",
    "                                                     dataset=train, \n",
    "                                                     move_mean=True)\n",
    "train = normalizer.transform(train)\n",
    "test = normalizer.transform(valid)"
   ]
  },
  {
   "cell_type": "code",
   "execution_count": null,
   "metadata": {
    "colab": {},
    "colab_type": "code",
    "id": "6NKyzDA-JlXY"
   },
   "outputs": [],
   "source": [
    "from deepchem.models import GraphConvModel\n",
    "graph_conv = GraphConvModel(1,\n",
    "                            batch_size=256,\n",
    "                            mode=\"regression\")\n",
    "metric = deepchem.metrics.Metric(deepchem.metrics.pearson_r2_score)"
   ]
  },
  {
   "cell_type": "code",
   "execution_count": null,
   "metadata": {
    "colab": {
     "base_uri": "https://localhost:8080/",
     "height": 87
    },
    "colab_type": "code",
    "id": "7HRwydQ0K34F",
    "outputId": "c427ec36-9514-43e9-a591-76d9f58c2d3e"
   },
   "outputs": [],
   "source": [
    "# Fitting the model\n",
    "graph_conv.fit(train, nb_epoch=40)"
   ]
  },
  {
   "cell_type": "code",
   "execution_count": null,
   "metadata": {
    "colab": {
     "base_uri": "https://localhost:8080/",
     "height": 84
    },
    "colab_type": "code",
    "id": "rMrQHy7ELE1T",
    "outputId": "f18f26c8-040e-478e-e561-f6b7405c185c"
   },
   "outputs": [],
   "source": [
    "valid_scores = graph_conv.evaluate(valid, [metric], [normalizer])\n",
    "print(f\"Validation Scores: {valid_scores}\")"
   ]
  }
 ],
 "metadata": {
  "colab": {
   "authorship_tag": "ABX9TyM4xygC2Ed+N/pNX+FwTjJ0",
   "collapsed_sections": [],
   "include_colab_link": false,
   "name": "solubility.ipynb",
   "provenance": []
  },
  "kernelspec": {
   "display_name": "Python 3",
   "language": "python",
   "name": "python3"
  },
  "language_info": {
   "codemirror_mode": {
    "name": "ipython",
    "version": 3
   },
   "file_extension": ".py",
   "mimetype": "text/x-python",
   "name": "python",
   "nbconvert_exporter": "python",
   "pygments_lexer": "ipython3",
   "version": "3.6.13"
  }
 },
 "nbformat": 4,
 "nbformat_minor": 1
}
