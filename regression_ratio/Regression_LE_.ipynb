{
 "cells": [
  {
   "cell_type": "code",
   "execution_count": null,
   "metadata": {},
   "outputs": [],
   "source": [
    "from tensorflow import keras\n",
    "import tensorflow as tf\n",
    "import pandas as pd\n",
    "import numpy as np\n",
    "from sklearn.model_selection import train_test_split\n",
    "from tensorflow.keras import layers\n",
    "from tensorflow import nn\n",
    "import collections\n",
    "from rdkit.Chem import Descriptors\n",
    "from rdkit import Chem\n",
    "from rdkit.Chem import AllChem\n",
    "import matplotlib.pyplot as plt\n",
    "from sklearn.metrics import classification_report, accuracy_score, multilabel_confusion_matrix, mean_squared_error\n",
    "import statsmodels.api as sm"
   ]
  },
  {
   "cell_type": "code",
   "execution_count": null,
   "metadata": {},
   "outputs": [],
   "source": [
    "#params\n",
    "#for quick prototyping epoch count is set to 20\n",
    "epoch_count = 20"
   ]
  },
  {
   "cell_type": "code",
   "execution_count": null,
   "metadata": {},
   "outputs": [],
   "source": [
    "data = pd.read_csv('ratio_dataset.csv', sep=\"\\t\",low_memory=False)"
   ]
  },
  {
   "cell_type": "code",
   "execution_count": null,
   "metadata": {},
   "outputs": [],
   "source": [
    "# Vectorize input \n",
    "\n",
    "smiles_train = data[\"RP\"]\n",
    "print (smiles_train.shape)\n",
    "charset = set(\"\".join(list(data.RP))+\"!E\")\n",
    "char_to_int = dict((c,i+1) for i,c in enumerate(charset))\n",
    "int_to_char = dict((i+1,c) for i,c in enumerate(charset))\n",
    "embed = max([len(smile) for smile in data .RP])\n",
    "print (str(charset))\n",
    "print(len(charset), embed)\n",
    "\n",
    "def vectorize(smiles):\n",
    "        one_hot =  np.zeros((smiles.shape[0], embed ),dtype=np.int8)\n",
    "        print(one_hot.shape)\n",
    "        for i,smile in enumerate(smiles):\n",
    "            #encode the startchar\n",
    "            #encode the rest of the chars\n",
    "            for j,c in enumerate(smile):\n",
    "                one_hot[i,j] = char_to_int[c]\n",
    "            #Encode endchar\n",
    "            \n",
    "        #Return two, one for input and the other for output\n",
    "        return one_hot#, one_hot[:,0:-1,:]\n",
    "X_train = vectorize(smiles_train.values)"
   ]
  },
  {
   "cell_type": "code",
   "execution_count": null,
   "metadata": {},
   "outputs": [],
   "source": [
    "# vectorize output\n",
    "one_hot_yz = np.zeros((len(data), 1 ),dtype=np.float16)\n",
    "for i,nam in enumerate(data['rat2'])\n",
    "    one_hot_yz[i] = float(nam)          \n",
    "Y_train = np.array(one_hot_yz)\n"
   ]
  },
  {
   "cell_type": "code",
   "execution_count": null,
   "metadata": {},
   "outputs": [],
   "source": [
    "# split dataset\n",
    "X_train = np.array(X_train)\n",
    "X_train2, X_test2, y_train2_2,y_test2_2  = train_test_split(X_train,Y_train, test_size=0.1,shuffle=True)"
   ]
  },
  {
   "cell_type": "code",
   "execution_count": null,
   "metadata": {},
   "outputs": [],
   "source": [
    "embed_smiles = len(charset) +1\n",
    "input_shape = X_train.shape[1]"
   ]
  },
  {
   "cell_type": "code",
   "execution_count": null,
   "metadata": {},
   "outputs": [],
   "source": [
    "inputA = keras.Input(shape=(199,),name='inputx')\n",
    "\n",
    "\n",
    "x = layers.Embedding(embed_smiles,12, input_length=199)(inputA)\n",
    "\n",
    "\n",
    "x = layers.Dense(64, activation=\"relu\")(x)\n",
    "\n",
    "x = layers.Dense(32, activation=\"relu\")(x)\n",
    "\n",
    "x = layers.Flatten()(x)\n",
    "\n",
    "p = layers.Dense(32, activation='relu')(x)\n",
    "\n",
    "p = layers.Dense(1, activation=\"linear\",dtype='float32',name=\"ratio\")(p)\n",
    "\n",
    "\n",
    "modelx = keras.Model(inputs=inputA, outputs=p)\n",
    "\n",
    "modelx.compile(loss='mse', optimizer=\"adam\")\n",
    "print (modelx.summary())"
   ]
  },
  {
   "cell_type": "code",
   "execution_count": null,
   "metadata": {
    "scrolled": true
   },
   "outputs": [],
   "source": [
    "history = modelx.fit(X_train2,y_train2_2, epochs=epoch_count, batch_size=256, validation_split = 0.1)"
   ]
  },
  {
   "cell_type": "code",
   "execution_count": null,
   "metadata": {},
   "outputs": [],
   "source": [
    "y_pred2=modelx.predict(X_test2,verbose=1)\n",
    "\n",
    "print('MSE: ',mean_squared_error([float(x) for x in y_test2_2], [float(x) for x in y_pred2]))\n",
    "\n",
    "#plt.axis([0, 1.1, 0, 1.1])\n",
    "#plt.scatter((y_pred2),(y_test2_2))\n",
    "print('Correlation cof matrix:')\n",
    "print(np.corrcoef([float(x) for x in y_pred2], [float(x) for x in y_test2_2]))\n",
    "X_addC = sm.add_constant([float(x) for x in y_test2_2])\n",
    "result = sm.OLS([float(x) for x in y_pred2], X_addC).fit()\n",
    "print('R2:',result.rsquared,'R2 adj:', result.rsquared_adj)"
   ]
  },
  {
   "cell_type": "code",
   "execution_count": null,
   "metadata": {},
   "outputs": [],
   "source": []
  },
  {
   "cell_type": "code",
   "execution_count": null,
   "metadata": {},
   "outputs": [],
   "source": [
    "inputA = keras.Input(shape=(199,),name='inputx')\n",
    "\n",
    "\n",
    "x = layers.Embedding(embed_smiles,12, input_length=199)(inputA)\n",
    "x = layers.Permute((2,1))(x)\n",
    "x = layers.LSTM(32,return_sequences=False)(x)\n",
    "\n",
    "p = layers.Dense(64, activation='relu')(x)\n",
    "\n",
    "p = layers.Dense(32, activation='relu')(x)\n",
    "\n",
    "p = layers.Dense(1, activation=\"linear\",dtype='float32',name=\"ratio\")(p)\n",
    "\n",
    "\n",
    "modelx = keras.Model(inputs=inputA, outputs=p)\n",
    "\n",
    "modelx.compile(loss='mse', optimizer=\"adam\")\n",
    "print (modelx.summary())"
   ]
  },
  {
   "cell_type": "code",
   "execution_count": null,
   "metadata": {
    "scrolled": true
   },
   "outputs": [],
   "source": [
    "history = modelx.fit(X_train2,y_train2_2, epochs=epoch_count, batch_size=256, validation_split = 0.1)"
   ]
  },
  {
   "cell_type": "code",
   "execution_count": null,
   "metadata": {},
   "outputs": [],
   "source": [
    "y_pred2=modelx.predict(X_test2,verbose=1)\n",
    "\n",
    "print('MSE: ',mean_squared_error([float(x) for x in y_test2_2], [float(x) for x in y_pred2]))\n",
    "\n",
    "#plt.axis([0, 1.1, 0, 1.1])\n",
    "#plt.scatter((y_pred2),(y_test2_2))\n",
    "print('Correlation cof matrix:')\n",
    "print(np.corrcoef([float(x) for x in y_pred2], [float(x) for x in y_test2_2]))\n",
    "X_addC = sm.add_constant([float(x) for x in y_test2_2])\n",
    "result = sm.OLS([float(x) for x in y_pred2], X_addC).fit()\n",
    "print('R2:',result.rsquared,'R2 adj:', result.rsquared_adj)"
   ]
  },
  {
   "cell_type": "code",
   "execution_count": null,
   "metadata": {},
   "outputs": [],
   "source": [
    "inputA = keras.Input(shape=(199,),name='inputx')\n",
    "\n",
    "\n",
    "x = layers.Embedding(embed_smiles,12, input_length=199)(inputA)\n",
    "\n",
    "k = layers.Conv1D(32,12,activation='relu')(x)\n",
    "k = layers.AveragePooling1D(3)(k)\n",
    "k = layers.Conv1D(32,12,activation='relu')(k)\n",
    "k = layers.AveragePooling1D(3)(k)\n",
    "k = layers.Conv1D(32,5,activation='relu')(k)\n",
    "k = layers.AveragePooling1D(3)(k)\n",
    "\n",
    "k = layers.Flatten()(k)\n",
    "\n",
    "p = layers.Dense(32, activation='relu')(k)\n",
    "\n",
    "#p = layers.Dense(64, activation='relu')(p)\n",
    "\n",
    "p = layers.Dense(1, activation=\"linear\",dtype='float32',name=\"ratio\")(p)\n",
    "\n",
    "\n",
    "modelx = keras.Model(inputs=inputA, outputs=p)\n",
    "\n",
    "modelx.compile(loss='mse', optimizer=\"adam\")\n",
    "modelx.summary()"
   ]
  },
  {
   "cell_type": "code",
   "execution_count": null,
   "metadata": {
    "scrolled": true
   },
   "outputs": [],
   "source": [
    "history = modelx.fit(X_train2,y_train2_2, epochs=epoch_count, batch_size=256, validation_split = 0.1)\n"
   ]
  },
  {
   "cell_type": "code",
   "execution_count": null,
   "metadata": {},
   "outputs": [],
   "source": [
    "y_pred2=modelx.predict(X_test2,verbose=1)\n",
    "\n",
    "print('MSE: ',mean_squared_error([float(x) for x in y_test2_2], [float(x) for x in y_pred2]))\n",
    "\n",
    "#plt.axis([0, 1.1, 0, 1.1])\n",
    "#plt.scatter((y_pred2),(y_test2_2))\n",
    "print('Correlation cof matrix:')\n",
    "print(np.corrcoef([float(x) for x in y_pred2], [float(x) for x in y_test2_2]))\n",
    "X_addC = sm.add_constant([float(x) for x in y_test2_2])\n",
    "result = sm.OLS([float(x) for x in y_pred2], X_addC).fit()\n",
    "print('R2:',result.rsquared,'R2 adj:', result.rsquared_adj)"
   ]
  },
  {
   "cell_type": "code",
   "execution_count": null,
   "metadata": {},
   "outputs": [],
   "source": []
  }
 ],
 "metadata": {
  "kernelspec": {
   "display_name": "Python 3",
   "language": "python",
   "name": "python3"
  },
  "language_info": {
   "codemirror_mode": {
    "name": "ipython",
    "version": 3
   },
   "file_extension": ".py",
   "mimetype": "text/x-python",
   "name": "python",
   "nbconvert_exporter": "python",
   "pygments_lexer": "ipython3",
   "version": "3.6.13"
  }
 },
 "nbformat": 4,
 "nbformat_minor": 4
}
