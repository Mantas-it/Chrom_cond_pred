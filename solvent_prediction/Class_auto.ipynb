{
 "cells": [
  {
   "cell_type": "code",
   "execution_count": null,
   "metadata": {},
   "outputs": [],
   "source": [
    "Morgan\n"
   ]
  },
  {
   "cell_type": "code",
   "execution_count": 1,
   "metadata": {},
   "outputs": [],
   "source": [
    "from tensorflow import keras\n",
    "import tensorflow as tf\n",
    "#import os\n",
    "import pandas as pd\n",
    "import numpy as np\n",
    "#from rdkit import Chem\n",
    "#from rdkit.Chem import Draw, Descriptors\n",
    "#from matplotlib import pyplot as plt\n",
    "from sklearn.model_selection import train_test_split\n",
    "#from keras import optimizers\n",
    "#from tqdm import tqdm\n",
    "#%matplotlib inline\n",
    "from tensorflow.keras import layers\n",
    "from tensorflow import nn\n",
    "import collections\n",
    "#from hyperopt import Trials, STATUS_OK, tpe\n",
    "#from hyperas import optim\n",
    "#from hyperas.distributions import choice, uniform\n",
    "from rdkit.Chem import Descriptors\n",
    "from rdkit import Chem\n",
    "#from tensorflow.keras.mixed_precision import LossScaleOptimizer\n",
    "#policy = LossScaleOptimizer('mixed_float16')\n",
    "#mixed_precision.set_policy(policy)\n",
    "import matplotlib.pyplot as plt\n",
    "from sklearn.metrics import classification_report, accuracy_score, multilabel_confusion_matrix"
   ]
  },
  {
   "cell_type": "code",
   "execution_count": 2,
   "metadata": {},
   "outputs": [],
   "source": [
    "def get_best_s():\n",
    "    zest = [0.1,0.2,0.3,0.4,0.5,0.6,0.7,0.8,0.9]\n",
    "    zesp = 0.2\n",
    "    zel = []\n",
    "    maxpr = 0\n",
    "    best_nr = 0\n",
    "    bad_count = 0\n",
    "    for zzyz in range(0,100):\n",
    "\n",
    "        try:\n",
    "            preds1 = pred_model.predict(X_test2,verbose=0,batch_size=512)\n",
    "            #print(preds1)\n",
    "            #print(y_test2)\n",
    "            preds1[preds1>=zesp] = 1\n",
    "            preds1[preds1<1-zesp] = 0\n",
    "            klkl = accuracy_score(y_test2_2, preds1)\n",
    "\n",
    "            if klkl > maxpr:\n",
    "                maxpr = klkl\n",
    "                best_nr = zesp\n",
    "            #print (klkl)\n",
    "        except:\n",
    "            bad_count +=1\n",
    "        if bad_count >4:\n",
    "            break\n",
    "        zesp+=0.005\n",
    "        zel.append(klkl)\n",
    "    #print(best_nr)\n",
    "    #plt.plot(zel)\n",
    "    print(maxpr)\n",
    "    #print(np.array(zel).max())\n",
    "    #plt.plot(zel)\n",
    "    return best_nr"
   ]
  },
  {
   "cell_type": "code",
   "execution_count": 3,
   "metadata": {},
   "outputs": [],
   "source": [
    "data = pd.read_csv('pur_nord_5.csv', sep=\"\\t\",low_memory=False)\n",
    "X_train = np.load(\"X_train_n_5.npy\")"
   ]
  },
  {
   "cell_type": "code",
   "execution_count": 4,
   "metadata": {},
   "outputs": [
    {
     "data": {
      "text/plain": [
       "454259"
      ]
     },
     "execution_count": 4,
     "metadata": {},
     "output_type": "execute_result"
    }
   ],
   "source": [
    "len(data)"
   ]
  },
  {
   "cell_type": "code",
   "execution_count": 5,
   "metadata": {},
   "outputs": [],
   "source": [
    "X_train_flat = X_train.reshape((len(X_train), np.prod(X_train.shape[1:])))"
   ]
  },
  {
   "cell_type": "code",
   "execution_count": 6,
   "metadata": {},
   "outputs": [
    {
     "name": "stdout",
     "output_type": "stream",
     "text": [
      "Counter({'ethyl_acetate': 283612, 'hexane': 173175, 'dichloromethane': 95159, 'methanol': 94029, 'chloroform': 35091, 'petroleum_ether': 18849, 'diethyl_ether': 8825, 'toluene': 8484, 'acetone': 6821, 'ethanol': 3804})\n",
      "{'toluene': 0, 'acetone': 1, 'diethyl_ether': 2, 'ethanol': 3, 'petroleum_ether': 4, 'hexane': 5, 'dichloromethane': 6, 'methanol': 7, 'ethyl_acetate': 8, 'chloroform': 9}\n",
      "10\n"
     ]
    }
   ],
   "source": [
    "charset_t = collections.Counter((\" \".join(list(data.crude))).split(' '))\n",
    "print(charset_t)\n",
    "charset_t=set(charset_t)\n",
    "char_to_int_t = dict((c,i) for i,c in enumerate(charset_t))\n",
    "int_to_char_t = dict((i,c) for i,c in enumerate(charset_t))\n",
    "print(char_to_int_t)\n",
    "embed_t =  len(charset_t)\n",
    "print(embed_t)\n",
    "one_hot_y = np.zeros((len(data), (len(charset_t)) ),dtype=np.int8)\n",
    "len(one_hot_y[0])\n",
    "for i,nam in enumerate(data['crude']):\n",
    "    list_short = list(nam.split(\" \"))\n",
    "    first = True\n",
    "    for z, name in enumerate(list_short):\n",
    "        if first == True:\n",
    "            one_hot_y[i][char_to_int_t[name]] = 1\n",
    "            #first = False\n",
    "        #elif first !=True:\n",
    "        #    one_hot_y[i][char_to_int_t[name]+11] = 1\n",
    "            \n",
    "Y_train = np.array(one_hot_y)"
   ]
  },
  {
   "cell_type": "code",
   "execution_count": 7,
   "metadata": {},
   "outputs": [],
   "source": [
    "X_train2, X_test2, y_train2_2,y_test2_2  = train_test_split(X_train,Y_train, test_size=0.1,shuffle=True)"
   ]
  },
  {
   "cell_type": "code",
   "execution_count": 32,
   "metadata": {},
   "outputs": [
    {
     "name": "stdout",
     "output_type": "stream",
     "text": [
      "Model: \"model_5\"\n",
      "_________________________________________________________________\n",
      "Layer (type)                 Output Shape              Param #   \n",
      "=================================================================\n",
      "input_4 (InputLayer)         [(None, 8, 512)]          0         \n",
      "_________________________________________________________________\n",
      "lstm_2 (LSTM)                (None, 512)               2099200   \n",
      "=================================================================\n",
      "Total params: 2,099,200\n",
      "Trainable params: 2,099,200\n",
      "Non-trainable params: 0\n",
      "_________________________________________________________________\n"
     ]
    }
   ],
   "source": [
    "######## LSTM ~~~~~~~~~~~~~~\n",
    "encoding_dim = 512  # 32 floats -> compression of factor 24.5, assuming the input is 784 floats\n",
    "\n",
    "# This is our input image\n",
    "input_img = keras.Input(shape=(8,512,))\n",
    "# \"encoded\" is the encoded representation of the input\n",
    "encoded = layers.LSTM(encoding_dim)(input_img)\n",
    "# \"decoded\" is the lossy reconstruction of the input\n",
    "\n",
    "decoded = layers.Dense(4096, activation='sigmoid')(encoded)\n",
    "#resh = layers.Reshape((8,512))(decoded)\n",
    "# This model maps an input to its reconstruction\n",
    "autoencoder = keras.Model(input_img, decoded)\n",
    "#encoder = keras.Model(input_img, encoded)\n",
    "autoencoder.compile(optimizer='adam', loss='binary_crossentropy')\n",
    "encoder = keras.Model(input_img, encoded)\n",
    "encoder.compile(optimizer='adam', loss='binary_crossentropy')\n",
    "encoder.summary()"
   ]
  },
  {
   "cell_type": "code",
   "execution_count": null,
   "metadata": {},
   "outputs": [],
   "source": [
    "encoder = keras.Model(input_img, encoded)\n",
    "encoder.compile(optimizer='adam', loss='binary_crossentropy')"
   ]
  },
  {
   "cell_type": "code",
   "execution_count": 3,
   "metadata": {},
   "outputs": [
    {
     "data": {
      "image/png": "[encoded data removed]",
      "text/plain": [
       "<IPython.core.display.Image object>"
      ]
     },
     "execution_count": 3,
     "metadata": {},
     "output_type": "execute_result"
    }
   ],
   "source": [
    "tf.keras.utils.plot_model(\n",
    "    autoencoder,\n",
    "    to_file=\"model.png\",show_shapes=True,show_layer_names=False)"
   ]
  },
  {
   "cell_type": "code",
   "execution_count": 33,
   "metadata": {
    "scrolled": true
   },
   "outputs": [
    {
     "name": "stdout",
     "output_type": "stream",
     "text": [
      "Epoch 1/20\n",
      "888/888 [==============================] - 15s 15ms/step - loss: 0.1474\n",
      "Epoch 2/20\n",
      "888/888 [==============================] - 14s 15ms/step - loss: 0.1076\n",
      "Epoch 3/20\n",
      "888/888 [==============================] - 14s 16ms/step - loss: 0.0930\n",
      "Epoch 4/20\n",
      "888/888 [==============================] - 14s 16ms/step - loss: 0.0869\n",
      "Epoch 5/20\n",
      "888/888 [==============================] - 14s 16ms/step - loss: 0.0817\n",
      "Epoch 6/20\n",
      "888/888 [==============================] - 14s 16ms/step - loss: 0.0753\n",
      "Epoch 7/20\n",
      "888/888 [==============================] - 14s 16ms/step - loss: 0.0681\n",
      "Epoch 8/20\n",
      "888/888 [==============================] - 14s 16ms/step - loss: 0.0611\n",
      "Epoch 9/20\n",
      "888/888 [==============================] - 14s 16ms/step - loss: 0.0558\n",
      "Epoch 10/20\n",
      "888/888 [==============================] - 14s 16ms/step - loss: 0.0517\n",
      "Epoch 11/20\n",
      "888/888 [==============================] - 14s 16ms/step - loss: 0.0476\n",
      "Epoch 12/20\n",
      "888/888 [==============================] - 14s 16ms/step - loss: 0.0442\n",
      "Epoch 13/20\n",
      "759/888 [========================>.....] - ETA: 2s - loss: 0.0414"
     ]
    },
    {
     "ename": "KeyboardInterrupt",
     "evalue": "",
     "output_type": "error",
     "traceback": [
      "\u001b[1;31m---------------------------------------------------------------------------\u001b[0m",
      "\u001b[1;31mKeyboardInterrupt\u001b[0m                         Traceback (most recent call last)",
      "\u001b[1;32m<ipython-input-33-6aa9197a60ea>\u001b[0m in \u001b[0;36m<module>\u001b[1;34m\u001b[0m\n\u001b[1;32m----> 1\u001b[1;33m \u001b[0mhistory\u001b[0m\u001b[1;33m=\u001b[0m\u001b[0mautoencoder\u001b[0m\u001b[1;33m.\u001b[0m\u001b[0mfit\u001b[0m\u001b[1;33m(\u001b[0m\u001b[0mX_train\u001b[0m\u001b[1;33m,\u001b[0m \u001b[0mX_train_flat\u001b[0m\u001b[1;33m,\u001b[0m\u001b[0mepochs\u001b[0m\u001b[1;33m=\u001b[0m\u001b[1;36m20\u001b[0m\u001b[1;33m,\u001b[0m\u001b[0mbatch_size\u001b[0m\u001b[1;33m=\u001b[0m\u001b[1;36m512\u001b[0m\u001b[1;33m,\u001b[0m\u001b[0mshuffle\u001b[0m\u001b[1;33m=\u001b[0m\u001b[1;32mTrue\u001b[0m\u001b[1;33m)\u001b[0m\u001b[1;33m\u001b[0m\u001b[1;33m\u001b[0m\u001b[0m\n\u001b[0m",
      "\u001b[1;32m~\\.conda\\envs\\TF_24\\lib\\site-packages\\tensorflow\\python\\keras\\engine\\training.py\u001b[0m in \u001b[0;36mfit\u001b[1;34m(self, x, y, batch_size, epochs, verbose, callbacks, validation_split, validation_data, shuffle, class_weight, sample_weight, initial_epoch, steps_per_epoch, validation_steps, validation_batch_size, validation_freq, max_queue_size, workers, use_multiprocessing)\u001b[0m\n\u001b[0;32m   1098\u001b[0m                 _r=1):\n\u001b[0;32m   1099\u001b[0m               \u001b[0mcallbacks\u001b[0m\u001b[1;33m.\u001b[0m\u001b[0mon_train_batch_begin\u001b[0m\u001b[1;33m(\u001b[0m\u001b[0mstep\u001b[0m\u001b[1;33m)\u001b[0m\u001b[1;33m\u001b[0m\u001b[1;33m\u001b[0m\u001b[0m\n\u001b[1;32m-> 1100\u001b[1;33m               \u001b[0mtmp_logs\u001b[0m \u001b[1;33m=\u001b[0m \u001b[0mself\u001b[0m\u001b[1;33m.\u001b[0m\u001b[0mtrain_function\u001b[0m\u001b[1;33m(\u001b[0m\u001b[0miterator\u001b[0m\u001b[1;33m)\u001b[0m\u001b[1;33m\u001b[0m\u001b[1;33m\u001b[0m\u001b[0m\n\u001b[0m\u001b[0;32m   1101\u001b[0m               \u001b[1;32mif\u001b[0m \u001b[0mdata_handler\u001b[0m\u001b[1;33m.\u001b[0m\u001b[0mshould_sync\u001b[0m\u001b[1;33m:\u001b[0m\u001b[1;33m\u001b[0m\u001b[1;33m\u001b[0m\u001b[0m\n\u001b[0;32m   1102\u001b[0m                 \u001b[0mcontext\u001b[0m\u001b[1;33m.\u001b[0m\u001b[0masync_wait\u001b[0m\u001b[1;33m(\u001b[0m\u001b[1;33m)\u001b[0m\u001b[1;33m\u001b[0m\u001b[1;33m\u001b[0m\u001b[0m\n",
      "\u001b[1;32m~\\.conda\\envs\\TF_24\\lib\\site-packages\\tensorflow\\python\\eager\\def_function.py\u001b[0m in \u001b[0;36m__call__\u001b[1;34m(self, *args, **kwds)\u001b[0m\n\u001b[0;32m    826\u001b[0m     \u001b[0mtracing_count\u001b[0m \u001b[1;33m=\u001b[0m \u001b[0mself\u001b[0m\u001b[1;33m.\u001b[0m\u001b[0mexperimental_get_tracing_count\u001b[0m\u001b[1;33m(\u001b[0m\u001b[1;33m)\u001b[0m\u001b[1;33m\u001b[0m\u001b[1;33m\u001b[0m\u001b[0m\n\u001b[0;32m    827\u001b[0m     \u001b[1;32mwith\u001b[0m \u001b[0mtrace\u001b[0m\u001b[1;33m.\u001b[0m\u001b[0mTrace\u001b[0m\u001b[1;33m(\u001b[0m\u001b[0mself\u001b[0m\u001b[1;33m.\u001b[0m\u001b[0m_name\u001b[0m\u001b[1;33m)\u001b[0m \u001b[1;32mas\u001b[0m \u001b[0mtm\u001b[0m\u001b[1;33m:\u001b[0m\u001b[1;33m\u001b[0m\u001b[1;33m\u001b[0m\u001b[0m\n\u001b[1;32m--> 828\u001b[1;33m       \u001b[0mresult\u001b[0m \u001b[1;33m=\u001b[0m \u001b[0mself\u001b[0m\u001b[1;33m.\u001b[0m\u001b[0m_call\u001b[0m\u001b[1;33m(\u001b[0m\u001b[1;33m*\u001b[0m\u001b[0margs\u001b[0m\u001b[1;33m,\u001b[0m \u001b[1;33m**\u001b[0m\u001b[0mkwds\u001b[0m\u001b[1;33m)\u001b[0m\u001b[1;33m\u001b[0m\u001b[1;33m\u001b[0m\u001b[0m\n\u001b[0m\u001b[0;32m    829\u001b[0m       \u001b[0mcompiler\u001b[0m \u001b[1;33m=\u001b[0m \u001b[1;34m\"xla\"\u001b[0m \u001b[1;32mif\u001b[0m \u001b[0mself\u001b[0m\u001b[1;33m.\u001b[0m\u001b[0m_experimental_compile\u001b[0m \u001b[1;32melse\u001b[0m \u001b[1;34m\"nonXla\"\u001b[0m\u001b[1;33m\u001b[0m\u001b[1;33m\u001b[0m\u001b[0m\n\u001b[0;32m    830\u001b[0m       \u001b[0mnew_tracing_count\u001b[0m \u001b[1;33m=\u001b[0m \u001b[0mself\u001b[0m\u001b[1;33m.\u001b[0m\u001b[0mexperimental_get_tracing_count\u001b[0m\u001b[1;33m(\u001b[0m\u001b[1;33m)\u001b[0m\u001b[1;33m\u001b[0m\u001b[1;33m\u001b[0m\u001b[0m\n",
      "\u001b[1;32m~\\.conda\\envs\\TF_24\\lib\\site-packages\\tensorflow\\python\\eager\\def_function.py\u001b[0m in \u001b[0;36m_call\u001b[1;34m(self, *args, **kwds)\u001b[0m\n\u001b[0;32m    853\u001b[0m       \u001b[1;31m# In this case we have created variables on the first call, so we run the\u001b[0m\u001b[1;33m\u001b[0m\u001b[1;33m\u001b[0m\u001b[1;33m\u001b[0m\u001b[0m\n\u001b[0;32m    854\u001b[0m       \u001b[1;31m# defunned version which is guaranteed to never create variables.\u001b[0m\u001b[1;33m\u001b[0m\u001b[1;33m\u001b[0m\u001b[1;33m\u001b[0m\u001b[0m\n\u001b[1;32m--> 855\u001b[1;33m       \u001b[1;32mreturn\u001b[0m \u001b[0mself\u001b[0m\u001b[1;33m.\u001b[0m\u001b[0m_stateless_fn\u001b[0m\u001b[1;33m(\u001b[0m\u001b[1;33m*\u001b[0m\u001b[0margs\u001b[0m\u001b[1;33m,\u001b[0m \u001b[1;33m**\u001b[0m\u001b[0mkwds\u001b[0m\u001b[1;33m)\u001b[0m  \u001b[1;31m# pylint: disable=not-callable\u001b[0m\u001b[1;33m\u001b[0m\u001b[1;33m\u001b[0m\u001b[0m\n\u001b[0m\u001b[0;32m    856\u001b[0m     \u001b[1;32melif\u001b[0m \u001b[0mself\u001b[0m\u001b[1;33m.\u001b[0m\u001b[0m_stateful_fn\u001b[0m \u001b[1;32mis\u001b[0m \u001b[1;32mnot\u001b[0m \u001b[1;32mNone\u001b[0m\u001b[1;33m:\u001b[0m\u001b[1;33m\u001b[0m\u001b[1;33m\u001b[0m\u001b[0m\n\u001b[0;32m    857\u001b[0m       \u001b[1;31m# Release the lock early so that multiple threads can perform the call\u001b[0m\u001b[1;33m\u001b[0m\u001b[1;33m\u001b[0m\u001b[1;33m\u001b[0m\u001b[0m\n",
      "\u001b[1;32m~\\.conda\\envs\\TF_24\\lib\\site-packages\\tensorflow\\python\\eager\\function.py\u001b[0m in \u001b[0;36m__call__\u001b[1;34m(self, *args, **kwargs)\u001b[0m\n\u001b[0;32m   2940\u001b[0m       (graph_function,\n\u001b[0;32m   2941\u001b[0m        filtered_flat_args) = self._maybe_define_function(args, kwargs)\n\u001b[1;32m-> 2942\u001b[1;33m     return graph_function._call_flat(\n\u001b[0m\u001b[0;32m   2943\u001b[0m         filtered_flat_args, captured_inputs=graph_function.captured_inputs)  # pylint: disable=protected-access\n\u001b[0;32m   2944\u001b[0m \u001b[1;33m\u001b[0m\u001b[0m\n",
      "\u001b[1;32m~\\.conda\\envs\\TF_24\\lib\\site-packages\\tensorflow\\python\\eager\\function.py\u001b[0m in \u001b[0;36m_call_flat\u001b[1;34m(self, args, captured_inputs, cancellation_manager)\u001b[0m\n\u001b[0;32m   1916\u001b[0m         and executing_eagerly):\n\u001b[0;32m   1917\u001b[0m       \u001b[1;31m# No tape is watching; skip to running the function.\u001b[0m\u001b[1;33m\u001b[0m\u001b[1;33m\u001b[0m\u001b[1;33m\u001b[0m\u001b[0m\n\u001b[1;32m-> 1918\u001b[1;33m       return self._build_call_outputs(self._inference_function.call(\n\u001b[0m\u001b[0;32m   1919\u001b[0m           ctx, args, cancellation_manager=cancellation_manager))\n\u001b[0;32m   1920\u001b[0m     forward_backward = self._select_forward_and_backward_functions(\n",
      "\u001b[1;32m~\\.conda\\envs\\TF_24\\lib\\site-packages\\tensorflow\\python\\eager\\function.py\u001b[0m in \u001b[0;36mcall\u001b[1;34m(self, ctx, args, cancellation_manager)\u001b[0m\n\u001b[0;32m    553\u001b[0m       \u001b[1;32mwith\u001b[0m \u001b[0m_InterpolateFunctionError\u001b[0m\u001b[1;33m(\u001b[0m\u001b[0mself\u001b[0m\u001b[1;33m)\u001b[0m\u001b[1;33m:\u001b[0m\u001b[1;33m\u001b[0m\u001b[1;33m\u001b[0m\u001b[0m\n\u001b[0;32m    554\u001b[0m         \u001b[1;32mif\u001b[0m \u001b[0mcancellation_manager\u001b[0m \u001b[1;32mis\u001b[0m \u001b[1;32mNone\u001b[0m\u001b[1;33m:\u001b[0m\u001b[1;33m\u001b[0m\u001b[1;33m\u001b[0m\u001b[0m\n\u001b[1;32m--> 555\u001b[1;33m           outputs = execute.execute(\n\u001b[0m\u001b[0;32m    556\u001b[0m               \u001b[0mstr\u001b[0m\u001b[1;33m(\u001b[0m\u001b[0mself\u001b[0m\u001b[1;33m.\u001b[0m\u001b[0msignature\u001b[0m\u001b[1;33m.\u001b[0m\u001b[0mname\u001b[0m\u001b[1;33m)\u001b[0m\u001b[1;33m,\u001b[0m\u001b[1;33m\u001b[0m\u001b[1;33m\u001b[0m\u001b[0m\n\u001b[0;32m    557\u001b[0m               \u001b[0mnum_outputs\u001b[0m\u001b[1;33m=\u001b[0m\u001b[0mself\u001b[0m\u001b[1;33m.\u001b[0m\u001b[0m_num_outputs\u001b[0m\u001b[1;33m,\u001b[0m\u001b[1;33m\u001b[0m\u001b[1;33m\u001b[0m\u001b[0m\n",
      "\u001b[1;32m~\\.conda\\envs\\TF_24\\lib\\site-packages\\tensorflow\\python\\eager\\execute.py\u001b[0m in \u001b[0;36mquick_execute\u001b[1;34m(op_name, num_outputs, inputs, attrs, ctx, name)\u001b[0m\n\u001b[0;32m     57\u001b[0m   \u001b[1;32mtry\u001b[0m\u001b[1;33m:\u001b[0m\u001b[1;33m\u001b[0m\u001b[1;33m\u001b[0m\u001b[0m\n\u001b[0;32m     58\u001b[0m     \u001b[0mctx\u001b[0m\u001b[1;33m.\u001b[0m\u001b[0mensure_initialized\u001b[0m\u001b[1;33m(\u001b[0m\u001b[1;33m)\u001b[0m\u001b[1;33m\u001b[0m\u001b[1;33m\u001b[0m\u001b[0m\n\u001b[1;32m---> 59\u001b[1;33m     tensors = pywrap_tfe.TFE_Py_Execute(ctx._handle, device_name, op_name,\n\u001b[0m\u001b[0;32m     60\u001b[0m                                         inputs, attrs, num_outputs)\n\u001b[0;32m     61\u001b[0m   \u001b[1;32mexcept\u001b[0m \u001b[0mcore\u001b[0m\u001b[1;33m.\u001b[0m\u001b[0m_NotOkStatusException\u001b[0m \u001b[1;32mas\u001b[0m \u001b[0me\u001b[0m\u001b[1;33m:\u001b[0m\u001b[1;33m\u001b[0m\u001b[1;33m\u001b[0m\u001b[0m\n",
      "\u001b[1;31mKeyboardInterrupt\u001b[0m: "
     ]
    }
   ],
   "source": [
    "history=autoencoder.fit(X_train, X_train_flat,epochs=20,batch_size=512,shuffle=True)"
   ]
  },
  {
   "cell_type": "code",
   "execution_count": 20,
   "metadata": {},
   "outputs": [
    {
     "data": {
      "text/plain": [
       "array([[[0, 0, 0, ..., 0, 0, 0],\n",
       "        [0, 0, 0, ..., 0, 0, 0],\n",
       "        [0, 0, 0, ..., 0, 0, 0],\n",
       "        ...,\n",
       "        [0, 0, 0, ..., 0, 0, 0],\n",
       "        [0, 0, 0, ..., 0, 0, 0],\n",
       "        [0, 0, 0, ..., 0, 0, 0]]], dtype=int8)"
      ]
     },
     "execution_count": 20,
     "metadata": {},
     "output_type": "execute_result"
    }
   ],
   "source": [
    "X_train[:1]"
   ]
  },
  {
   "cell_type": "code",
   "execution_count": 34,
   "metadata": {},
   "outputs": [],
   "source": [
    "aa = encoder.predict(X_trainv)"
   ]
  },
  {
   "cell_type": "code",
   "execution_count": 35,
   "metadata": {},
   "outputs": [],
   "source": [
    "aaa=np.reshape(aa,(16,32))"
   ]
  },
  {
   "cell_type": "code",
   "execution_count": 36,
   "metadata": {},
   "outputs": [
    {
     "data": {
      "image/png": "[encoded data removed]",
      "text/plain": [
       "<Figure size 432x288 with 1 Axes>"
      ]
     },
     "metadata": {
      "needs_background": "light"
     },
     "output_type": "display_data"
    }
   ],
   "source": [
    "plt.imshow(aaa, cmap='gray', interpolation='nearest')\n",
    "plt.show()"
   ]
  },
  {
   "cell_type": "code",
   "execution_count": 31,
   "metadata": {},
   "outputs": [
    {
     "data": {
      "image/png": "[encoded data removed]",
      "text/plain": [
       "<Figure size 432x288 with 1 Axes>"
      ]
     },
     "metadata": {
      "needs_background": "light"
     },
     "output_type": "display_data"
    }
   ],
   "source": [
    "plt.imshow(np.reshape(X_train[0],(64,64)), cmap='gray', interpolation='nearest')\n",
    "plt.show()"
   ]
  },
  {
   "cell_type": "code",
   "execution_count": 10,
   "metadata": {},
   "outputs": [
    {
     "name": "stdout",
     "output_type": "stream",
     "text": [
      "Model: \"model_1\"\n",
      "_________________________________________________________________\n",
      "Layer (type)                 Output Shape              Param #   \n",
      "=================================================================\n",
      "input_2 (InputLayer)         [(None, 8, 512)]          0         \n",
      "_________________________________________________________________\n",
      "lstm (LSTM)                  (None, 512)               2099200   \n",
      "_________________________________________________________________\n",
      "dense_1 (Dense)              (None, 256)               131328    \n",
      "_________________________________________________________________\n",
      "dense_2 (Dense)              (None, 128)               32896     \n",
      "_________________________________________________________________\n",
      "classification (Dense)       (None, 10)                1290      \n",
      "=================================================================\n",
      "Total params: 2,264,714\n",
      "Trainable params: 165,514\n",
      "Non-trainable params: 2,099,200\n",
      "_________________________________________________________________\n"
     ]
    }
   ],
   "source": [
    "input_img = keras.Input(shape=(8,512,))\n",
    "\n",
    "#input_to_model = encoder\n",
    "#x = layers.Dense(32,activation='relu')(input_to_model)\n",
    "'''\n",
    "enc2 = encoder.layers[-8](input_img)\n",
    "enc2 = encoder.layers[-7](enc2)\n",
    "enc2 = encoder.layers[-6](enc2)\n",
    "enc2 = encoder.layers[-5](enc2)\n",
    "\n",
    "enc2 = encoder.layers[-4](enc2)\n",
    "enc2 = encoder.layers[-3](enc2)\n",
    "\n",
    "\n",
    "enc2 = encoder.layers[-2](enc2)\n",
    "'''\n",
    "enc2 = autoencoder.layers[1](input_img)\n",
    "\n",
    "#ls = layers.Dense(64, activation=\"relu\")(enc2)\n",
    "ls = layers.Dense(256, activation=\"relu\")(enc2)\n",
    "ls = layers.Dense(128, activation=\"relu\")(ls)\n",
    "p = layers.Dense(10, activation=\"sigmoid\",dtype='float32',name=\"classification\")(ls)\n",
    "\n",
    "\n",
    "pred_model = keras.Model(input_img, p)\n",
    "pred_model.compile(loss='binary_crossentropy', optimizer=\"adam\", metrics='binary_accuracy')\n",
    "pred_model.layers[1].trainable=False\n",
    "pred_model.summary()"
   ]
  },
  {
   "cell_type": "code",
   "execution_count": 11,
   "metadata": {},
   "outputs": [
    {
     "data": {
      "image/png": "[encoded data removed]",
      "text/plain": [
       "<IPython.core.display.Image object>"
      ]
     },
     "execution_count": 11,
     "metadata": {},
     "output_type": "execute_result"
    }
   ],
   "source": [
    "tf.keras.utils.plot_model(\n",
    "    pred_model,\n",
    "    to_file=\"model.png\",show_shapes=True,show_layer_names=False)"
   ]
  },
  {
   "cell_type": "code",
   "execution_count": 16,
   "metadata": {
    "scrolled": true
   },
   "outputs": [
    {
     "name": "stdout",
     "output_type": "stream",
     "text": [
      "Epoch 1/40\n",
      "1518/1518 [==============================] - 14s 9ms/step - loss: 0.0075 - binary_accuracy: 0.9975 - val_loss: 0.0262 - val_binary_accuracy: 0.9921\n",
      "Epoch 2/40\n",
      "1518/1518 [==============================] - 14s 9ms/step - loss: 0.0069 - binary_accuracy: 0.9977 - val_loss: 0.0268 - val_binary_accuracy: 0.9919\n",
      "Epoch 3/40\n",
      "1518/1518 [==============================] - 14s 9ms/step - loss: 0.0069 - binary_accuracy: 0.9977 - val_loss: 0.0266 - val_binary_accuracy: 0.9919\n",
      "Epoch 4/40\n",
      "1518/1518 [==============================] - 14s 9ms/step - loss: 0.0066 - binary_accuracy: 0.9978 - val_loss: 0.0273 - val_binary_accuracy: 0.9916\n",
      "Epoch 5/40\n",
      "1518/1518 [==============================] - 14s 9ms/step - loss: 0.0060 - binary_accuracy: 0.9980 - val_loss: 0.0239 - val_binary_accuracy: 0.9928\n",
      "Epoch 6/40\n",
      "1518/1518 [==============================] - 14s 9ms/step - loss: 0.0063 - binary_accuracy: 0.9980 - val_loss: 0.0259 - val_binary_accuracy: 0.9923\n",
      "Epoch 7/40\n",
      "1518/1518 [==============================] - 14s 9ms/step - loss: 0.0058 - binary_accuracy: 0.9981 - val_loss: 0.0254 - val_binary_accuracy: 0.9923\n",
      "Epoch 8/40\n",
      "1518/1518 [==============================] - 14s 9ms/step - loss: 0.0055 - binary_accuracy: 0.9982 - val_loss: 0.0242 - val_binary_accuracy: 0.9928\n",
      "Epoch 9/40\n",
      " 313/1518 [=====>........................] - ETA: 11s - loss: 0.0047 - binary_accuracy: 0.9984"
     ]
    },
    {
     "ename": "KeyboardInterrupt",
     "evalue": "",
     "output_type": "error",
     "traceback": [
      "\u001b[1;31m---------------------------------------------------------------------------\u001b[0m",
      "\u001b[1;31mKeyboardInterrupt\u001b[0m                         Traceback (most recent call last)",
      "\u001b[1;32m<ipython-input-16-d9856603dbe7>\u001b[0m in \u001b[0;36m<module>\u001b[1;34m\u001b[0m\n\u001b[1;32m----> 1\u001b[1;33m \u001b[0mhistory\u001b[0m\u001b[1;33m=\u001b[0m\u001b[0mpred_model\u001b[0m\u001b[1;33m.\u001b[0m\u001b[0mfit\u001b[0m\u001b[1;33m(\u001b[0m\u001b[0mX_train2\u001b[0m\u001b[1;33m,\u001b[0m \u001b[0my_train2_2\u001b[0m\u001b[1;33m,\u001b[0m\u001b[0mepochs\u001b[0m\u001b[1;33m=\u001b[0m\u001b[1;36m40\u001b[0m\u001b[1;33m,\u001b[0m\u001b[0mbatch_size\u001b[0m\u001b[1;33m=\u001b[0m\u001b[1;36m256\u001b[0m\u001b[1;33m,\u001b[0m\u001b[0mshuffle\u001b[0m\u001b[1;33m=\u001b[0m\u001b[1;32mTrue\u001b[0m\u001b[1;33m,\u001b[0m\u001b[0mvalidation_split\u001b[0m\u001b[1;33m=\u001b[0m\u001b[1;36m0.05\u001b[0m\u001b[1;33m)\u001b[0m\u001b[1;33m\u001b[0m\u001b[1;33m\u001b[0m\u001b[0m\n\u001b[0m\u001b[0;32m      2\u001b[0m \u001b[0mplt\u001b[0m\u001b[1;33m.\u001b[0m\u001b[0mplot\u001b[0m\u001b[1;33m(\u001b[0m\u001b[0mhistory\u001b[0m\u001b[1;33m.\u001b[0m\u001b[0mhistory\u001b[0m\u001b[1;33m[\u001b[0m\u001b[1;34m'loss'\u001b[0m\u001b[1;33m]\u001b[0m\u001b[1;33m)\u001b[0m\u001b[1;33m\u001b[0m\u001b[1;33m\u001b[0m\u001b[0m\n\u001b[0;32m      3\u001b[0m \u001b[0mplt\u001b[0m\u001b[1;33m.\u001b[0m\u001b[0mplot\u001b[0m\u001b[1;33m(\u001b[0m\u001b[0mhistory\u001b[0m\u001b[1;33m.\u001b[0m\u001b[0mhistory\u001b[0m\u001b[1;33m[\u001b[0m\u001b[1;34m'val_loss'\u001b[0m\u001b[1;33m]\u001b[0m\u001b[1;33m)\u001b[0m\u001b[1;33m\u001b[0m\u001b[1;33m\u001b[0m\u001b[0m\n\u001b[0;32m      4\u001b[0m \u001b[0mplt\u001b[0m\u001b[1;33m.\u001b[0m\u001b[0mtitle\u001b[0m\u001b[1;33m(\u001b[0m\u001b[1;34m'model loss'\u001b[0m\u001b[1;33m)\u001b[0m\u001b[1;33m\u001b[0m\u001b[1;33m\u001b[0m\u001b[0m\n\u001b[0;32m      5\u001b[0m \u001b[0mplt\u001b[0m\u001b[1;33m.\u001b[0m\u001b[0mylabel\u001b[0m\u001b[1;33m(\u001b[0m\u001b[1;34m'loss'\u001b[0m\u001b[1;33m)\u001b[0m\u001b[1;33m\u001b[0m\u001b[1;33m\u001b[0m\u001b[0m\n",
      "\u001b[1;32m~\\.conda\\envs\\TF_24\\lib\\site-packages\\tensorflow\\python\\keras\\engine\\training.py\u001b[0m in \u001b[0;36mfit\u001b[1;34m(self, x, y, batch_size, epochs, verbose, callbacks, validation_split, validation_data, shuffle, class_weight, sample_weight, initial_epoch, steps_per_epoch, validation_steps, validation_batch_size, validation_freq, max_queue_size, workers, use_multiprocessing)\u001b[0m\n\u001b[0;32m   1098\u001b[0m                 _r=1):\n\u001b[0;32m   1099\u001b[0m               \u001b[0mcallbacks\u001b[0m\u001b[1;33m.\u001b[0m\u001b[0mon_train_batch_begin\u001b[0m\u001b[1;33m(\u001b[0m\u001b[0mstep\u001b[0m\u001b[1;33m)\u001b[0m\u001b[1;33m\u001b[0m\u001b[1;33m\u001b[0m\u001b[0m\n\u001b[1;32m-> 1100\u001b[1;33m               \u001b[0mtmp_logs\u001b[0m \u001b[1;33m=\u001b[0m \u001b[0mself\u001b[0m\u001b[1;33m.\u001b[0m\u001b[0mtrain_function\u001b[0m\u001b[1;33m(\u001b[0m\u001b[0miterator\u001b[0m\u001b[1;33m)\u001b[0m\u001b[1;33m\u001b[0m\u001b[1;33m\u001b[0m\u001b[0m\n\u001b[0m\u001b[0;32m   1101\u001b[0m               \u001b[1;32mif\u001b[0m \u001b[0mdata_handler\u001b[0m\u001b[1;33m.\u001b[0m\u001b[0mshould_sync\u001b[0m\u001b[1;33m:\u001b[0m\u001b[1;33m\u001b[0m\u001b[1;33m\u001b[0m\u001b[0m\n\u001b[0;32m   1102\u001b[0m                 \u001b[0mcontext\u001b[0m\u001b[1;33m.\u001b[0m\u001b[0masync_wait\u001b[0m\u001b[1;33m(\u001b[0m\u001b[1;33m)\u001b[0m\u001b[1;33m\u001b[0m\u001b[1;33m\u001b[0m\u001b[0m\n",
      "\u001b[1;32m~\\.conda\\envs\\TF_24\\lib\\site-packages\\tensorflow\\python\\eager\\def_function.py\u001b[0m in \u001b[0;36m__call__\u001b[1;34m(self, *args, **kwds)\u001b[0m\n\u001b[0;32m    826\u001b[0m     \u001b[0mtracing_count\u001b[0m \u001b[1;33m=\u001b[0m \u001b[0mself\u001b[0m\u001b[1;33m.\u001b[0m\u001b[0mexperimental_get_tracing_count\u001b[0m\u001b[1;33m(\u001b[0m\u001b[1;33m)\u001b[0m\u001b[1;33m\u001b[0m\u001b[1;33m\u001b[0m\u001b[0m\n\u001b[0;32m    827\u001b[0m     \u001b[1;32mwith\u001b[0m \u001b[0mtrace\u001b[0m\u001b[1;33m.\u001b[0m\u001b[0mTrace\u001b[0m\u001b[1;33m(\u001b[0m\u001b[0mself\u001b[0m\u001b[1;33m.\u001b[0m\u001b[0m_name\u001b[0m\u001b[1;33m)\u001b[0m \u001b[1;32mas\u001b[0m \u001b[0mtm\u001b[0m\u001b[1;33m:\u001b[0m\u001b[1;33m\u001b[0m\u001b[1;33m\u001b[0m\u001b[0m\n\u001b[1;32m--> 828\u001b[1;33m       \u001b[0mresult\u001b[0m \u001b[1;33m=\u001b[0m \u001b[0mself\u001b[0m\u001b[1;33m.\u001b[0m\u001b[0m_call\u001b[0m\u001b[1;33m(\u001b[0m\u001b[1;33m*\u001b[0m\u001b[0margs\u001b[0m\u001b[1;33m,\u001b[0m \u001b[1;33m**\u001b[0m\u001b[0mkwds\u001b[0m\u001b[1;33m)\u001b[0m\u001b[1;33m\u001b[0m\u001b[1;33m\u001b[0m\u001b[0m\n\u001b[0m\u001b[0;32m    829\u001b[0m       \u001b[0mcompiler\u001b[0m \u001b[1;33m=\u001b[0m \u001b[1;34m\"xla\"\u001b[0m \u001b[1;32mif\u001b[0m \u001b[0mself\u001b[0m\u001b[1;33m.\u001b[0m\u001b[0m_experimental_compile\u001b[0m \u001b[1;32melse\u001b[0m \u001b[1;34m\"nonXla\"\u001b[0m\u001b[1;33m\u001b[0m\u001b[1;33m\u001b[0m\u001b[0m\n\u001b[0;32m    830\u001b[0m       \u001b[0mnew_tracing_count\u001b[0m \u001b[1;33m=\u001b[0m \u001b[0mself\u001b[0m\u001b[1;33m.\u001b[0m\u001b[0mexperimental_get_tracing_count\u001b[0m\u001b[1;33m(\u001b[0m\u001b[1;33m)\u001b[0m\u001b[1;33m\u001b[0m\u001b[1;33m\u001b[0m\u001b[0m\n",
      "\u001b[1;32m~\\.conda\\envs\\TF_24\\lib\\site-packages\\tensorflow\\python\\eager\\def_function.py\u001b[0m in \u001b[0;36m_call\u001b[1;34m(self, *args, **kwds)\u001b[0m\n\u001b[0;32m    853\u001b[0m       \u001b[1;31m# In this case we have created variables on the first call, so we run the\u001b[0m\u001b[1;33m\u001b[0m\u001b[1;33m\u001b[0m\u001b[1;33m\u001b[0m\u001b[0m\n\u001b[0;32m    854\u001b[0m       \u001b[1;31m# defunned version which is guaranteed to never create variables.\u001b[0m\u001b[1;33m\u001b[0m\u001b[1;33m\u001b[0m\u001b[1;33m\u001b[0m\u001b[0m\n\u001b[1;32m--> 855\u001b[1;33m       \u001b[1;32mreturn\u001b[0m \u001b[0mself\u001b[0m\u001b[1;33m.\u001b[0m\u001b[0m_stateless_fn\u001b[0m\u001b[1;33m(\u001b[0m\u001b[1;33m*\u001b[0m\u001b[0margs\u001b[0m\u001b[1;33m,\u001b[0m \u001b[1;33m**\u001b[0m\u001b[0mkwds\u001b[0m\u001b[1;33m)\u001b[0m  \u001b[1;31m# pylint: disable=not-callable\u001b[0m\u001b[1;33m\u001b[0m\u001b[1;33m\u001b[0m\u001b[0m\n\u001b[0m\u001b[0;32m    856\u001b[0m     \u001b[1;32melif\u001b[0m \u001b[0mself\u001b[0m\u001b[1;33m.\u001b[0m\u001b[0m_stateful_fn\u001b[0m \u001b[1;32mis\u001b[0m \u001b[1;32mnot\u001b[0m \u001b[1;32mNone\u001b[0m\u001b[1;33m:\u001b[0m\u001b[1;33m\u001b[0m\u001b[1;33m\u001b[0m\u001b[0m\n\u001b[0;32m    857\u001b[0m       \u001b[1;31m# Release the lock early so that multiple threads can perform the call\u001b[0m\u001b[1;33m\u001b[0m\u001b[1;33m\u001b[0m\u001b[1;33m\u001b[0m\u001b[0m\n",
      "\u001b[1;32m~\\.conda\\envs\\TF_24\\lib\\site-packages\\tensorflow\\python\\eager\\function.py\u001b[0m in \u001b[0;36m__call__\u001b[1;34m(self, *args, **kwargs)\u001b[0m\n\u001b[0;32m   2940\u001b[0m       (graph_function,\n\u001b[0;32m   2941\u001b[0m        filtered_flat_args) = self._maybe_define_function(args, kwargs)\n\u001b[1;32m-> 2942\u001b[1;33m     return graph_function._call_flat(\n\u001b[0m\u001b[0;32m   2943\u001b[0m         filtered_flat_args, captured_inputs=graph_function.captured_inputs)  # pylint: disable=protected-access\n\u001b[0;32m   2944\u001b[0m \u001b[1;33m\u001b[0m\u001b[0m\n",
      "\u001b[1;32m~\\.conda\\envs\\TF_24\\lib\\site-packages\\tensorflow\\python\\eager\\function.py\u001b[0m in \u001b[0;36m_call_flat\u001b[1;34m(self, args, captured_inputs, cancellation_manager)\u001b[0m\n\u001b[0;32m   1916\u001b[0m         and executing_eagerly):\n\u001b[0;32m   1917\u001b[0m       \u001b[1;31m# No tape is watching; skip to running the function.\u001b[0m\u001b[1;33m\u001b[0m\u001b[1;33m\u001b[0m\u001b[1;33m\u001b[0m\u001b[0m\n\u001b[1;32m-> 1918\u001b[1;33m       return self._build_call_outputs(self._inference_function.call(\n\u001b[0m\u001b[0;32m   1919\u001b[0m           ctx, args, cancellation_manager=cancellation_manager))\n\u001b[0;32m   1920\u001b[0m     forward_backward = self._select_forward_and_backward_functions(\n",
      "\u001b[1;32m~\\.conda\\envs\\TF_24\\lib\\site-packages\\tensorflow\\python\\eager\\function.py\u001b[0m in \u001b[0;36mcall\u001b[1;34m(self, ctx, args, cancellation_manager)\u001b[0m\n\u001b[0;32m    553\u001b[0m       \u001b[1;32mwith\u001b[0m \u001b[0m_InterpolateFunctionError\u001b[0m\u001b[1;33m(\u001b[0m\u001b[0mself\u001b[0m\u001b[1;33m)\u001b[0m\u001b[1;33m:\u001b[0m\u001b[1;33m\u001b[0m\u001b[1;33m\u001b[0m\u001b[0m\n\u001b[0;32m    554\u001b[0m         \u001b[1;32mif\u001b[0m \u001b[0mcancellation_manager\u001b[0m \u001b[1;32mis\u001b[0m \u001b[1;32mNone\u001b[0m\u001b[1;33m:\u001b[0m\u001b[1;33m\u001b[0m\u001b[1;33m\u001b[0m\u001b[0m\n\u001b[1;32m--> 555\u001b[1;33m           outputs = execute.execute(\n\u001b[0m\u001b[0;32m    556\u001b[0m               \u001b[0mstr\u001b[0m\u001b[1;33m(\u001b[0m\u001b[0mself\u001b[0m\u001b[1;33m.\u001b[0m\u001b[0msignature\u001b[0m\u001b[1;33m.\u001b[0m\u001b[0mname\u001b[0m\u001b[1;33m)\u001b[0m\u001b[1;33m,\u001b[0m\u001b[1;33m\u001b[0m\u001b[1;33m\u001b[0m\u001b[0m\n\u001b[0;32m    557\u001b[0m               \u001b[0mnum_outputs\u001b[0m\u001b[1;33m=\u001b[0m\u001b[0mself\u001b[0m\u001b[1;33m.\u001b[0m\u001b[0m_num_outputs\u001b[0m\u001b[1;33m,\u001b[0m\u001b[1;33m\u001b[0m\u001b[1;33m\u001b[0m\u001b[0m\n",
      "\u001b[1;32m~\\.conda\\envs\\TF_24\\lib\\site-packages\\tensorflow\\python\\eager\\execute.py\u001b[0m in \u001b[0;36mquick_execute\u001b[1;34m(op_name, num_outputs, inputs, attrs, ctx, name)\u001b[0m\n\u001b[0;32m     57\u001b[0m   \u001b[1;32mtry\u001b[0m\u001b[1;33m:\u001b[0m\u001b[1;33m\u001b[0m\u001b[1;33m\u001b[0m\u001b[0m\n\u001b[0;32m     58\u001b[0m     \u001b[0mctx\u001b[0m\u001b[1;33m.\u001b[0m\u001b[0mensure_initialized\u001b[0m\u001b[1;33m(\u001b[0m\u001b[1;33m)\u001b[0m\u001b[1;33m\u001b[0m\u001b[1;33m\u001b[0m\u001b[0m\n\u001b[1;32m---> 59\u001b[1;33m     tensors = pywrap_tfe.TFE_Py_Execute(ctx._handle, device_name, op_name,\n\u001b[0m\u001b[0;32m     60\u001b[0m                                         inputs, attrs, num_outputs)\n\u001b[0;32m     61\u001b[0m   \u001b[1;32mexcept\u001b[0m \u001b[0mcore\u001b[0m\u001b[1;33m.\u001b[0m\u001b[0m_NotOkStatusException\u001b[0m \u001b[1;32mas\u001b[0m \u001b[0me\u001b[0m\u001b[1;33m:\u001b[0m\u001b[1;33m\u001b[0m\u001b[1;33m\u001b[0m\u001b[0m\n",
      "\u001b[1;31mKeyboardInterrupt\u001b[0m: "
     ]
    }
   ],
   "source": [
    "history=pred_model.fit(X_train2, y_train2_2,epochs=40,batch_size=256,shuffle=True,validation_split=0.05)\n",
    "plt.plot(history.history['loss'])\n",
    "plt.plot(history.history['val_loss'])\n",
    "plt.title('model loss')\n",
    "plt.ylabel('loss')\n",
    "plt.xlabel('epoch')\n",
    "plt.legend(['train', 'test'], loc='upper left')\n",
    "plt.show()"
   ]
  },
  {
   "cell_type": "code",
   "execution_count": null,
   "metadata": {},
   "outputs": [],
   "source": []
  },
  {
   "cell_type": "code",
   "execution_count": 17,
   "metadata": {},
   "outputs": [
    {
     "name": "stdout",
     "output_type": "stream",
     "text": [
      "89/89 [==============================] - 1s 6ms/step\n",
      "0.9472548760621671\n",
      "0.9472548760621671\n",
      "                 precision    recall  f1-score   support\n",
      "\n",
      "        toluene      0.974     0.935     0.954       836\n",
      "        acetone      0.964     0.939     0.951       688\n",
      "  diethyl_ether      0.921     0.951     0.936       899\n",
      "        ethanol      0.949     0.967     0.958       362\n",
      "petroleum_ether      0.956     0.947     0.952      1857\n",
      "         hexane      0.969     0.979     0.974     17318\n",
      "dichloromethane      0.980     0.956     0.968      9507\n",
      "       methanol      0.979     0.964     0.972      9377\n",
      "  ethyl_acetate      0.983     0.990     0.986     28441\n",
      "     chloroform      0.976     0.955     0.966      3478\n",
      "\n",
      "      micro avg      0.976     0.975     0.976     72763\n",
      "      macro avg      0.965     0.958     0.962     72763\n",
      "   weighted avg      0.976     0.975     0.976     72763\n",
      "    samples avg      0.976     0.976     0.973     72763\n",
      "\n",
      "[[[44569    21]\n",
      "  [   54   782]]\n",
      "\n",
      " [[44714    24]\n",
      "  [   42   646]]\n",
      "\n",
      " [[44454    73]\n",
      "  [   44   855]]\n",
      "\n",
      " [[45045    19]\n",
      "  [   12   350]]\n",
      "\n",
      " [[43489    80]\n",
      "  [   98  1759]]\n",
      "\n",
      " [[27573   535]\n",
      "  [  366 16952]]\n",
      "\n",
      " [[35732   187]\n",
      "  [  421  9086]]\n",
      "\n",
      " [[35859   190]\n",
      "  [  337  9040]]\n",
      "\n",
      " [[16484   501]\n",
      "  [  296 28145]]\n",
      "\n",
      " [[41867    81]\n",
      "  [  155  3323]]]\n"
     ]
    }
   ],
   "source": [
    "preds1 = pred_model.predict(X_test2,verbose=1,batch_size=512)\n",
    "#print(preds1)\n",
    "#print(y_test2)\n",
    "ac_sc = get_best_s()\n",
    "preds1[preds1>=ac_sc] = 1\n",
    "preds1[preds1<1-ac_sc] = 0\n",
    "print (accuracy_score(y_test2_2, preds1))\n",
    "print (classification_report(y_test2_2, preds1,target_names = char_to_int_t.keys(), digits = 3))\n",
    "print (multilabel_confusion_matrix(y_test2_2, preds1))"
   ]
  },
  {
   "cell_type": "code",
   "execution_count": 14,
   "metadata": {},
   "outputs": [
    {
     "data": {
      "text/plain": [
       "10"
      ]
     },
     "execution_count": 14,
     "metadata": {},
     "output_type": "execute_result"
    }
   ],
   "source": [
    "embed_t"
   ]
  },
  {
   "cell_type": "code",
   "execution_count": 41,
   "metadata": {},
   "outputs": [],
   "source": [
    "X_train2, X_test2, y_train2_2,y_test2_2  = train_test_split(X_train_flat,Y_train, test_size=0.1,shuffle=True)"
   ]
  },
  {
   "cell_type": "code",
   "execution_count": 4,
   "metadata": {},
   "outputs": [
    {
     "name": "stdout",
     "output_type": "stream",
     "text": [
      "Model: \"model_1\"\n",
      "_________________________________________________________________\n",
      "Layer (type)                 Output Shape              Param #   \n",
      "=================================================================\n",
      "input_2 (InputLayer)         [(None, 4096)]            0         \n",
      "_________________________________________________________________\n",
      "dense_1 (Dense)              (None, 512)               2097664   \n",
      "_________________________________________________________________\n",
      "dense_2 (Dense)              (None, 4096)              2101248   \n",
      "=================================================================\n",
      "Total params: 4,198,912\n",
      "Trainable params: 4,198,912\n",
      "Non-trainable params: 0\n",
      "_________________________________________________________________\n"
     ]
    }
   ],
   "source": [
    "######## Dense ~~~~~~~~~~~~~~\n",
    "encoding_dim = 512  # 32 floats -> compression of factor 24.5, assuming the input is 784 floats\n",
    "\n",
    "# This is our input image\n",
    "input_img = keras.Input(shape=(4096,))\n",
    "# \"encoded\" is the encoded representation of the input\n",
    "encoded = layers.Dense(encoding_dim,activation='relu')(input_img)\n",
    "# \"decoded\" is the lossy reconstruction of the input\n",
    "\n",
    "decoded = layers.Dense(4096, activation='sigmoid')(encoded)\n",
    "#resh = layers.Reshape((8,512))(encoded)\n",
    "# This model maps an input to its reconstruction\n",
    "autoencoder = keras.Model(input_img, decoded)\n",
    "autoencoder.compile(optimizer='adam', loss='binary_crossentropy')\n",
    "autoencoder.summary()"
   ]
  },
  {
   "cell_type": "code",
   "execution_count": 5,
   "metadata": {},
   "outputs": [
    {
     "data": {
      "image/png": "[encoded data removed]",
      "text/plain": [
       "<IPython.core.display.Image object>"
      ]
     },
     "execution_count": 5,
     "metadata": {},
     "output_type": "execute_result"
    }
   ],
   "source": [
    "tf.keras.utils.plot_model(\n",
    "    autoencoder,\n",
    "    to_file=\"model.png\",show_shapes=True,show_layer_names=False)"
   ]
  },
  {
   "cell_type": "code",
   "execution_count": 40,
   "metadata": {
    "scrolled": true
   },
   "outputs": [
    {
     "name": "stdout",
     "output_type": "stream",
     "text": [
      "Epoch 1/20\n",
      "888/888 [==============================] - 6s 6ms/step - loss: 0.1254\n",
      "Epoch 2/20\n",
      "888/888 [==============================] - 6s 6ms/step - loss: 0.0381\n",
      "Epoch 3/20\n",
      "888/888 [==============================] - 6s 6ms/step - loss: 0.0211\n",
      "Epoch 4/20\n",
      "888/888 [==============================] - 6s 6ms/step - loss: 0.0163\n",
      "Epoch 5/20\n",
      "888/888 [==============================] - 6s 6ms/step - loss: 0.0143\n",
      "Epoch 6/20\n",
      "888/888 [==============================] - 6s 6ms/step - loss: 0.0131\n",
      "Epoch 7/20\n",
      "888/888 [==============================] - 6s 6ms/step - loss: 0.0123\n",
      "Epoch 8/20\n",
      "888/888 [==============================] - 6s 6ms/step - loss: 0.0118\n",
      "Epoch 9/20\n",
      "888/888 [==============================] - 6s 6ms/step - loss: 0.0113\n",
      "Epoch 10/20\n",
      "888/888 [==============================] - 6s 6ms/step - loss: 0.0110\n",
      "Epoch 11/20\n",
      "888/888 [==============================] - 6s 6ms/step - loss: 0.0107\n",
      "Epoch 12/20\n",
      "888/888 [==============================] - 6s 6ms/step - loss: 0.0105\n",
      "Epoch 13/20\n",
      "888/888 [==============================] - 6s 6ms/step - loss: 0.0103\n",
      "Epoch 14/20\n",
      "888/888 [==============================] - 6s 6ms/step - loss: 0.0101\n",
      "Epoch 15/20\n",
      "888/888 [==============================] - 6s 6ms/step - loss: 0.0100\n",
      "Epoch 16/20\n",
      "888/888 [==============================] - 6s 6ms/step - loss: 0.0099\n",
      "Epoch 17/20\n",
      "888/888 [==============================] - 6s 6ms/step - loss: 0.0097\n",
      "Epoch 18/20\n",
      "888/888 [==============================] - 6s 6ms/step - loss: 0.0097\n",
      "Epoch 19/20\n",
      "888/888 [==============================] - 6s 6ms/step - loss: 0.0096\n",
      "Epoch 20/20\n",
      "888/888 [==============================] - 6s 6ms/step - loss: 0.0095\n"
     ]
    }
   ],
   "source": [
    "history=autoencoder.fit(X_train_flat, X_train_flat,epochs=20,batch_size=512,shuffle=True)"
   ]
  },
  {
   "cell_type": "code",
   "execution_count": 42,
   "metadata": {},
   "outputs": [
    {
     "name": "stdout",
     "output_type": "stream",
     "text": [
      "Model: \"model_15\"\n",
      "_________________________________________________________________\n",
      "Layer (type)                 Output Shape              Param #   \n",
      "=================================================================\n",
      "input_16 (InputLayer)        [(None, 4096)]            0         \n",
      "_________________________________________________________________\n",
      "dense_25 (Dense)             (None, 512)               2097664   \n",
      "_________________________________________________________________\n",
      "dense_27 (Dense)             (None, 256)               131328    \n",
      "_________________________________________________________________\n",
      "dense_28 (Dense)             (None, 128)               32896     \n",
      "_________________________________________________________________\n",
      "classification (Dense)       (None, 10)                1290      \n",
      "=================================================================\n",
      "Total params: 2,263,178\n",
      "Trainable params: 165,514\n",
      "Non-trainable params: 2,097,664\n",
      "_________________________________________________________________\n"
     ]
    }
   ],
   "source": [
    "input_img = keras.Input(shape=(4096,))\n",
    "\n",
    "#input_to_model = encoder\n",
    "#x = layers.Dense(32,activation='relu')(input_to_model)\n",
    "\n",
    "'''\n",
    "enc2 = encoder.layers[-8](input_img)\n",
    "enc2 = encoder.layers[-7](enc2)\n",
    "enc2 = encoder.layers[-6](enc2)\n",
    "enc2 = encoder.layers[-5](enc2)\n",
    "\n",
    "enc2 = encoder.layers[-4](enc2)\n",
    "enc2 = encoder.layers[-3](enc2)\n",
    "\n",
    "\n",
    "enc2 = encoder.layers[-2](enc2)\n",
    "'''\n",
    "enc2 = autoencoder.layers[1](input_img)\n",
    "\n",
    "#ls = layers.Dense(64, activation=\"relu\")(enc2)\n",
    "ls = layers.Dense(256, activation=\"relu\")(enc2)\n",
    "ls = layers.Dense(128, activation=\"relu\")(ls)\n",
    "p = layers.Dense(10, activation=\"sigmoid\",dtype='float32',name=\"classification\")(ls)\n",
    "\n",
    "\n",
    "pred_model = keras.Model(input_img, p)\n",
    "pred_model.compile(loss='binary_crossentropy', optimizer=\"adam\", metrics='binary_accuracy')\n",
    "pred_model.layers[1].trainable=False\n",
    "pred_model.summary()"
   ]
  },
  {
   "cell_type": "code",
   "execution_count": 44,
   "metadata": {
    "scrolled": true
   },
   "outputs": [
    {
     "name": "stdout",
     "output_type": "stream",
     "text": [
      "Epoch 1/40\n",
      "1518/1518 [==============================] - 7s 4ms/step - loss: 0.3010 - binary_accuracy: 0.8702 - val_loss: 0.2640 - val_binary_accuracy: 0.8850\n",
      "Epoch 2/40\n",
      "1518/1518 [==============================] - 6s 4ms/step - loss: 0.2513 - binary_accuracy: 0.8915 - val_loss: 0.2365 - val_binary_accuracy: 0.9001\n",
      "Epoch 3/40\n",
      "1518/1518 [==============================] - 6s 4ms/step - loss: 0.2085 - binary_accuracy: 0.9133 - val_loss: 0.2119 - val_binary_accuracy: 0.9120\n",
      "Epoch 4/40\n",
      "1518/1518 [==============================] - 7s 4ms/step - loss: 0.1646 - binary_accuracy: 0.9339 - val_loss: 0.1979 - val_binary_accuracy: 0.9200\n",
      "Epoch 5/40\n",
      "1518/1518 [==============================] - 7s 4ms/step - loss: 0.1277 - binary_accuracy: 0.9499 - val_loss: 0.1859 - val_binary_accuracy: 0.9272\n",
      "Epoch 6/40\n",
      "1518/1518 [==============================] - 6s 4ms/step - loss: 0.1003 - binary_accuracy: 0.9613 - val_loss: 0.1878 - val_binary_accuracy: 0.9304\n",
      "Epoch 7/40\n",
      "1518/1518 [==============================] - 6s 4ms/step - loss: 0.0786 - binary_accuracy: 0.9702 - val_loss: 0.1868 - val_binary_accuracy: 0.9353\n",
      "Epoch 8/40\n",
      "1518/1518 [==============================] - 6s 4ms/step - loss: 0.0619 - binary_accuracy: 0.9770 - val_loss: 0.1988 - val_binary_accuracy: 0.9376\n",
      "Epoch 9/40\n",
      "1518/1518 [==============================] - 6s 4ms/step - loss: 0.0493 - binary_accuracy: 0.9818 - val_loss: 0.2052 - val_binary_accuracy: 0.9392\n",
      "Epoch 10/40\n",
      "1518/1518 [==============================] - 6s 4ms/step - loss: 0.0405 - binary_accuracy: 0.9852 - val_loss: 0.2106 - val_binary_accuracy: 0.9411\n",
      "Epoch 11/40\n",
      "1518/1518 [==============================] - 6s 4ms/step - loss: 0.0338 - binary_accuracy: 0.9879 - val_loss: 0.2256 - val_binary_accuracy: 0.9418\n",
      "Epoch 12/40\n",
      "1518/1518 [==============================] - 6s 4ms/step - loss: 0.0290 - binary_accuracy: 0.9895 - val_loss: 0.2288 - val_binary_accuracy: 0.9432\n",
      "Epoch 13/40\n",
      "1518/1518 [==============================] - 7s 4ms/step - loss: 0.0253 - binary_accuracy: 0.9910 - val_loss: 0.2423 - val_binary_accuracy: 0.9435\n",
      "Epoch 14/40\n",
      "1518/1518 [==============================] - 6s 4ms/step - loss: 0.0222 - binary_accuracy: 0.9922 - val_loss: 0.2487 - val_binary_accuracy: 0.9436\n",
      "Epoch 15/40\n",
      "1518/1518 [==============================] - 6s 4ms/step - loss: 0.0200 - binary_accuracy: 0.9930 - val_loss: 0.2529 - val_binary_accuracy: 0.9451\n",
      "Epoch 16/40\n",
      "1518/1518 [==============================] - 7s 4ms/step - loss: 0.0177 - binary_accuracy: 0.9938 - val_loss: 0.2669 - val_binary_accuracy: 0.9462\n",
      "Epoch 17/40\n",
      "1518/1518 [==============================] - 6s 4ms/step - loss: 0.0169 - binary_accuracy: 0.9941 - val_loss: 0.2676 - val_binary_accuracy: 0.9458\n",
      "Epoch 18/40\n",
      "1518/1518 [==============================] - 6s 4ms/step - loss: 0.0156 - binary_accuracy: 0.9947 - val_loss: 0.2847 - val_binary_accuracy: 0.9472\n",
      "Epoch 19/40\n",
      "1518/1518 [==============================] - 6s 4ms/step - loss: 0.0144 - binary_accuracy: 0.9950 - val_loss: 0.2800 - val_binary_accuracy: 0.9466\n",
      "Epoch 20/40\n",
      "1518/1518 [==============================] - 6s 4ms/step - loss: 0.0137 - binary_accuracy: 0.9954 - val_loss: 0.2811 - val_binary_accuracy: 0.9473\n",
      "Epoch 21/40\n",
      "1518/1518 [==============================] - 6s 4ms/step - loss: 0.0138 - binary_accuracy: 0.9954 - val_loss: 0.2894 - val_binary_accuracy: 0.9483\n",
      "Epoch 22/40\n",
      "1518/1518 [==============================] - 6s 4ms/step - loss: 0.0118 - binary_accuracy: 0.9961 - val_loss: 0.2889 - val_binary_accuracy: 0.9486\n",
      "Epoch 23/40\n",
      "1518/1518 [==============================] - 6s 4ms/step - loss: 0.0114 - binary_accuracy: 0.9962 - val_loss: 0.2890 - val_binary_accuracy: 0.9490\n",
      "Epoch 24/40\n",
      "1518/1518 [==============================] - 6s 4ms/step - loss: 0.0114 - binary_accuracy: 0.9962 - val_loss: 0.2955 - val_binary_accuracy: 0.9488\n",
      "Epoch 25/40\n",
      "1518/1518 [==============================] - 6s 4ms/step - loss: 0.0109 - binary_accuracy: 0.9964 - val_loss: 0.2900 - val_binary_accuracy: 0.9499\n",
      "Epoch 26/40\n",
      "1518/1518 [==============================] - 6s 4ms/step - loss: 0.0098 - binary_accuracy: 0.9967 - val_loss: 0.2915 - val_binary_accuracy: 0.9493\n",
      "Epoch 27/40\n",
      "1518/1518 [==============================] - 6s 4ms/step - loss: 0.0105 - binary_accuracy: 0.9966 - val_loss: 0.2860 - val_binary_accuracy: 0.9498\n",
      "Epoch 28/40\n",
      "1518/1518 [==============================] - 6s 4ms/step - loss: 0.0097 - binary_accuracy: 0.9968 - val_loss: 0.3096 - val_binary_accuracy: 0.9506\n",
      "Epoch 29/40\n",
      "1518/1518 [==============================] - 7s 4ms/step - loss: 0.0094 - binary_accuracy: 0.9969 - val_loss: 0.2933 - val_binary_accuracy: 0.9509\n",
      "Epoch 30/40\n",
      "1518/1518 [==============================] - 7s 4ms/step - loss: 0.0089 - binary_accuracy: 0.9971 - val_loss: 0.3021 - val_binary_accuracy: 0.9505\n",
      "Epoch 31/40\n",
      "1518/1518 [==============================] - 7s 4ms/step - loss: 0.0087 - binary_accuracy: 0.9972 - val_loss: 0.3039 - val_binary_accuracy: 0.9509\n",
      "Epoch 32/40\n",
      "1518/1518 [==============================] - 7s 4ms/step - loss: 0.0083 - binary_accuracy: 0.9973 - val_loss: 0.3012 - val_binary_accuracy: 0.9513\n",
      "Epoch 33/40\n",
      "1518/1518 [==============================] - 7s 4ms/step - loss: 0.0084 - binary_accuracy: 0.9972 - val_loss: 0.3099 - val_binary_accuracy: 0.9511\n",
      "Epoch 34/40\n",
      "1518/1518 [==============================] - 6s 4ms/step - loss: 0.0077 - binary_accuracy: 0.9975 - val_loss: 0.3082 - val_binary_accuracy: 0.9502\n",
      "Epoch 35/40\n",
      "1518/1518 [==============================] - 6s 4ms/step - loss: 0.0078 - binary_accuracy: 0.9975 - val_loss: 0.3127 - val_binary_accuracy: 0.9515\n",
      "Epoch 36/40\n",
      "1518/1518 [==============================] - 6s 4ms/step - loss: 0.0075 - binary_accuracy: 0.9976 - val_loss: 0.3132 - val_binary_accuracy: 0.9511\n",
      "Epoch 37/40\n",
      "1518/1518 [==============================] - 6s 4ms/step - loss: 0.0076 - binary_accuracy: 0.9976 - val_loss: 0.3055 - val_binary_accuracy: 0.9518\n",
      "Epoch 38/40\n",
      "1518/1518 [==============================] - 7s 4ms/step - loss: 0.0069 - binary_accuracy: 0.9977 - val_loss: 0.3125 - val_binary_accuracy: 0.9528\n",
      "Epoch 39/40\n",
      "1518/1518 [==============================] - 6s 4ms/step - loss: 0.0069 - binary_accuracy: 0.9978 - val_loss: 0.3180 - val_binary_accuracy: 0.9526\n",
      "Epoch 40/40\n",
      "1518/1518 [==============================] - 6s 4ms/step - loss: 0.0070 - binary_accuracy: 0.9978 - val_loss: 0.3061 - val_binary_accuracy: 0.9523\n"
     ]
    },
    {
     "data": {
      "image/png": "[encoded data removed]",
      "text/plain": [
       "<Figure size 432x288 with 1 Axes>"
      ]
     },
     "metadata": {
      "needs_background": "light"
     },
     "output_type": "display_data"
    }
   ],
   "source": [
    "history=pred_model.fit(X_train2, y_train2_2,epochs=40,batch_size=256,shuffle=True,validation_split=0.05)\n",
    "plt.plot(history.history['loss'])\n",
    "plt.plot(history.history['val_loss'])\n",
    "plt.title('model loss')\n",
    "plt.ylabel('loss')\n",
    "plt.xlabel('epoch')\n",
    "plt.legend(['train', 'test'], loc='upper left')\n",
    "plt.show()"
   ]
  },
  {
   "cell_type": "code",
   "execution_count": 45,
   "metadata": {},
   "outputs": [
    {
     "name": "stdout",
     "output_type": "stream",
     "text": [
      "89/89 [==============================] - 0s 2ms/step\n",
      "0.6898912517060715\n",
      "0.6898912517060715\n",
      "              precision    recall  f1-score   support\n",
      "\n",
      "           0       0.80      0.73      0.76      3547\n",
      "           1       0.80      0.80      0.80      9529\n",
      "           2       0.90      0.92      0.91     28310\n",
      "           3       0.69      0.56      0.62       972\n",
      "           4       0.84      0.84      0.84     17324\n",
      "           5       0.72      0.66      0.69      1911\n",
      "           6       0.82      0.61      0.70       691\n",
      "           7       0.76      0.65      0.70       846\n",
      "           8       0.88      0.80      0.83      9432\n",
      "           9       0.74      0.59      0.65       341\n",
      "\n",
      "   micro avg       0.85      0.84      0.85     72903\n",
      "   macro avg       0.79      0.72      0.75     72903\n",
      "weighted avg       0.85      0.84      0.85     72903\n",
      " samples avg       0.84      0.84      0.83     72903\n",
      "\n",
      "[[[41241   638]\n",
      "  [  975  2572]]\n",
      "\n",
      " [[33953  1944]\n",
      "  [ 1947  7582]]\n",
      "\n",
      " [[14119  2997]\n",
      "  [ 2237 26073]]\n",
      "\n",
      " [[44207   247]\n",
      "  [  423   549]]\n",
      "\n",
      " [[25381  2721]\n",
      "  [ 2752 14572]]\n",
      "\n",
      " [[43030   485]\n",
      "  [  652  1259]]\n",
      "\n",
      " [[44641    94]\n",
      "  [  268   423]]\n",
      "\n",
      " [[44406   174]\n",
      "  [  294   552]]\n",
      "\n",
      " [[34924  1070]\n",
      "  [ 1918  7514]]\n",
      "\n",
      " [[45014    71]\n",
      "  [  141   200]]]\n"
     ]
    }
   ],
   "source": [
    "preds1 = pred_model.predict(X_test2,verbose=1,batch_size=512)\n",
    "#print(preds1)\n",
    "#print(y_test2)\n",
    "ac_sc = get_best_s()\n",
    "preds1[preds1>=ac_sc] = 1\n",
    "preds1[preds1<1-ac_sc] = 0\n",
    "print (accuracy_score(y_test2_2, preds1))\n",
    "print (classification_report(y_test2_2, preds1))\n",
    "print (multilabel_confusion_matrix(y_test2_2, preds1))"
   ]
  },
  {
   "cell_type": "code",
   "execution_count": null,
   "metadata": {},
   "outputs": [],
   "source": []
  },
  {
   "cell_type": "code",
   "execution_count": 46,
   "metadata": {},
   "outputs": [],
   "source": [
    "X_train2, X_test2, y_train2_2,y_test2_2  = train_test_split(X_train,Y_train, test_size=0.1,shuffle=True)"
   ]
  },
  {
   "cell_type": "code",
   "execution_count": 7,
   "metadata": {},
   "outputs": [
    {
     "name": "stdout",
     "output_type": "stream",
     "text": [
      "Model: \"model_2\"\n",
      "_________________________________________________________________\n",
      "Layer (type)                 Output Shape              Param #   \n",
      "=================================================================\n",
      "input_3 (InputLayer)         [(None, 8, 512)]          0         \n",
      "_________________________________________________________________\n",
      "permute_4 (Permute)          (None, 512, 8)            0         \n",
      "_________________________________________________________________\n",
      "conv1d_14 (Conv1D)           (None, 501, 256)          24832     \n",
      "_________________________________________________________________\n",
      "max_pooling1d_4 (MaxPooling1 (None, 250, 256)          0         \n",
      "_________________________________________________________________\n",
      "conv1d_15 (Conv1D)           (None, 241, 128)          327808    \n",
      "_________________________________________________________________\n",
      "max_pooling1d_5 (MaxPooling1 (None, 120, 128)          0         \n",
      "_________________________________________________________________\n",
      "conv1d_16 (Conv1D)           (None, 111, 64)           81984     \n",
      "_________________________________________________________________\n",
      "average_pooling1d_2 (Average (None, 55, 64)            0         \n",
      "_________________________________________________________________\n",
      "flatten_2 (Flatten)          (None, 3520)              0         \n",
      "_________________________________________________________________\n",
      "dense_2 (Dense)              (None, 512)               1802752   \n",
      "_________________________________________________________________\n",
      "reshape_2 (Reshape)          (None, 128, 4)            0         \n",
      "_________________________________________________________________\n",
      "conv1d_17 (Conv1D)           (None, 128, 256)          1280      \n",
      "_________________________________________________________________\n",
      "up_sampling1d_8 (UpSampling1 (None, 256, 256)          0         \n",
      "_________________________________________________________________\n",
      "conv1d_18 (Conv1D)           (None, 256, 256)          65792     \n",
      "_________________________________________________________________\n",
      "up_sampling1d_9 (UpSampling1 (None, 512, 256)          0         \n",
      "_________________________________________________________________\n",
      "conv1d_19 (Conv1D)           (None, 512, 8)            2056      \n",
      "_________________________________________________________________\n",
      "permute_5 (Permute)          (None, 8, 512)            0         \n",
      "=================================================================\n",
      "Total params: 2,306,504\n",
      "Trainable params: 2,306,504\n",
      "Non-trainable params: 0\n",
      "_________________________________________________________________\n"
     ]
    }
   ],
   "source": [
    "encoding_dim = 512  # 32 floats -> compression of factor 24.5, assuming the input is 784 floats\n",
    "\n",
    "# This is our input image\n",
    "input_img = keras.Input(shape=(8,512,))\n",
    "# \"encoded\" is the encoded representation of the input\n",
    "a = layers.Permute((2,1))(input_img)\n",
    "x = layers.Conv1D(256,12,activation=\"relu\")(a)\n",
    "x1 = layers.MaxPooling1D(2)(x)\n",
    "x2 = layers.Conv1D(128,10, activation='relu')(x1)\n",
    "x3 = layers.MaxPooling1D(2)(x2)\n",
    "x3 = layers.Conv1D(64,10, activation='relu')(x3)\n",
    "x4 = layers.AveragePooling1D()(x3)\n",
    "flat = layers.Flatten()(x4)\n",
    "encoded = layers.Dense(encoding_dim)(flat)\n",
    "#d1 = layers.Dense(64)(encoded)\n",
    "d2 = layers.Reshape((128,4))(encoded)\n",
    "d3 = layers.Conv1D(256,1,strides=1, activation='relu')(d2)\n",
    "d4 = layers.UpSampling1D(2)(d3)\n",
    "#d4 = layers.UpSampling1D(2)(d4)\n",
    "d5 = layers.Conv1D(256,1,strides=1, activation='relu')(d4)\n",
    "d6 = layers.UpSampling1D(2)(d5)\n",
    "#d6 = layers.UpSampling1D(2)(d6)\n",
    "#d6 = layers.Conv1D(256,1,strides=1, activation='relu')(d6)\n",
    "#d7 =layers. UpSampling1D(2)(d6)\n",
    "decoded = layers.Conv1D(8,1,strides=1, activation='sigmoid')(d6)\n",
    "decoded = layers.Permute((2,1))(decoded)\n",
    "autoencoder = keras.Model(input_img, decoded)\n",
    "autoencoder.compile(optimizer='adam', loss='binary_crossentropy')\n",
    "autoencoder.summary()"
   ]
  },
  {
   "cell_type": "code",
   "execution_count": 9,
   "metadata": {},
   "outputs": [
    {
     "data": {
      "image/png": "[encoded data removed]",
      "text/plain": [
       "<IPython.core.display.Image object>"
      ]
     },
     "execution_count": 9,
     "metadata": {},
     "output_type": "execute_result"
    }
   ],
   "source": [
    "tf.keras.utils.plot_model(\n",
    "    autoencoder,\n",
    "    to_file=\"model.png\",show_shapes=True,show_layer_names=False)"
   ]
  },
  {
   "cell_type": "code",
   "execution_count": 51,
   "metadata": {},
   "outputs": [
    {
     "name": "stdout",
     "output_type": "stream",
     "text": [
      "Epoch 1/20\n",
      "888/888 [==============================] - 115s 127ms/step - loss: 0.1428\n",
      "Epoch 2/20\n",
      " 16/888 [..............................] - ETA: 1:50 - loss: 0.1089"
     ]
    },
    {
     "ename": "KeyboardInterrupt",
     "evalue": "",
     "output_type": "error",
     "traceback": [
      "\u001b[1;31m---------------------------------------------------------------------------\u001b[0m",
      "\u001b[1;31mKeyboardInterrupt\u001b[0m                         Traceback (most recent call last)",
      "\u001b[1;32m<ipython-input-51-65283c81002f>\u001b[0m in \u001b[0;36m<module>\u001b[1;34m\u001b[0m\n\u001b[1;32m----> 1\u001b[1;33m \u001b[0mhistory\u001b[0m\u001b[1;33m=\u001b[0m\u001b[0mautoencoder\u001b[0m\u001b[1;33m.\u001b[0m\u001b[0mfit\u001b[0m\u001b[1;33m(\u001b[0m\u001b[0mX_train\u001b[0m\u001b[1;33m,\u001b[0m \u001b[0mX_train\u001b[0m\u001b[1;33m,\u001b[0m\u001b[0mepochs\u001b[0m\u001b[1;33m=\u001b[0m\u001b[1;36m20\u001b[0m\u001b[1;33m,\u001b[0m\u001b[0mbatch_size\u001b[0m\u001b[1;33m=\u001b[0m\u001b[1;36m512\u001b[0m\u001b[1;33m,\u001b[0m\u001b[0mshuffle\u001b[0m\u001b[1;33m=\u001b[0m\u001b[1;32mTrue\u001b[0m\u001b[1;33m)\u001b[0m\u001b[1;33m\u001b[0m\u001b[1;33m\u001b[0m\u001b[0m\n\u001b[0m",
      "\u001b[1;32m~\\.conda\\envs\\TF_24\\lib\\site-packages\\tensorflow\\python\\keras\\engine\\training.py\u001b[0m in \u001b[0;36mfit\u001b[1;34m(self, x, y, batch_size, epochs, verbose, callbacks, validation_split, validation_data, shuffle, class_weight, sample_weight, initial_epoch, steps_per_epoch, validation_steps, validation_batch_size, validation_freq, max_queue_size, workers, use_multiprocessing)\u001b[0m\n\u001b[0;32m   1103\u001b[0m               \u001b[0mlogs\u001b[0m \u001b[1;33m=\u001b[0m \u001b[0mtmp_logs\u001b[0m  \u001b[1;31m# No error, now safe to assign to logs.\u001b[0m\u001b[1;33m\u001b[0m\u001b[1;33m\u001b[0m\u001b[0m\n\u001b[0;32m   1104\u001b[0m               \u001b[0mend_step\u001b[0m \u001b[1;33m=\u001b[0m \u001b[0mstep\u001b[0m \u001b[1;33m+\u001b[0m \u001b[0mdata_handler\u001b[0m\u001b[1;33m.\u001b[0m\u001b[0mstep_increment\u001b[0m\u001b[1;33m\u001b[0m\u001b[1;33m\u001b[0m\u001b[0m\n\u001b[1;32m-> 1105\u001b[1;33m               \u001b[0mcallbacks\u001b[0m\u001b[1;33m.\u001b[0m\u001b[0mon_train_batch_end\u001b[0m\u001b[1;33m(\u001b[0m\u001b[0mend_step\u001b[0m\u001b[1;33m,\u001b[0m \u001b[0mlogs\u001b[0m\u001b[1;33m)\u001b[0m\u001b[1;33m\u001b[0m\u001b[1;33m\u001b[0m\u001b[0m\n\u001b[0m\u001b[0;32m   1106\u001b[0m               \u001b[1;32mif\u001b[0m \u001b[0mself\u001b[0m\u001b[1;33m.\u001b[0m\u001b[0mstop_training\u001b[0m\u001b[1;33m:\u001b[0m\u001b[1;33m\u001b[0m\u001b[1;33m\u001b[0m\u001b[0m\n\u001b[0;32m   1107\u001b[0m                 \u001b[1;32mbreak\u001b[0m\u001b[1;33m\u001b[0m\u001b[1;33m\u001b[0m\u001b[0m\n",
      "\u001b[1;32m~\\.conda\\envs\\TF_24\\lib\\site-packages\\tensorflow\\python\\keras\\callbacks.py\u001b[0m in \u001b[0;36mon_train_batch_end\u001b[1;34m(self, batch, logs)\u001b[0m\n\u001b[0;32m    452\u001b[0m     \"\"\"\n\u001b[0;32m    453\u001b[0m     \u001b[1;32mif\u001b[0m \u001b[0mself\u001b[0m\u001b[1;33m.\u001b[0m\u001b[0m_should_call_train_batch_hooks\u001b[0m\u001b[1;33m:\u001b[0m\u001b[1;33m\u001b[0m\u001b[1;33m\u001b[0m\u001b[0m\n\u001b[1;32m--> 454\u001b[1;33m       \u001b[0mself\u001b[0m\u001b[1;33m.\u001b[0m\u001b[0m_call_batch_hook\u001b[0m\u001b[1;33m(\u001b[0m\u001b[0mModeKeys\u001b[0m\u001b[1;33m.\u001b[0m\u001b[0mTRAIN\u001b[0m\u001b[1;33m,\u001b[0m \u001b[1;34m'end'\u001b[0m\u001b[1;33m,\u001b[0m \u001b[0mbatch\u001b[0m\u001b[1;33m,\u001b[0m \u001b[0mlogs\u001b[0m\u001b[1;33m=\u001b[0m\u001b[0mlogs\u001b[0m\u001b[1;33m)\u001b[0m\u001b[1;33m\u001b[0m\u001b[1;33m\u001b[0m\u001b[0m\n\u001b[0m\u001b[0;32m    455\u001b[0m \u001b[1;33m\u001b[0m\u001b[0m\n\u001b[0;32m    456\u001b[0m   \u001b[1;32mdef\u001b[0m \u001b[0mon_test_batch_begin\u001b[0m\u001b[1;33m(\u001b[0m\u001b[0mself\u001b[0m\u001b[1;33m,\u001b[0m \u001b[0mbatch\u001b[0m\u001b[1;33m,\u001b[0m \u001b[0mlogs\u001b[0m\u001b[1;33m=\u001b[0m\u001b[1;32mNone\u001b[0m\u001b[1;33m)\u001b[0m\u001b[1;33m:\u001b[0m\u001b[1;33m\u001b[0m\u001b[1;33m\u001b[0m\u001b[0m\n",
      "\u001b[1;32m~\\.conda\\envs\\TF_24\\lib\\site-packages\\tensorflow\\python\\keras\\callbacks.py\u001b[0m in \u001b[0;36m_call_batch_hook\u001b[1;34m(self, mode, hook, batch, logs)\u001b[0m\n\u001b[0;32m    294\u001b[0m       \u001b[0mself\u001b[0m\u001b[1;33m.\u001b[0m\u001b[0m_call_batch_begin_hook\u001b[0m\u001b[1;33m(\u001b[0m\u001b[0mmode\u001b[0m\u001b[1;33m,\u001b[0m \u001b[0mbatch\u001b[0m\u001b[1;33m,\u001b[0m \u001b[0mlogs\u001b[0m\u001b[1;33m)\u001b[0m\u001b[1;33m\u001b[0m\u001b[1;33m\u001b[0m\u001b[0m\n\u001b[0;32m    295\u001b[0m     \u001b[1;32melif\u001b[0m \u001b[0mhook\u001b[0m \u001b[1;33m==\u001b[0m \u001b[1;34m'end'\u001b[0m\u001b[1;33m:\u001b[0m\u001b[1;33m\u001b[0m\u001b[1;33m\u001b[0m\u001b[0m\n\u001b[1;32m--> 296\u001b[1;33m       \u001b[0mself\u001b[0m\u001b[1;33m.\u001b[0m\u001b[0m_call_batch_end_hook\u001b[0m\u001b[1;33m(\u001b[0m\u001b[0mmode\u001b[0m\u001b[1;33m,\u001b[0m \u001b[0mbatch\u001b[0m\u001b[1;33m,\u001b[0m \u001b[0mlogs\u001b[0m\u001b[1;33m)\u001b[0m\u001b[1;33m\u001b[0m\u001b[1;33m\u001b[0m\u001b[0m\n\u001b[0m\u001b[0;32m    297\u001b[0m     \u001b[1;32melse\u001b[0m\u001b[1;33m:\u001b[0m\u001b[1;33m\u001b[0m\u001b[1;33m\u001b[0m\u001b[0m\n\u001b[0;32m    298\u001b[0m       \u001b[1;32mraise\u001b[0m \u001b[0mValueError\u001b[0m\u001b[1;33m(\u001b[0m\u001b[1;34m'Unrecognized hook: {}'\u001b[0m\u001b[1;33m.\u001b[0m\u001b[0mformat\u001b[0m\u001b[1;33m(\u001b[0m\u001b[0mhook\u001b[0m\u001b[1;33m)\u001b[0m\u001b[1;33m)\u001b[0m\u001b[1;33m\u001b[0m\u001b[1;33m\u001b[0m\u001b[0m\n",
      "\u001b[1;32m~\\.conda\\envs\\TF_24\\lib\\site-packages\\tensorflow\\python\\keras\\callbacks.py\u001b[0m in \u001b[0;36m_call_batch_end_hook\u001b[1;34m(self, mode, batch, logs)\u001b[0m\n\u001b[0;32m    314\u001b[0m       \u001b[0mself\u001b[0m\u001b[1;33m.\u001b[0m\u001b[0m_batch_times\u001b[0m\u001b[1;33m.\u001b[0m\u001b[0mappend\u001b[0m\u001b[1;33m(\u001b[0m\u001b[0mbatch_time\u001b[0m\u001b[1;33m)\u001b[0m\u001b[1;33m\u001b[0m\u001b[1;33m\u001b[0m\u001b[0m\n\u001b[0;32m    315\u001b[0m \u001b[1;33m\u001b[0m\u001b[0m\n\u001b[1;32m--> 316\u001b[1;33m     \u001b[0mself\u001b[0m\u001b[1;33m.\u001b[0m\u001b[0m_call_batch_hook_helper\u001b[0m\u001b[1;33m(\u001b[0m\u001b[0mhook_name\u001b[0m\u001b[1;33m,\u001b[0m \u001b[0mbatch\u001b[0m\u001b[1;33m,\u001b[0m \u001b[0mlogs\u001b[0m\u001b[1;33m)\u001b[0m\u001b[1;33m\u001b[0m\u001b[1;33m\u001b[0m\u001b[0m\n\u001b[0m\u001b[0;32m    317\u001b[0m \u001b[1;33m\u001b[0m\u001b[0m\n\u001b[0;32m    318\u001b[0m     \u001b[1;32mif\u001b[0m \u001b[0mlen\u001b[0m\u001b[1;33m(\u001b[0m\u001b[0mself\u001b[0m\u001b[1;33m.\u001b[0m\u001b[0m_batch_times\u001b[0m\u001b[1;33m)\u001b[0m \u001b[1;33m>=\u001b[0m \u001b[0mself\u001b[0m\u001b[1;33m.\u001b[0m\u001b[0m_num_batches_for_timing_check\u001b[0m\u001b[1;33m:\u001b[0m\u001b[1;33m\u001b[0m\u001b[1;33m\u001b[0m\u001b[0m\n",
      "\u001b[1;32m~\\.conda\\envs\\TF_24\\lib\\site-packages\\tensorflow\\python\\keras\\callbacks.py\u001b[0m in \u001b[0;36m_call_batch_hook_helper\u001b[1;34m(self, hook_name, batch, logs)\u001b[0m\n\u001b[0;32m    354\u001b[0m       \u001b[0mhook\u001b[0m \u001b[1;33m=\u001b[0m \u001b[0mgetattr\u001b[0m\u001b[1;33m(\u001b[0m\u001b[0mcallback\u001b[0m\u001b[1;33m,\u001b[0m \u001b[0mhook_name\u001b[0m\u001b[1;33m)\u001b[0m\u001b[1;33m\u001b[0m\u001b[1;33m\u001b[0m\u001b[0m\n\u001b[0;32m    355\u001b[0m       \u001b[1;32mif\u001b[0m \u001b[0mgetattr\u001b[0m\u001b[1;33m(\u001b[0m\u001b[0mcallback\u001b[0m\u001b[1;33m,\u001b[0m \u001b[1;34m'_supports_tf_logs'\u001b[0m\u001b[1;33m,\u001b[0m \u001b[1;32mFalse\u001b[0m\u001b[1;33m)\u001b[0m\u001b[1;33m:\u001b[0m\u001b[1;33m\u001b[0m\u001b[1;33m\u001b[0m\u001b[0m\n\u001b[1;32m--> 356\u001b[1;33m         \u001b[0mhook\u001b[0m\u001b[1;33m(\u001b[0m\u001b[0mbatch\u001b[0m\u001b[1;33m,\u001b[0m \u001b[0mlogs\u001b[0m\u001b[1;33m)\u001b[0m\u001b[1;33m\u001b[0m\u001b[1;33m\u001b[0m\u001b[0m\n\u001b[0m\u001b[0;32m    357\u001b[0m       \u001b[1;32melse\u001b[0m\u001b[1;33m:\u001b[0m\u001b[1;33m\u001b[0m\u001b[1;33m\u001b[0m\u001b[0m\n\u001b[0;32m    358\u001b[0m         \u001b[1;32mif\u001b[0m \u001b[0mnumpy_logs\u001b[0m \u001b[1;32mis\u001b[0m \u001b[1;32mNone\u001b[0m\u001b[1;33m:\u001b[0m  \u001b[1;31m# Only convert once.\u001b[0m\u001b[1;33m\u001b[0m\u001b[1;33m\u001b[0m\u001b[0m\n",
      "\u001b[1;32m~\\.conda\\envs\\TF_24\\lib\\site-packages\\tensorflow\\python\\keras\\callbacks.py\u001b[0m in \u001b[0;36mon_train_batch_end\u001b[1;34m(self, batch, logs)\u001b[0m\n\u001b[0;32m   1018\u001b[0m \u001b[1;33m\u001b[0m\u001b[0m\n\u001b[0;32m   1019\u001b[0m   \u001b[1;32mdef\u001b[0m \u001b[0mon_train_batch_end\u001b[0m\u001b[1;33m(\u001b[0m\u001b[0mself\u001b[0m\u001b[1;33m,\u001b[0m \u001b[0mbatch\u001b[0m\u001b[1;33m,\u001b[0m \u001b[0mlogs\u001b[0m\u001b[1;33m=\u001b[0m\u001b[1;32mNone\u001b[0m\u001b[1;33m)\u001b[0m\u001b[1;33m:\u001b[0m\u001b[1;33m\u001b[0m\u001b[1;33m\u001b[0m\u001b[0m\n\u001b[1;32m-> 1020\u001b[1;33m     \u001b[0mself\u001b[0m\u001b[1;33m.\u001b[0m\u001b[0m_batch_update_progbar\u001b[0m\u001b[1;33m(\u001b[0m\u001b[0mbatch\u001b[0m\u001b[1;33m,\u001b[0m \u001b[0mlogs\u001b[0m\u001b[1;33m)\u001b[0m\u001b[1;33m\u001b[0m\u001b[1;33m\u001b[0m\u001b[0m\n\u001b[0m\u001b[0;32m   1021\u001b[0m \u001b[1;33m\u001b[0m\u001b[0m\n\u001b[0;32m   1022\u001b[0m   \u001b[1;32mdef\u001b[0m \u001b[0mon_test_batch_end\u001b[0m\u001b[1;33m(\u001b[0m\u001b[0mself\u001b[0m\u001b[1;33m,\u001b[0m \u001b[0mbatch\u001b[0m\u001b[1;33m,\u001b[0m \u001b[0mlogs\u001b[0m\u001b[1;33m=\u001b[0m\u001b[1;32mNone\u001b[0m\u001b[1;33m)\u001b[0m\u001b[1;33m:\u001b[0m\u001b[1;33m\u001b[0m\u001b[1;33m\u001b[0m\u001b[0m\n",
      "\u001b[1;32m~\\.conda\\envs\\TF_24\\lib\\site-packages\\tensorflow\\python\\keras\\callbacks.py\u001b[0m in \u001b[0;36m_batch_update_progbar\u001b[1;34m(self, batch, logs)\u001b[0m\n\u001b[0;32m   1082\u001b[0m     \u001b[1;32mif\u001b[0m \u001b[0mself\u001b[0m\u001b[1;33m.\u001b[0m\u001b[0mverbose\u001b[0m \u001b[1;33m==\u001b[0m \u001b[1;36m1\u001b[0m\u001b[1;33m:\u001b[0m\u001b[1;33m\u001b[0m\u001b[1;33m\u001b[0m\u001b[0m\n\u001b[0;32m   1083\u001b[0m       \u001b[1;31m# Only block async when verbose = 1.\u001b[0m\u001b[1;33m\u001b[0m\u001b[1;33m\u001b[0m\u001b[1;33m\u001b[0m\u001b[0m\n\u001b[1;32m-> 1084\u001b[1;33m       \u001b[0mlogs\u001b[0m \u001b[1;33m=\u001b[0m \u001b[0mtf_utils\u001b[0m\u001b[1;33m.\u001b[0m\u001b[0mto_numpy_or_python_type\u001b[0m\u001b[1;33m(\u001b[0m\u001b[0mlogs\u001b[0m\u001b[1;33m)\u001b[0m\u001b[1;33m\u001b[0m\u001b[1;33m\u001b[0m\u001b[0m\n\u001b[0m\u001b[0;32m   1085\u001b[0m       \u001b[0mself\u001b[0m\u001b[1;33m.\u001b[0m\u001b[0mprogbar\u001b[0m\u001b[1;33m.\u001b[0m\u001b[0mupdate\u001b[0m\u001b[1;33m(\u001b[0m\u001b[0mself\u001b[0m\u001b[1;33m.\u001b[0m\u001b[0mseen\u001b[0m\u001b[1;33m,\u001b[0m \u001b[0mlist\u001b[0m\u001b[1;33m(\u001b[0m\u001b[0mlogs\u001b[0m\u001b[1;33m.\u001b[0m\u001b[0mitems\u001b[0m\u001b[1;33m(\u001b[0m\u001b[1;33m)\u001b[0m\u001b[1;33m)\u001b[0m\u001b[1;33m,\u001b[0m \u001b[0mfinalize\u001b[0m\u001b[1;33m=\u001b[0m\u001b[1;32mFalse\u001b[0m\u001b[1;33m)\u001b[0m\u001b[1;33m\u001b[0m\u001b[1;33m\u001b[0m\u001b[0m\n\u001b[0;32m   1086\u001b[0m \u001b[1;33m\u001b[0m\u001b[0m\n",
      "\u001b[1;32m~\\.conda\\envs\\TF_24\\lib\\site-packages\\tensorflow\\python\\keras\\utils\\tf_utils.py\u001b[0m in \u001b[0;36mto_numpy_or_python_type\u001b[1;34m(tensors)\u001b[0m\n\u001b[0;32m    512\u001b[0m     \u001b[1;32mreturn\u001b[0m \u001b[0mt\u001b[0m  \u001b[1;31m# Don't turn ragged or sparse tensors to NumPy.\u001b[0m\u001b[1;33m\u001b[0m\u001b[1;33m\u001b[0m\u001b[0m\n\u001b[0;32m    513\u001b[0m \u001b[1;33m\u001b[0m\u001b[0m\n\u001b[1;32m--> 514\u001b[1;33m   \u001b[1;32mreturn\u001b[0m \u001b[0mnest\u001b[0m\u001b[1;33m.\u001b[0m\u001b[0mmap_structure\u001b[0m\u001b[1;33m(\u001b[0m\u001b[0m_to_single_numpy_or_python_type\u001b[0m\u001b[1;33m,\u001b[0m \u001b[0mtensors\u001b[0m\u001b[1;33m)\u001b[0m\u001b[1;33m\u001b[0m\u001b[1;33m\u001b[0m\u001b[0m\n\u001b[0m\u001b[0;32m    515\u001b[0m \u001b[1;33m\u001b[0m\u001b[0m\n\u001b[0;32m    516\u001b[0m \u001b[1;33m\u001b[0m\u001b[0m\n",
      "\u001b[1;32m~\\.conda\\envs\\TF_24\\lib\\site-packages\\tensorflow\\python\\util\\nest.py\u001b[0m in \u001b[0;36mmap_structure\u001b[1;34m(func, *structure, **kwargs)\u001b[0m\n\u001b[0;32m    657\u001b[0m \u001b[1;33m\u001b[0m\u001b[0m\n\u001b[0;32m    658\u001b[0m   return pack_sequence_as(\n\u001b[1;32m--> 659\u001b[1;33m       \u001b[0mstructure\u001b[0m\u001b[1;33m[\u001b[0m\u001b[1;36m0\u001b[0m\u001b[1;33m]\u001b[0m\u001b[1;33m,\u001b[0m \u001b[1;33m[\u001b[0m\u001b[0mfunc\u001b[0m\u001b[1;33m(\u001b[0m\u001b[1;33m*\u001b[0m\u001b[0mx\u001b[0m\u001b[1;33m)\u001b[0m \u001b[1;32mfor\u001b[0m \u001b[0mx\u001b[0m \u001b[1;32min\u001b[0m \u001b[0mentries\u001b[0m\u001b[1;33m]\u001b[0m\u001b[1;33m,\u001b[0m\u001b[1;33m\u001b[0m\u001b[1;33m\u001b[0m\u001b[0m\n\u001b[0m\u001b[0;32m    660\u001b[0m       expand_composites=expand_composites)\n\u001b[0;32m    661\u001b[0m \u001b[1;33m\u001b[0m\u001b[0m\n",
      "\u001b[1;32m~\\.conda\\envs\\TF_24\\lib\\site-packages\\tensorflow\\python\\util\\nest.py\u001b[0m in \u001b[0;36m<listcomp>\u001b[1;34m(.0)\u001b[0m\n\u001b[0;32m    657\u001b[0m \u001b[1;33m\u001b[0m\u001b[0m\n\u001b[0;32m    658\u001b[0m   return pack_sequence_as(\n\u001b[1;32m--> 659\u001b[1;33m       \u001b[0mstructure\u001b[0m\u001b[1;33m[\u001b[0m\u001b[1;36m0\u001b[0m\u001b[1;33m]\u001b[0m\u001b[1;33m,\u001b[0m \u001b[1;33m[\u001b[0m\u001b[0mfunc\u001b[0m\u001b[1;33m(\u001b[0m\u001b[1;33m*\u001b[0m\u001b[0mx\u001b[0m\u001b[1;33m)\u001b[0m \u001b[1;32mfor\u001b[0m \u001b[0mx\u001b[0m \u001b[1;32min\u001b[0m \u001b[0mentries\u001b[0m\u001b[1;33m]\u001b[0m\u001b[1;33m,\u001b[0m\u001b[1;33m\u001b[0m\u001b[1;33m\u001b[0m\u001b[0m\n\u001b[0m\u001b[0;32m    660\u001b[0m       expand_composites=expand_composites)\n\u001b[0;32m    661\u001b[0m \u001b[1;33m\u001b[0m\u001b[0m\n",
      "\u001b[1;32m~\\.conda\\envs\\TF_24\\lib\\site-packages\\tensorflow\\python\\keras\\utils\\tf_utils.py\u001b[0m in \u001b[0;36m_to_single_numpy_or_python_type\u001b[1;34m(t)\u001b[0m\n\u001b[0;32m    508\u001b[0m   \u001b[1;32mdef\u001b[0m \u001b[0m_to_single_numpy_or_python_type\u001b[0m\u001b[1;33m(\u001b[0m\u001b[0mt\u001b[0m\u001b[1;33m)\u001b[0m\u001b[1;33m:\u001b[0m\u001b[1;33m\u001b[0m\u001b[1;33m\u001b[0m\u001b[0m\n\u001b[0;32m    509\u001b[0m     \u001b[1;32mif\u001b[0m \u001b[0misinstance\u001b[0m\u001b[1;33m(\u001b[0m\u001b[0mt\u001b[0m\u001b[1;33m,\u001b[0m \u001b[0mops\u001b[0m\u001b[1;33m.\u001b[0m\u001b[0mTensor\u001b[0m\u001b[1;33m)\u001b[0m\u001b[1;33m:\u001b[0m\u001b[1;33m\u001b[0m\u001b[1;33m\u001b[0m\u001b[0m\n\u001b[1;32m--> 510\u001b[1;33m       \u001b[0mx\u001b[0m \u001b[1;33m=\u001b[0m \u001b[0mt\u001b[0m\u001b[1;33m.\u001b[0m\u001b[0mnumpy\u001b[0m\u001b[1;33m(\u001b[0m\u001b[1;33m)\u001b[0m\u001b[1;33m\u001b[0m\u001b[1;33m\u001b[0m\u001b[0m\n\u001b[0m\u001b[0;32m    511\u001b[0m       \u001b[1;32mreturn\u001b[0m \u001b[0mx\u001b[0m\u001b[1;33m.\u001b[0m\u001b[0mitem\u001b[0m\u001b[1;33m(\u001b[0m\u001b[1;33m)\u001b[0m \u001b[1;32mif\u001b[0m \u001b[0mnp\u001b[0m\u001b[1;33m.\u001b[0m\u001b[0mndim\u001b[0m\u001b[1;33m(\u001b[0m\u001b[0mx\u001b[0m\u001b[1;33m)\u001b[0m \u001b[1;33m==\u001b[0m \u001b[1;36m0\u001b[0m \u001b[1;32melse\u001b[0m \u001b[0mx\u001b[0m\u001b[1;33m\u001b[0m\u001b[1;33m\u001b[0m\u001b[0m\n\u001b[0;32m    512\u001b[0m     \u001b[1;32mreturn\u001b[0m \u001b[0mt\u001b[0m  \u001b[1;31m# Don't turn ragged or sparse tensors to NumPy.\u001b[0m\u001b[1;33m\u001b[0m\u001b[1;33m\u001b[0m\u001b[0m\n",
      "\u001b[1;32m~\\.conda\\envs\\TF_24\\lib\\site-packages\\tensorflow\\python\\framework\\ops.py\u001b[0m in \u001b[0;36mnumpy\u001b[1;34m(self)\u001b[0m\n\u001b[0;32m   1069\u001b[0m     \"\"\"\n\u001b[0;32m   1070\u001b[0m     \u001b[1;31m# TODO(slebedev): Consider avoiding a copy for non-CPU or remote tensors.\u001b[0m\u001b[1;33m\u001b[0m\u001b[1;33m\u001b[0m\u001b[1;33m\u001b[0m\u001b[0m\n\u001b[1;32m-> 1071\u001b[1;33m     \u001b[0mmaybe_arr\u001b[0m \u001b[1;33m=\u001b[0m \u001b[0mself\u001b[0m\u001b[1;33m.\u001b[0m\u001b[0m_numpy\u001b[0m\u001b[1;33m(\u001b[0m\u001b[1;33m)\u001b[0m  \u001b[1;31m# pylint: disable=protected-access\u001b[0m\u001b[1;33m\u001b[0m\u001b[1;33m\u001b[0m\u001b[0m\n\u001b[0m\u001b[0;32m   1072\u001b[0m     \u001b[1;32mreturn\u001b[0m \u001b[0mmaybe_arr\u001b[0m\u001b[1;33m.\u001b[0m\u001b[0mcopy\u001b[0m\u001b[1;33m(\u001b[0m\u001b[1;33m)\u001b[0m \u001b[1;32mif\u001b[0m \u001b[0misinstance\u001b[0m\u001b[1;33m(\u001b[0m\u001b[0mmaybe_arr\u001b[0m\u001b[1;33m,\u001b[0m \u001b[0mnp\u001b[0m\u001b[1;33m.\u001b[0m\u001b[0mndarray\u001b[0m\u001b[1;33m)\u001b[0m \u001b[1;32melse\u001b[0m \u001b[0mmaybe_arr\u001b[0m\u001b[1;33m\u001b[0m\u001b[1;33m\u001b[0m\u001b[0m\n\u001b[0;32m   1073\u001b[0m \u001b[1;33m\u001b[0m\u001b[0m\n",
      "\u001b[1;32m~\\.conda\\envs\\TF_24\\lib\\site-packages\\tensorflow\\python\\framework\\ops.py\u001b[0m in \u001b[0;36m_numpy\u001b[1;34m(self)\u001b[0m\n\u001b[0;32m   1035\u001b[0m   \u001b[1;32mdef\u001b[0m \u001b[0m_numpy\u001b[0m\u001b[1;33m(\u001b[0m\u001b[0mself\u001b[0m\u001b[1;33m)\u001b[0m\u001b[1;33m:\u001b[0m\u001b[1;33m\u001b[0m\u001b[1;33m\u001b[0m\u001b[0m\n\u001b[0;32m   1036\u001b[0m     \u001b[1;32mtry\u001b[0m\u001b[1;33m:\u001b[0m\u001b[1;33m\u001b[0m\u001b[1;33m\u001b[0m\u001b[0m\n\u001b[1;32m-> 1037\u001b[1;33m       \u001b[1;32mreturn\u001b[0m \u001b[0mself\u001b[0m\u001b[1;33m.\u001b[0m\u001b[0m_numpy_internal\u001b[0m\u001b[1;33m(\u001b[0m\u001b[1;33m)\u001b[0m\u001b[1;33m\u001b[0m\u001b[1;33m\u001b[0m\u001b[0m\n\u001b[0m\u001b[0;32m   1038\u001b[0m     \u001b[1;32mexcept\u001b[0m \u001b[0mcore\u001b[0m\u001b[1;33m.\u001b[0m\u001b[0m_NotOkStatusException\u001b[0m \u001b[1;32mas\u001b[0m \u001b[0me\u001b[0m\u001b[1;33m:\u001b[0m  \u001b[1;31m# pylint: disable=protected-access\u001b[0m\u001b[1;33m\u001b[0m\u001b[1;33m\u001b[0m\u001b[0m\n\u001b[0;32m   1039\u001b[0m       \u001b[0msix\u001b[0m\u001b[1;33m.\u001b[0m\u001b[0mraise_from\u001b[0m\u001b[1;33m(\u001b[0m\u001b[0mcore\u001b[0m\u001b[1;33m.\u001b[0m\u001b[0m_status_to_exception\u001b[0m\u001b[1;33m(\u001b[0m\u001b[0me\u001b[0m\u001b[1;33m.\u001b[0m\u001b[0mcode\u001b[0m\u001b[1;33m,\u001b[0m \u001b[0me\u001b[0m\u001b[1;33m.\u001b[0m\u001b[0mmessage\u001b[0m\u001b[1;33m)\u001b[0m\u001b[1;33m,\u001b[0m \u001b[1;32mNone\u001b[0m\u001b[1;33m)\u001b[0m  \u001b[1;31m# pylint: disable=protected-access\u001b[0m\u001b[1;33m\u001b[0m\u001b[1;33m\u001b[0m\u001b[0m\n",
      "\u001b[1;31mKeyboardInterrupt\u001b[0m: "
     ]
    }
   ],
   "source": [
    "history=autoencoder.fit(X_train, X_train,epochs=20,batch_size=512,shuffle=True)"
   ]
  },
  {
   "cell_type": "code",
   "execution_count": 56,
   "metadata": {},
   "outputs": [
    {
     "name": "stdout",
     "output_type": "stream",
     "text": [
      "Model: \"model_20\"\n",
      "_________________________________________________________________\n",
      "Layer (type)                 Output Shape              Param #   \n",
      "=================================================================\n",
      "input_21 (InputLayer)        [(None, 8, 512)]          0         \n",
      "_________________________________________________________________\n",
      "permute_2 (Permute)          (None, 512, 8)            0         \n",
      "_________________________________________________________________\n",
      "conv1d_7 (Conv1D)            (None, 501, 256)          24832     \n",
      "_________________________________________________________________\n",
      "max_pooling1d_2 (MaxPooling1 (None, 250, 256)          0         \n",
      "_________________________________________________________________\n",
      "conv1d_8 (Conv1D)            (None, 241, 128)          327808    \n",
      "_________________________________________________________________\n",
      "max_pooling1d_3 (MaxPooling1 (None, 120, 128)          0         \n",
      "_________________________________________________________________\n",
      "conv1d_9 (Conv1D)            (None, 111, 64)           81984     \n",
      "_________________________________________________________________\n",
      "average_pooling1d_1 (Average (None, 55, 64)            0         \n",
      "_________________________________________________________________\n",
      "flatten_1 (Flatten)          (None, 3520)              0         \n",
      "_________________________________________________________________\n",
      "dense_31 (Dense)             (None, 512)               1802752   \n",
      "_________________________________________________________________\n",
      "dense_37 (Dense)             (None, 128)               65664     \n",
      "_________________________________________________________________\n",
      "dense_38 (Dense)             (None, 64)                8256      \n",
      "_________________________________________________________________\n",
      "classification (Dense)       (None, 10)                650       \n",
      "=================================================================\n",
      "Total params: 2,311,946\n",
      "Trainable params: 74,570\n",
      "Non-trainable params: 2,237,376\n",
      "_________________________________________________________________\n"
     ]
    }
   ],
   "source": [
    "input_img = keras.Input(shape=(8,512,))\n",
    "\n",
    "#input_to_model = encoder\n",
    "#x = layers.Dense(32,activation='relu')(input_to_model)\n",
    "\n",
    "enc2 = autoencoder.layers[1](input_img)\n",
    "enc2 = autoencoder.layers[2](enc2)\n",
    "enc2 = autoencoder.layers[3](enc2)\n",
    "enc2 = autoencoder.layers[4](enc2)\n",
    "\n",
    "enc2 = autoencoder.layers[5](enc2)\n",
    "enc2 = autoencoder.layers[6](enc2)\n",
    "\n",
    "\n",
    "enc2 = autoencoder.layers[7](enc2)\n",
    "enc2 = autoencoder.layers[8](enc2)\n",
    "enc2 = autoencoder.layers[9](enc2)\n",
    "#ls = layers.Dense(64, activation=\"relu\")(enc2)\n",
    "ls = layers.Dense(128, activation=\"relu\")(enc2)\n",
    "ls = layers.Dense(64, activation=\"relu\")(ls)\n",
    "p = layers.Dense(10, activation=\"sigmoid\",dtype='float32',name=\"classification\")(ls)\n",
    "\n",
    "\n",
    "pred_model = keras.Model(input_img, p)\n",
    "pred_model.compile(loss='binary_crossentropy', optimizer=\"adam\", metrics='binary_accuracy')\n",
    "pred_model.layers[1].trainable=False\n",
    "pred_model.layers[2].trainable=False\n",
    "pred_model.layers[3].trainable=False\n",
    "pred_model.layers[4].trainable=False\n",
    "pred_model.layers[5].trainable=False\n",
    "pred_model.layers[6].trainable=False\n",
    "pred_model.layers[7].trainable=False\n",
    "pred_model.layers[8].trainable=False\n",
    "pred_model.layers[9].trainable=False\n",
    "pred_model.summary()"
   ]
  },
  {
   "cell_type": "code",
   "execution_count": 57,
   "metadata": {},
   "outputs": [
    {
     "name": "stdout",
     "output_type": "stream",
     "text": [
      "Epoch 1/20\n",
      "1518/1518 [==============================] - 23s 15ms/step - loss: 0.3247 - binary_accuracy: 0.8587 - val_loss: 0.3053 - val_binary_accuracy: 0.8639\n",
      "Epoch 2/20\n",
      "1518/1518 [==============================] - 22s 15ms/step - loss: 0.3037 - binary_accuracy: 0.8654 - val_loss: 0.3022 - val_binary_accuracy: 0.8657\n",
      "Epoch 3/20\n",
      "1518/1518 [==============================] - 22s 15ms/step - loss: 0.3021 - binary_accuracy: 0.8660 - val_loss: 0.3049 - val_binary_accuracy: 0.8644\n",
      "Epoch 4/20\n",
      "1518/1518 [==============================] - 22s 15ms/step - loss: 0.3021 - binary_accuracy: 0.8661 - val_loss: 0.3021 - val_binary_accuracy: 0.8660\n",
      "Epoch 5/20\n",
      "1518/1518 [==============================] - 22s 15ms/step - loss: 0.3005 - binary_accuracy: 0.8666 - val_loss: 0.3026 - val_binary_accuracy: 0.8662\n",
      "Epoch 6/20\n",
      " 113/1518 [=>............................] - ETA: 20s - loss: 0.3013 - binary_accuracy: 0.8657"
     ]
    },
    {
     "ename": "KeyboardInterrupt",
     "evalue": "",
     "output_type": "error",
     "traceback": [
      "\u001b[1;31m---------------------------------------------------------------------------\u001b[0m",
      "\u001b[1;31mKeyboardInterrupt\u001b[0m                         Traceback (most recent call last)",
      "\u001b[1;32m<ipython-input-57-472fc501e7db>\u001b[0m in \u001b[0;36m<module>\u001b[1;34m\u001b[0m\n\u001b[1;32m----> 1\u001b[1;33m \u001b[0mhistory\u001b[0m\u001b[1;33m=\u001b[0m\u001b[0mpred_model\u001b[0m\u001b[1;33m.\u001b[0m\u001b[0mfit\u001b[0m\u001b[1;33m(\u001b[0m\u001b[0mX_train2\u001b[0m\u001b[1;33m,\u001b[0m \u001b[0my_train2_2\u001b[0m\u001b[1;33m,\u001b[0m\u001b[0mepochs\u001b[0m\u001b[1;33m=\u001b[0m\u001b[1;36m20\u001b[0m\u001b[1;33m,\u001b[0m\u001b[0mbatch_size\u001b[0m\u001b[1;33m=\u001b[0m\u001b[1;36m256\u001b[0m\u001b[1;33m,\u001b[0m\u001b[0mshuffle\u001b[0m\u001b[1;33m=\u001b[0m\u001b[1;32mTrue\u001b[0m\u001b[1;33m,\u001b[0m\u001b[0mvalidation_split\u001b[0m\u001b[1;33m=\u001b[0m\u001b[1;36m0.05\u001b[0m\u001b[1;33m)\u001b[0m\u001b[1;33m\u001b[0m\u001b[1;33m\u001b[0m\u001b[0m\n\u001b[0m\u001b[0;32m      2\u001b[0m \u001b[0mplt\u001b[0m\u001b[1;33m.\u001b[0m\u001b[0mplot\u001b[0m\u001b[1;33m(\u001b[0m\u001b[0mhistory\u001b[0m\u001b[1;33m.\u001b[0m\u001b[0mhistory\u001b[0m\u001b[1;33m[\u001b[0m\u001b[1;34m'loss'\u001b[0m\u001b[1;33m]\u001b[0m\u001b[1;33m)\u001b[0m\u001b[1;33m\u001b[0m\u001b[1;33m\u001b[0m\u001b[0m\n\u001b[0;32m      3\u001b[0m \u001b[0mplt\u001b[0m\u001b[1;33m.\u001b[0m\u001b[0mplot\u001b[0m\u001b[1;33m(\u001b[0m\u001b[0mhistory\u001b[0m\u001b[1;33m.\u001b[0m\u001b[0mhistory\u001b[0m\u001b[1;33m[\u001b[0m\u001b[1;34m'val_loss'\u001b[0m\u001b[1;33m]\u001b[0m\u001b[1;33m)\u001b[0m\u001b[1;33m\u001b[0m\u001b[1;33m\u001b[0m\u001b[0m\n\u001b[0;32m      4\u001b[0m \u001b[0mplt\u001b[0m\u001b[1;33m.\u001b[0m\u001b[0mtitle\u001b[0m\u001b[1;33m(\u001b[0m\u001b[1;34m'model loss'\u001b[0m\u001b[1;33m)\u001b[0m\u001b[1;33m\u001b[0m\u001b[1;33m\u001b[0m\u001b[0m\n\u001b[0;32m      5\u001b[0m \u001b[0mplt\u001b[0m\u001b[1;33m.\u001b[0m\u001b[0mylabel\u001b[0m\u001b[1;33m(\u001b[0m\u001b[1;34m'loss'\u001b[0m\u001b[1;33m)\u001b[0m\u001b[1;33m\u001b[0m\u001b[1;33m\u001b[0m\u001b[0m\n",
      "\u001b[1;32m~\\.conda\\envs\\TF_24\\lib\\site-packages\\tensorflow\\python\\keras\\engine\\training.py\u001b[0m in \u001b[0;36mfit\u001b[1;34m(self, x, y, batch_size, epochs, verbose, callbacks, validation_split, validation_data, shuffle, class_weight, sample_weight, initial_epoch, steps_per_epoch, validation_steps, validation_batch_size, validation_freq, max_queue_size, workers, use_multiprocessing)\u001b[0m\n\u001b[0;32m   1098\u001b[0m                 _r=1):\n\u001b[0;32m   1099\u001b[0m               \u001b[0mcallbacks\u001b[0m\u001b[1;33m.\u001b[0m\u001b[0mon_train_batch_begin\u001b[0m\u001b[1;33m(\u001b[0m\u001b[0mstep\u001b[0m\u001b[1;33m)\u001b[0m\u001b[1;33m\u001b[0m\u001b[1;33m\u001b[0m\u001b[0m\n\u001b[1;32m-> 1100\u001b[1;33m               \u001b[0mtmp_logs\u001b[0m \u001b[1;33m=\u001b[0m \u001b[0mself\u001b[0m\u001b[1;33m.\u001b[0m\u001b[0mtrain_function\u001b[0m\u001b[1;33m(\u001b[0m\u001b[0miterator\u001b[0m\u001b[1;33m)\u001b[0m\u001b[1;33m\u001b[0m\u001b[1;33m\u001b[0m\u001b[0m\n\u001b[0m\u001b[0;32m   1101\u001b[0m               \u001b[1;32mif\u001b[0m \u001b[0mdata_handler\u001b[0m\u001b[1;33m.\u001b[0m\u001b[0mshould_sync\u001b[0m\u001b[1;33m:\u001b[0m\u001b[1;33m\u001b[0m\u001b[1;33m\u001b[0m\u001b[0m\n\u001b[0;32m   1102\u001b[0m                 \u001b[0mcontext\u001b[0m\u001b[1;33m.\u001b[0m\u001b[0masync_wait\u001b[0m\u001b[1;33m(\u001b[0m\u001b[1;33m)\u001b[0m\u001b[1;33m\u001b[0m\u001b[1;33m\u001b[0m\u001b[0m\n",
      "\u001b[1;32m~\\.conda\\envs\\TF_24\\lib\\site-packages\\tensorflow\\python\\eager\\def_function.py\u001b[0m in \u001b[0;36m__call__\u001b[1;34m(self, *args, **kwds)\u001b[0m\n\u001b[0;32m    826\u001b[0m     \u001b[0mtracing_count\u001b[0m \u001b[1;33m=\u001b[0m \u001b[0mself\u001b[0m\u001b[1;33m.\u001b[0m\u001b[0mexperimental_get_tracing_count\u001b[0m\u001b[1;33m(\u001b[0m\u001b[1;33m)\u001b[0m\u001b[1;33m\u001b[0m\u001b[1;33m\u001b[0m\u001b[0m\n\u001b[0;32m    827\u001b[0m     \u001b[1;32mwith\u001b[0m \u001b[0mtrace\u001b[0m\u001b[1;33m.\u001b[0m\u001b[0mTrace\u001b[0m\u001b[1;33m(\u001b[0m\u001b[0mself\u001b[0m\u001b[1;33m.\u001b[0m\u001b[0m_name\u001b[0m\u001b[1;33m)\u001b[0m \u001b[1;32mas\u001b[0m \u001b[0mtm\u001b[0m\u001b[1;33m:\u001b[0m\u001b[1;33m\u001b[0m\u001b[1;33m\u001b[0m\u001b[0m\n\u001b[1;32m--> 828\u001b[1;33m       \u001b[0mresult\u001b[0m \u001b[1;33m=\u001b[0m \u001b[0mself\u001b[0m\u001b[1;33m.\u001b[0m\u001b[0m_call\u001b[0m\u001b[1;33m(\u001b[0m\u001b[1;33m*\u001b[0m\u001b[0margs\u001b[0m\u001b[1;33m,\u001b[0m \u001b[1;33m**\u001b[0m\u001b[0mkwds\u001b[0m\u001b[1;33m)\u001b[0m\u001b[1;33m\u001b[0m\u001b[1;33m\u001b[0m\u001b[0m\n\u001b[0m\u001b[0;32m    829\u001b[0m       \u001b[0mcompiler\u001b[0m \u001b[1;33m=\u001b[0m \u001b[1;34m\"xla\"\u001b[0m \u001b[1;32mif\u001b[0m \u001b[0mself\u001b[0m\u001b[1;33m.\u001b[0m\u001b[0m_experimental_compile\u001b[0m \u001b[1;32melse\u001b[0m \u001b[1;34m\"nonXla\"\u001b[0m\u001b[1;33m\u001b[0m\u001b[1;33m\u001b[0m\u001b[0m\n\u001b[0;32m    830\u001b[0m       \u001b[0mnew_tracing_count\u001b[0m \u001b[1;33m=\u001b[0m \u001b[0mself\u001b[0m\u001b[1;33m.\u001b[0m\u001b[0mexperimental_get_tracing_count\u001b[0m\u001b[1;33m(\u001b[0m\u001b[1;33m)\u001b[0m\u001b[1;33m\u001b[0m\u001b[1;33m\u001b[0m\u001b[0m\n",
      "\u001b[1;32m~\\.conda\\envs\\TF_24\\lib\\site-packages\\tensorflow\\python\\eager\\def_function.py\u001b[0m in \u001b[0;36m_call\u001b[1;34m(self, *args, **kwds)\u001b[0m\n\u001b[0;32m    853\u001b[0m       \u001b[1;31m# In this case we have created variables on the first call, so we run the\u001b[0m\u001b[1;33m\u001b[0m\u001b[1;33m\u001b[0m\u001b[1;33m\u001b[0m\u001b[0m\n\u001b[0;32m    854\u001b[0m       \u001b[1;31m# defunned version which is guaranteed to never create variables.\u001b[0m\u001b[1;33m\u001b[0m\u001b[1;33m\u001b[0m\u001b[1;33m\u001b[0m\u001b[0m\n\u001b[1;32m--> 855\u001b[1;33m       \u001b[1;32mreturn\u001b[0m \u001b[0mself\u001b[0m\u001b[1;33m.\u001b[0m\u001b[0m_stateless_fn\u001b[0m\u001b[1;33m(\u001b[0m\u001b[1;33m*\u001b[0m\u001b[0margs\u001b[0m\u001b[1;33m,\u001b[0m \u001b[1;33m**\u001b[0m\u001b[0mkwds\u001b[0m\u001b[1;33m)\u001b[0m  \u001b[1;31m# pylint: disable=not-callable\u001b[0m\u001b[1;33m\u001b[0m\u001b[1;33m\u001b[0m\u001b[0m\n\u001b[0m\u001b[0;32m    856\u001b[0m     \u001b[1;32melif\u001b[0m \u001b[0mself\u001b[0m\u001b[1;33m.\u001b[0m\u001b[0m_stateful_fn\u001b[0m \u001b[1;32mis\u001b[0m \u001b[1;32mnot\u001b[0m \u001b[1;32mNone\u001b[0m\u001b[1;33m:\u001b[0m\u001b[1;33m\u001b[0m\u001b[1;33m\u001b[0m\u001b[0m\n\u001b[0;32m    857\u001b[0m       \u001b[1;31m# Release the lock early so that multiple threads can perform the call\u001b[0m\u001b[1;33m\u001b[0m\u001b[1;33m\u001b[0m\u001b[1;33m\u001b[0m\u001b[0m\n",
      "\u001b[1;32m~\\.conda\\envs\\TF_24\\lib\\site-packages\\tensorflow\\python\\eager\\function.py\u001b[0m in \u001b[0;36m__call__\u001b[1;34m(self, *args, **kwargs)\u001b[0m\n\u001b[0;32m   2940\u001b[0m       (graph_function,\n\u001b[0;32m   2941\u001b[0m        filtered_flat_args) = self._maybe_define_function(args, kwargs)\n\u001b[1;32m-> 2942\u001b[1;33m     return graph_function._call_flat(\n\u001b[0m\u001b[0;32m   2943\u001b[0m         filtered_flat_args, captured_inputs=graph_function.captured_inputs)  # pylint: disable=protected-access\n\u001b[0;32m   2944\u001b[0m \u001b[1;33m\u001b[0m\u001b[0m\n",
      "\u001b[1;32m~\\.conda\\envs\\TF_24\\lib\\site-packages\\tensorflow\\python\\eager\\function.py\u001b[0m in \u001b[0;36m_call_flat\u001b[1;34m(self, args, captured_inputs, cancellation_manager)\u001b[0m\n\u001b[0;32m   1916\u001b[0m         and executing_eagerly):\n\u001b[0;32m   1917\u001b[0m       \u001b[1;31m# No tape is watching; skip to running the function.\u001b[0m\u001b[1;33m\u001b[0m\u001b[1;33m\u001b[0m\u001b[1;33m\u001b[0m\u001b[0m\n\u001b[1;32m-> 1918\u001b[1;33m       return self._build_call_outputs(self._inference_function.call(\n\u001b[0m\u001b[0;32m   1919\u001b[0m           ctx, args, cancellation_manager=cancellation_manager))\n\u001b[0;32m   1920\u001b[0m     forward_backward = self._select_forward_and_backward_functions(\n",
      "\u001b[1;32m~\\.conda\\envs\\TF_24\\lib\\site-packages\\tensorflow\\python\\eager\\function.py\u001b[0m in \u001b[0;36mcall\u001b[1;34m(self, ctx, args, cancellation_manager)\u001b[0m\n\u001b[0;32m    553\u001b[0m       \u001b[1;32mwith\u001b[0m \u001b[0m_InterpolateFunctionError\u001b[0m\u001b[1;33m(\u001b[0m\u001b[0mself\u001b[0m\u001b[1;33m)\u001b[0m\u001b[1;33m:\u001b[0m\u001b[1;33m\u001b[0m\u001b[1;33m\u001b[0m\u001b[0m\n\u001b[0;32m    554\u001b[0m         \u001b[1;32mif\u001b[0m \u001b[0mcancellation_manager\u001b[0m \u001b[1;32mis\u001b[0m \u001b[1;32mNone\u001b[0m\u001b[1;33m:\u001b[0m\u001b[1;33m\u001b[0m\u001b[1;33m\u001b[0m\u001b[0m\n\u001b[1;32m--> 555\u001b[1;33m           outputs = execute.execute(\n\u001b[0m\u001b[0;32m    556\u001b[0m               \u001b[0mstr\u001b[0m\u001b[1;33m(\u001b[0m\u001b[0mself\u001b[0m\u001b[1;33m.\u001b[0m\u001b[0msignature\u001b[0m\u001b[1;33m.\u001b[0m\u001b[0mname\u001b[0m\u001b[1;33m)\u001b[0m\u001b[1;33m,\u001b[0m\u001b[1;33m\u001b[0m\u001b[1;33m\u001b[0m\u001b[0m\n\u001b[0;32m    557\u001b[0m               \u001b[0mnum_outputs\u001b[0m\u001b[1;33m=\u001b[0m\u001b[0mself\u001b[0m\u001b[1;33m.\u001b[0m\u001b[0m_num_outputs\u001b[0m\u001b[1;33m,\u001b[0m\u001b[1;33m\u001b[0m\u001b[1;33m\u001b[0m\u001b[0m\n",
      "\u001b[1;32m~\\.conda\\envs\\TF_24\\lib\\site-packages\\tensorflow\\python\\eager\\execute.py\u001b[0m in \u001b[0;36mquick_execute\u001b[1;34m(op_name, num_outputs, inputs, attrs, ctx, name)\u001b[0m\n\u001b[0;32m     57\u001b[0m   \u001b[1;32mtry\u001b[0m\u001b[1;33m:\u001b[0m\u001b[1;33m\u001b[0m\u001b[1;33m\u001b[0m\u001b[0m\n\u001b[0;32m     58\u001b[0m     \u001b[0mctx\u001b[0m\u001b[1;33m.\u001b[0m\u001b[0mensure_initialized\u001b[0m\u001b[1;33m(\u001b[0m\u001b[1;33m)\u001b[0m\u001b[1;33m\u001b[0m\u001b[1;33m\u001b[0m\u001b[0m\n\u001b[1;32m---> 59\u001b[1;33m     tensors = pywrap_tfe.TFE_Py_Execute(ctx._handle, device_name, op_name,\n\u001b[0m\u001b[0;32m     60\u001b[0m                                         inputs, attrs, num_outputs)\n\u001b[0;32m     61\u001b[0m   \u001b[1;32mexcept\u001b[0m \u001b[0mcore\u001b[0m\u001b[1;33m.\u001b[0m\u001b[0m_NotOkStatusException\u001b[0m \u001b[1;32mas\u001b[0m \u001b[0me\u001b[0m\u001b[1;33m:\u001b[0m\u001b[1;33m\u001b[0m\u001b[1;33m\u001b[0m\u001b[0m\n",
      "\u001b[1;31mKeyboardInterrupt\u001b[0m: "
     ]
    }
   ],
   "source": [
    "history=pred_model.fit(X_train2, y_train2_2,epochs=20,batch_size=256,shuffle=True,validation_split=0.05)\n",
    "plt.plot(history.history['loss'])\n",
    "plt.plot(history.history['val_loss'])\n",
    "plt.title('model loss')\n",
    "plt.ylabel('loss')\n",
    "plt.xlabel('epoch')\n",
    "plt.legend(['train', 'test'], loc='upper left')\n",
    "plt.show()"
   ]
  },
  {
   "cell_type": "code",
   "execution_count": 58,
   "metadata": {},
   "outputs": [
    {
     "name": "stdout",
     "output_type": "stream",
     "text": [
      "89/89 [==============================] - 2s 24ms/step\n",
      "0.2825034121428257\n",
      "0.2825034121428257\n",
      "              precision    recall  f1-score   support\n",
      "\n",
      "           0       0.00      0.00      0.00      3416\n",
      "           1       0.40      0.05      0.09      9619\n",
      "           2       0.63      0.99      0.77     28392\n",
      "           3       0.00      0.00      0.00       915\n",
      "           4       0.46      0.67      0.55     17333\n",
      "           5       0.00      0.00      0.00      1897\n",
      "           6       0.00      0.00      0.00       667\n",
      "           7       0.00      0.00      0.00       845\n",
      "           8       0.42      0.31      0.36      9309\n",
      "           9       0.00      0.00      0.00       389\n",
      "\n",
      "   micro avg       0.55      0.59      0.57     72782\n",
      "   macro avg       0.19      0.20      0.18     72782\n",
      "weighted avg       0.46      0.59      0.49     72782\n",
      " samples avg       0.56      0.61      0.56     72782\n",
      "\n",
      "[[[42010     0]\n",
      "  [ 3416     0]]\n",
      "\n",
      " [[35114   693]\n",
      "  [ 9152   467]]\n",
      "\n",
      " [[  341 16693]\n",
      "  [  192 28200]]\n",
      "\n",
      " [[44511     0]\n",
      "  [  915     0]]\n",
      "\n",
      " [[14437 13656]\n",
      "  [ 5713 11620]]\n",
      "\n",
      " [[43529     0]\n",
      "  [ 1897     0]]\n",
      "\n",
      " [[44759     0]\n",
      "  [  667     0]]\n",
      "\n",
      " [[44581     0]\n",
      "  [  845     0]]\n",
      "\n",
      " [[32191  3926]\n",
      "  [ 6449  2860]]\n",
      "\n",
      " [[45037     0]\n",
      "  [  389     0]]]\n"
     ]
    },
    {
     "name": "stderr",
     "output_type": "stream",
     "text": [
      "C:\\Users\\XXX\\.conda\\envs\\TF_24\\lib\\site-packages\\sklearn\\metrics\\_classification.py:1221: UndefinedMetricWarning: Precision and F-score are ill-defined and being set to 0.0 in labels with no predicted samples. Use `zero_division` parameter to control this behavior.\n",
      "  _warn_prf(average, modifier, msg_start, len(result))\n"
     ]
    }
   ],
   "source": [
    "preds1 = pred_model.predict(X_test2,verbose=1,batch_size=512)\n",
    "#print(preds1)\n",
    "#print(y_test2)\n",
    "ac_sc = get_best_s()\n",
    "preds1[preds1>=ac_sc] = 1\n",
    "preds1[preds1<1-ac_sc] = 0\n",
    "print (accuracy_score(y_test2_2, preds1))\n",
    "print (classification_report(y_test2_2, preds1))\n",
    "print (multilabel_confusion_matrix(y_test2_2, preds1))"
   ]
  },
  {
   "cell_type": "code",
   "execution_count": null,
   "metadata": {},
   "outputs": [],
   "source": []
  },
  {
   "cell_type": "code",
   "execution_count": null,
   "metadata": {},
   "outputs": [],
   "source": []
  },
  {
   "cell_type": "code",
   "execution_count": null,
   "metadata": {},
   "outputs": [],
   "source": []
  },
  {
   "cell_type": "code",
   "execution_count": 4,
   "metadata": {},
   "outputs": [
    {
     "data": {
      "image/png": "[encoded data removed]",
      "text/plain": [
       "<IPython.core.display.Image object>"
      ]
     },
     "execution_count": 4,
     "metadata": {},
     "output_type": "execute_result"
    }
   ],
   "source": [
    "tf.keras.utils.plot_model(\n",
    "    autoencoder,\n",
    "    to_file=\"model.png\",show_shapes=True,show_layer_names=False)"
   ]
  },
  {
   "cell_type": "code",
   "execution_count": 5,
   "metadata": {},
   "outputs": [],
   "source": []
  },
  {
   "cell_type": "code",
   "execution_count": 3,
   "metadata": {},
   "outputs": [
    {
     "name": "stdout",
     "output_type": "stream",
     "text": [
      "('Failed to import pydot. You must `pip install pydot` and install graphviz (https://graphviz.gitlab.io/download/), ', 'for `pydotprint` to work.')\n"
     ]
    }
   ],
   "source": [
    "tf.keras.utils.plot_model(\n",
    "    autoencoder,\n",
    "    to_file=\"model.png\",show_shapes=True,show_layer_names=False)"
   ]
  },
  {
   "cell_type": "code",
   "execution_count": 59,
   "metadata": {},
   "outputs": [],
   "source": [
    "######## Dense ~~~~~~~~~~~~~~\n",
    "encoding_dim = 512  # 32 floats -> compression of factor 24.5, assuming the input is 784 floats\n",
    "\n",
    "# This is our input image\n",
    "input_img = keras.Input(shape=(4096,))\n",
    "# \"encoded\" is the encoded representation of the input\n",
    "th = layers.Dense(1024,activation=\"relu\")(input_img)\n",
    "encoded = layers.Dense(encoding_dim,activation='relu')(th)\n",
    "# \"decoded\" is the lossy reconstruction of the input\n",
    "th2 = layers.Dense(1024,activation=\"relu\")(encoded)\n",
    "decoded = layers.Dense(4096, activation='sigmoid')(th2)\n",
    "#resh = layers.Reshape((8,512))(encoded)\n",
    "# This model maps an input to its reconstruction\n",
    "autoencoder = keras.Model(input_img, decoded)"
   ]
  },
  {
   "cell_type": "code",
   "execution_count": 141,
   "metadata": {},
   "outputs": [],
   "source": [
    "######## Dense ~~~~~~~~~~~~~~\n",
    "encoding_dim = 512  # 32 floats -> compression of factor 24.5, assuming the input is 784 floats\n",
    "\n",
    "# This is our input image\n",
    "input_img = keras.Input(shape=(8,512,))\n",
    "# \"encoded\" is the encoded representation of the input\n",
    "a = layers.Permute((2,1))(input_img)\n",
    "x = layers.Conv1D(256,12,activation=\"relu\")(a)\n",
    "x1 = layers.MaxPooling1D(2)(x)\n",
    "x2 = layers.Conv1D(128,10, activation='relu')(x1)\n",
    "x3 = layers.MaxPooling1D(2)(x2)\n",
    "x3 = layers.Conv1D(64,10, activation='relu')(x3)\n",
    "x4 = layers.AveragePooling1D()(x3)\n",
    "flat = layers.Flatten()(x4)\n",
    "encoded = layers.Dense(encoding_dim)(flat)\n",
    "d1 = layers.Dense(64)(encoded)\n",
    "d2 = layers.Reshape((16,4))(d1)\n",
    "d3 = layers.Conv1D(256,1,strides=1, activation='relu')(d2)\n",
    "d4 = layers.UpSampling1D(2)(d3)\n",
    "d4 = layers.UpSampling1D(2)(d4)\n",
    "d5 = layers.Conv1D(256,1,strides=1, activation='relu')(d4)\n",
    "d6 = layers.UpSampling1D(2)(d5)\n",
    "d6 = layers.UpSampling1D(2)(d6)\n",
    "d6 = layers.Conv1D(256,1,strides=1, activation='relu')(d6)\n",
    "d7 =layers. UpSampling1D(2)(d6)\n",
    "decoded = layers.Conv1D(8,1,strides=1, activation='sigmoid')(d7)\n",
    "decoded = layers.Permute((2,1))(decoded)\n",
    "autoencoder = keras.Model(input_img, decoded)"
   ]
  },
  {
   "cell_type": "code",
   "execution_count": 142,
   "metadata": {},
   "outputs": [],
   "source": [
    "encoder = keras.Model(input_img, encoded)"
   ]
  },
  {
   "cell_type": "code",
   "execution_count": 62,
   "metadata": {},
   "outputs": [
    {
     "ename": "ValueError",
     "evalue": "Dimensions must be equal, but are 512 and 1024 for '{{node dense_23/MatMul}} = MatMul[T=DT_FLOAT, transpose_a=false, transpose_b=false](Placeholder, dense_23/MatMul/ReadVariableOp)' with input shapes: [?,512], [1024,4096].",
     "output_type": "error",
     "traceback": [
      "\u001b[1;31m---------------------------------------------------------------------------\u001b[0m",
      "\u001b[1;31mInvalidArgumentError\u001b[0m                      Traceback (most recent call last)",
      "\u001b[1;32m~\\.conda\\envs\\TF_24\\lib\\site-packages\\tensorflow\\python\\framework\\ops.py\u001b[0m in \u001b[0;36m_create_c_op\u001b[1;34m(graph, node_def, inputs, control_inputs, op_def)\u001b[0m\n\u001b[0;32m   1852\u001b[0m   \u001b[1;32mtry\u001b[0m\u001b[1;33m:\u001b[0m\u001b[1;33m\u001b[0m\u001b[1;33m\u001b[0m\u001b[0m\n\u001b[1;32m-> 1853\u001b[1;33m     \u001b[0mc_op\u001b[0m \u001b[1;33m=\u001b[0m \u001b[0mpywrap_tf_session\u001b[0m\u001b[1;33m.\u001b[0m\u001b[0mTF_FinishOperation\u001b[0m\u001b[1;33m(\u001b[0m\u001b[0mop_desc\u001b[0m\u001b[1;33m)\u001b[0m\u001b[1;33m\u001b[0m\u001b[1;33m\u001b[0m\u001b[0m\n\u001b[0m\u001b[0;32m   1854\u001b[0m   \u001b[1;32mexcept\u001b[0m \u001b[0merrors\u001b[0m\u001b[1;33m.\u001b[0m\u001b[0mInvalidArgumentError\u001b[0m \u001b[1;32mas\u001b[0m \u001b[0me\u001b[0m\u001b[1;33m:\u001b[0m\u001b[1;33m\u001b[0m\u001b[1;33m\u001b[0m\u001b[0m\n",
      "\u001b[1;31mInvalidArgumentError\u001b[0m: Dimensions must be equal, but are 512 and 1024 for '{{node dense_23/MatMul}} = MatMul[T=DT_FLOAT, transpose_a=false, transpose_b=false](Placeholder, dense_23/MatMul/ReadVariableOp)' with input shapes: [?,512], [1024,4096].",
      "\nDuring handling of the above exception, another exception occurred:\n",
      "\u001b[1;31mValueError\u001b[0m                                Traceback (most recent call last)",
      "\u001b[1;32m<ipython-input-62-71370221fbc1>\u001b[0m in \u001b[0;36m<module>\u001b[1;34m\u001b[0m\n\u001b[0;32m      4\u001b[0m \u001b[0mdecoder_layer2\u001b[0m \u001b[1;33m=\u001b[0m \u001b[0mautoencoder\u001b[0m\u001b[1;33m.\u001b[0m\u001b[0mlayers\u001b[0m\u001b[1;33m[\u001b[0m\u001b[1;33m-\u001b[0m\u001b[1;36m1\u001b[0m\u001b[1;33m]\u001b[0m\u001b[1;33m\u001b[0m\u001b[1;33m\u001b[0m\u001b[0m\n\u001b[0;32m      5\u001b[0m \u001b[1;31m# Create the decoder model\u001b[0m\u001b[1;33m\u001b[0m\u001b[1;33m\u001b[0m\u001b[1;33m\u001b[0m\u001b[0m\n\u001b[1;32m----> 6\u001b[1;33m \u001b[0mdecoder\u001b[0m \u001b[1;33m=\u001b[0m \u001b[0mkeras\u001b[0m\u001b[1;33m.\u001b[0m\u001b[0mModel\u001b[0m\u001b[1;33m(\u001b[0m\u001b[0mencoded_input\u001b[0m\u001b[1;33m,\u001b[0m \u001b[0mdecoder_layer2\u001b[0m\u001b[1;33m(\u001b[0m\u001b[0mencoded_input\u001b[0m\u001b[1;33m)\u001b[0m\u001b[1;33m)\u001b[0m\u001b[1;33m\u001b[0m\u001b[1;33m\u001b[0m\u001b[0m\n\u001b[0m",
      "\u001b[1;32m~\\.conda\\envs\\TF_24\\lib\\site-packages\\tensorflow\\python\\keras\\engine\\base_layer.py\u001b[0m in \u001b[0;36m__call__\u001b[1;34m(self, *args, **kwargs)\u001b[0m\n\u001b[0;32m    949\u001b[0m     \u001b[1;31m# >> model = tf.keras.Model(inputs, outputs)\u001b[0m\u001b[1;33m\u001b[0m\u001b[1;33m\u001b[0m\u001b[1;33m\u001b[0m\u001b[0m\n\u001b[0;32m    950\u001b[0m     \u001b[1;32mif\u001b[0m \u001b[0m_in_functional_construction_mode\u001b[0m\u001b[1;33m(\u001b[0m\u001b[0mself\u001b[0m\u001b[1;33m,\u001b[0m \u001b[0minputs\u001b[0m\u001b[1;33m,\u001b[0m \u001b[0margs\u001b[0m\u001b[1;33m,\u001b[0m \u001b[0mkwargs\u001b[0m\u001b[1;33m,\u001b[0m \u001b[0minput_list\u001b[0m\u001b[1;33m)\u001b[0m\u001b[1;33m:\u001b[0m\u001b[1;33m\u001b[0m\u001b[1;33m\u001b[0m\u001b[0m\n\u001b[1;32m--> 951\u001b[1;33m       return self._functional_construction_call(inputs, args, kwargs,\n\u001b[0m\u001b[0;32m    952\u001b[0m                                                 input_list)\n\u001b[0;32m    953\u001b[0m \u001b[1;33m\u001b[0m\u001b[0m\n",
      "\u001b[1;32m~\\.conda\\envs\\TF_24\\lib\\site-packages\\tensorflow\\python\\keras\\engine\\base_layer.py\u001b[0m in \u001b[0;36m_functional_construction_call\u001b[1;34m(self, inputs, args, kwargs, input_list)\u001b[0m\n\u001b[0;32m   1088\u001b[0m           layer=self, inputs=inputs, build_graph=True, training=training_value):\n\u001b[0;32m   1089\u001b[0m         \u001b[1;31m# Check input assumptions set after layer building, e.g. input shape.\u001b[0m\u001b[1;33m\u001b[0m\u001b[1;33m\u001b[0m\u001b[1;33m\u001b[0m\u001b[0m\n\u001b[1;32m-> 1090\u001b[1;33m         outputs = self._keras_tensor_symbolic_call(\n\u001b[0m\u001b[0;32m   1091\u001b[0m             inputs, input_masks, args, kwargs)\n\u001b[0;32m   1092\u001b[0m \u001b[1;33m\u001b[0m\u001b[0m\n",
      "\u001b[1;32m~\\.conda\\envs\\TF_24\\lib\\site-packages\\tensorflow\\python\\keras\\engine\\base_layer.py\u001b[0m in \u001b[0;36m_keras_tensor_symbolic_call\u001b[1;34m(self, inputs, input_masks, args, kwargs)\u001b[0m\n\u001b[0;32m    820\u001b[0m       \u001b[1;32mreturn\u001b[0m \u001b[0mnest\u001b[0m\u001b[1;33m.\u001b[0m\u001b[0mmap_structure\u001b[0m\u001b[1;33m(\u001b[0m\u001b[0mkeras_tensor\u001b[0m\u001b[1;33m.\u001b[0m\u001b[0mKerasTensor\u001b[0m\u001b[1;33m,\u001b[0m \u001b[0moutput_signature\u001b[0m\u001b[1;33m)\u001b[0m\u001b[1;33m\u001b[0m\u001b[1;33m\u001b[0m\u001b[0m\n\u001b[0;32m    821\u001b[0m     \u001b[1;32melse\u001b[0m\u001b[1;33m:\u001b[0m\u001b[1;33m\u001b[0m\u001b[1;33m\u001b[0m\u001b[0m\n\u001b[1;32m--> 822\u001b[1;33m       \u001b[1;32mreturn\u001b[0m \u001b[0mself\u001b[0m\u001b[1;33m.\u001b[0m\u001b[0m_infer_output_signature\u001b[0m\u001b[1;33m(\u001b[0m\u001b[0minputs\u001b[0m\u001b[1;33m,\u001b[0m \u001b[0margs\u001b[0m\u001b[1;33m,\u001b[0m \u001b[0mkwargs\u001b[0m\u001b[1;33m,\u001b[0m \u001b[0minput_masks\u001b[0m\u001b[1;33m)\u001b[0m\u001b[1;33m\u001b[0m\u001b[1;33m\u001b[0m\u001b[0m\n\u001b[0m\u001b[0;32m    823\u001b[0m \u001b[1;33m\u001b[0m\u001b[0m\n\u001b[0;32m    824\u001b[0m   \u001b[1;32mdef\u001b[0m \u001b[0m_infer_output_signature\u001b[0m\u001b[1;33m(\u001b[0m\u001b[0mself\u001b[0m\u001b[1;33m,\u001b[0m \u001b[0minputs\u001b[0m\u001b[1;33m,\u001b[0m \u001b[0margs\u001b[0m\u001b[1;33m,\u001b[0m \u001b[0mkwargs\u001b[0m\u001b[1;33m,\u001b[0m \u001b[0minput_masks\u001b[0m\u001b[1;33m)\u001b[0m\u001b[1;33m:\u001b[0m\u001b[1;33m\u001b[0m\u001b[1;33m\u001b[0m\u001b[0m\n",
      "\u001b[1;32m~\\.conda\\envs\\TF_24\\lib\\site-packages\\tensorflow\\python\\keras\\engine\\base_layer.py\u001b[0m in \u001b[0;36m_infer_output_signature\u001b[1;34m(self, inputs, args, kwargs, input_masks)\u001b[0m\n\u001b[0;32m    861\u001b[0m           \u001b[1;31m# TODO(kaftan): do we maybe_build here, or have we already done it?\u001b[0m\u001b[1;33m\u001b[0m\u001b[1;33m\u001b[0m\u001b[1;33m\u001b[0m\u001b[0m\n\u001b[0;32m    862\u001b[0m           \u001b[0mself\u001b[0m\u001b[1;33m.\u001b[0m\u001b[0m_maybe_build\u001b[0m\u001b[1;33m(\u001b[0m\u001b[0minputs\u001b[0m\u001b[1;33m)\u001b[0m\u001b[1;33m\u001b[0m\u001b[1;33m\u001b[0m\u001b[0m\n\u001b[1;32m--> 863\u001b[1;33m           \u001b[0moutputs\u001b[0m \u001b[1;33m=\u001b[0m \u001b[0mcall_fn\u001b[0m\u001b[1;33m(\u001b[0m\u001b[0minputs\u001b[0m\u001b[1;33m,\u001b[0m \u001b[1;33m*\u001b[0m\u001b[0margs\u001b[0m\u001b[1;33m,\u001b[0m \u001b[1;33m**\u001b[0m\u001b[0mkwargs\u001b[0m\u001b[1;33m)\u001b[0m\u001b[1;33m\u001b[0m\u001b[1;33m\u001b[0m\u001b[0m\n\u001b[0m\u001b[0;32m    864\u001b[0m \u001b[1;33m\u001b[0m\u001b[0m\n\u001b[0;32m    865\u001b[0m         \u001b[0mself\u001b[0m\u001b[1;33m.\u001b[0m\u001b[0m_handle_activity_regularization\u001b[0m\u001b[1;33m(\u001b[0m\u001b[0minputs\u001b[0m\u001b[1;33m,\u001b[0m \u001b[0moutputs\u001b[0m\u001b[1;33m)\u001b[0m\u001b[1;33m\u001b[0m\u001b[1;33m\u001b[0m\u001b[0m\n",
      "\u001b[1;32m~\\.conda\\envs\\TF_24\\lib\\site-packages\\tensorflow\\python\\keras\\layers\\core.py\u001b[0m in \u001b[0;36mcall\u001b[1;34m(self, inputs)\u001b[0m\n\u001b[0;32m   1205\u001b[0m \u001b[1;33m\u001b[0m\u001b[0m\n\u001b[0;32m   1206\u001b[0m   \u001b[1;32mdef\u001b[0m \u001b[0mcall\u001b[0m\u001b[1;33m(\u001b[0m\u001b[0mself\u001b[0m\u001b[1;33m,\u001b[0m \u001b[0minputs\u001b[0m\u001b[1;33m)\u001b[0m\u001b[1;33m:\u001b[0m\u001b[1;33m\u001b[0m\u001b[1;33m\u001b[0m\u001b[0m\n\u001b[1;32m-> 1207\u001b[1;33m     return core_ops.dense(\n\u001b[0m\u001b[0;32m   1208\u001b[0m         \u001b[0minputs\u001b[0m\u001b[1;33m,\u001b[0m\u001b[1;33m\u001b[0m\u001b[1;33m\u001b[0m\u001b[0m\n\u001b[0;32m   1209\u001b[0m         \u001b[0mself\u001b[0m\u001b[1;33m.\u001b[0m\u001b[0mkernel\u001b[0m\u001b[1;33m,\u001b[0m\u001b[1;33m\u001b[0m\u001b[1;33m\u001b[0m\u001b[0m\n",
      "\u001b[1;32m~\\.conda\\envs\\TF_24\\lib\\site-packages\\tensorflow\\python\\keras\\layers\\ops\\core.py\u001b[0m in \u001b[0;36mdense\u001b[1;34m(inputs, kernel, bias, activation, dtype)\u001b[0m\n\u001b[0;32m     51\u001b[0m       \u001b[0moutputs\u001b[0m \u001b[1;33m=\u001b[0m \u001b[0msparse_ops\u001b[0m\u001b[1;33m.\u001b[0m\u001b[0msparse_tensor_dense_matmul\u001b[0m\u001b[1;33m(\u001b[0m\u001b[0minputs\u001b[0m\u001b[1;33m,\u001b[0m \u001b[0mkernel\u001b[0m\u001b[1;33m)\u001b[0m\u001b[1;33m\u001b[0m\u001b[1;33m\u001b[0m\u001b[0m\n\u001b[0;32m     52\u001b[0m     \u001b[1;32melse\u001b[0m\u001b[1;33m:\u001b[0m\u001b[1;33m\u001b[0m\u001b[1;33m\u001b[0m\u001b[0m\n\u001b[1;32m---> 53\u001b[1;33m       \u001b[0moutputs\u001b[0m \u001b[1;33m=\u001b[0m \u001b[0mgen_math_ops\u001b[0m\u001b[1;33m.\u001b[0m\u001b[0mmat_mul\u001b[0m\u001b[1;33m(\u001b[0m\u001b[0minputs\u001b[0m\u001b[1;33m,\u001b[0m \u001b[0mkernel\u001b[0m\u001b[1;33m)\u001b[0m\u001b[1;33m\u001b[0m\u001b[1;33m\u001b[0m\u001b[0m\n\u001b[0m\u001b[0;32m     54\u001b[0m   \u001b[1;31m# Broadcast kernel to inputs.\u001b[0m\u001b[1;33m\u001b[0m\u001b[1;33m\u001b[0m\u001b[1;33m\u001b[0m\u001b[0m\n\u001b[0;32m     55\u001b[0m   \u001b[1;32melse\u001b[0m\u001b[1;33m:\u001b[0m\u001b[1;33m\u001b[0m\u001b[1;33m\u001b[0m\u001b[0m\n",
      "\u001b[1;32m~\\.conda\\envs\\TF_24\\lib\\site-packages\\tensorflow\\python\\ops\\gen_math_ops.py\u001b[0m in \u001b[0;36mmat_mul\u001b[1;34m(a, b, transpose_a, transpose_b, name)\u001b[0m\n\u001b[0;32m   5545\u001b[0m     \u001b[0mtranspose_b\u001b[0m \u001b[1;33m=\u001b[0m \u001b[1;32mFalse\u001b[0m\u001b[1;33m\u001b[0m\u001b[1;33m\u001b[0m\u001b[0m\n\u001b[0;32m   5546\u001b[0m   \u001b[0mtranspose_b\u001b[0m \u001b[1;33m=\u001b[0m \u001b[0m_execute\u001b[0m\u001b[1;33m.\u001b[0m\u001b[0mmake_bool\u001b[0m\u001b[1;33m(\u001b[0m\u001b[0mtranspose_b\u001b[0m\u001b[1;33m,\u001b[0m \u001b[1;34m\"transpose_b\"\u001b[0m\u001b[1;33m)\u001b[0m\u001b[1;33m\u001b[0m\u001b[1;33m\u001b[0m\u001b[0m\n\u001b[1;32m-> 5547\u001b[1;33m   _, _, _op, _outputs = _op_def_library._apply_op_helper(\n\u001b[0m\u001b[0;32m   5548\u001b[0m         \u001b[1;34m\"MatMul\"\u001b[0m\u001b[1;33m,\u001b[0m \u001b[0ma\u001b[0m\u001b[1;33m=\u001b[0m\u001b[0ma\u001b[0m\u001b[1;33m,\u001b[0m \u001b[0mb\u001b[0m\u001b[1;33m=\u001b[0m\u001b[0mb\u001b[0m\u001b[1;33m,\u001b[0m \u001b[0mtranspose_a\u001b[0m\u001b[1;33m=\u001b[0m\u001b[0mtranspose_a\u001b[0m\u001b[1;33m,\u001b[0m \u001b[0mtranspose_b\u001b[0m\u001b[1;33m=\u001b[0m\u001b[0mtranspose_b\u001b[0m\u001b[1;33m,\u001b[0m\u001b[1;33m\u001b[0m\u001b[1;33m\u001b[0m\u001b[0m\n\u001b[0;32m   5549\u001b[0m                   name=name)\n",
      "\u001b[1;32m~\\.conda\\envs\\TF_24\\lib\\site-packages\\tensorflow\\python\\framework\\op_def_library.py\u001b[0m in \u001b[0;36m_apply_op_helper\u001b[1;34m(op_type_name, name, **keywords)\u001b[0m\n\u001b[0;32m    746\u001b[0m       \u001b[1;31m# Add Op to graph\u001b[0m\u001b[1;33m\u001b[0m\u001b[1;33m\u001b[0m\u001b[1;33m\u001b[0m\u001b[0m\n\u001b[0;32m    747\u001b[0m       \u001b[1;31m# pylint: disable=protected-access\u001b[0m\u001b[1;33m\u001b[0m\u001b[1;33m\u001b[0m\u001b[1;33m\u001b[0m\u001b[0m\n\u001b[1;32m--> 748\u001b[1;33m       op = g._create_op_internal(op_type_name, inputs, dtypes=None,\n\u001b[0m\u001b[0;32m    749\u001b[0m                                  \u001b[0mname\u001b[0m\u001b[1;33m=\u001b[0m\u001b[0mscope\u001b[0m\u001b[1;33m,\u001b[0m \u001b[0minput_types\u001b[0m\u001b[1;33m=\u001b[0m\u001b[0minput_types\u001b[0m\u001b[1;33m,\u001b[0m\u001b[1;33m\u001b[0m\u001b[1;33m\u001b[0m\u001b[0m\n\u001b[0;32m    750\u001b[0m                                  attrs=attr_protos, op_def=op_def)\n",
      "\u001b[1;32m~\\.conda\\envs\\TF_24\\lib\\site-packages\\tensorflow\\python\\framework\\func_graph.py\u001b[0m in \u001b[0;36m_create_op_internal\u001b[1;34m(self, op_type, inputs, dtypes, input_types, name, attrs, op_def, compute_device)\u001b[0m\n\u001b[0;32m    588\u001b[0m       \u001b[0minp\u001b[0m \u001b[1;33m=\u001b[0m \u001b[0mself\u001b[0m\u001b[1;33m.\u001b[0m\u001b[0mcapture\u001b[0m\u001b[1;33m(\u001b[0m\u001b[0minp\u001b[0m\u001b[1;33m)\u001b[0m\u001b[1;33m\u001b[0m\u001b[1;33m\u001b[0m\u001b[0m\n\u001b[0;32m    589\u001b[0m       \u001b[0mcaptured_inputs\u001b[0m\u001b[1;33m.\u001b[0m\u001b[0mappend\u001b[0m\u001b[1;33m(\u001b[0m\u001b[0minp\u001b[0m\u001b[1;33m)\u001b[0m\u001b[1;33m\u001b[0m\u001b[1;33m\u001b[0m\u001b[0m\n\u001b[1;32m--> 590\u001b[1;33m     return super(FuncGraph, self)._create_op_internal(  # pylint: disable=protected-access\n\u001b[0m\u001b[0;32m    591\u001b[0m         \u001b[0mop_type\u001b[0m\u001b[1;33m,\u001b[0m \u001b[0mcaptured_inputs\u001b[0m\u001b[1;33m,\u001b[0m \u001b[0mdtypes\u001b[0m\u001b[1;33m,\u001b[0m \u001b[0minput_types\u001b[0m\u001b[1;33m,\u001b[0m \u001b[0mname\u001b[0m\u001b[1;33m,\u001b[0m \u001b[0mattrs\u001b[0m\u001b[1;33m,\u001b[0m \u001b[0mop_def\u001b[0m\u001b[1;33m,\u001b[0m\u001b[1;33m\u001b[0m\u001b[1;33m\u001b[0m\u001b[0m\n\u001b[0;32m    592\u001b[0m         compute_device)\n",
      "\u001b[1;32m~\\.conda\\envs\\TF_24\\lib\\site-packages\\tensorflow\\python\\framework\\ops.py\u001b[0m in \u001b[0;36m_create_op_internal\u001b[1;34m(self, op_type, inputs, dtypes, input_types, name, attrs, op_def, compute_device)\u001b[0m\n\u001b[0;32m   3526\u001b[0m     \u001b[1;31m# Session.run call cannot occur between creating and mutating the op.\u001b[0m\u001b[1;33m\u001b[0m\u001b[1;33m\u001b[0m\u001b[1;33m\u001b[0m\u001b[0m\n\u001b[0;32m   3527\u001b[0m     \u001b[1;32mwith\u001b[0m \u001b[0mself\u001b[0m\u001b[1;33m.\u001b[0m\u001b[0m_mutation_lock\u001b[0m\u001b[1;33m(\u001b[0m\u001b[1;33m)\u001b[0m\u001b[1;33m:\u001b[0m\u001b[1;33m\u001b[0m\u001b[1;33m\u001b[0m\u001b[0m\n\u001b[1;32m-> 3528\u001b[1;33m       ret = Operation(\n\u001b[0m\u001b[0;32m   3529\u001b[0m           \u001b[0mnode_def\u001b[0m\u001b[1;33m,\u001b[0m\u001b[1;33m\u001b[0m\u001b[1;33m\u001b[0m\u001b[0m\n\u001b[0;32m   3530\u001b[0m           \u001b[0mself\u001b[0m\u001b[1;33m,\u001b[0m\u001b[1;33m\u001b[0m\u001b[1;33m\u001b[0m\u001b[0m\n",
      "\u001b[1;32m~\\.conda\\envs\\TF_24\\lib\\site-packages\\tensorflow\\python\\framework\\ops.py\u001b[0m in \u001b[0;36m__init__\u001b[1;34m(self, node_def, g, inputs, output_types, control_inputs, input_types, original_op, op_def)\u001b[0m\n\u001b[0;32m   2013\u001b[0m       \u001b[1;32mif\u001b[0m \u001b[0mop_def\u001b[0m \u001b[1;32mis\u001b[0m \u001b[1;32mNone\u001b[0m\u001b[1;33m:\u001b[0m\u001b[1;33m\u001b[0m\u001b[1;33m\u001b[0m\u001b[0m\n\u001b[0;32m   2014\u001b[0m         \u001b[0mop_def\u001b[0m \u001b[1;33m=\u001b[0m \u001b[0mself\u001b[0m\u001b[1;33m.\u001b[0m\u001b[0m_graph\u001b[0m\u001b[1;33m.\u001b[0m\u001b[0m_get_op_def\u001b[0m\u001b[1;33m(\u001b[0m\u001b[0mnode_def\u001b[0m\u001b[1;33m.\u001b[0m\u001b[0mop\u001b[0m\u001b[1;33m)\u001b[0m\u001b[1;33m\u001b[0m\u001b[1;33m\u001b[0m\u001b[0m\n\u001b[1;32m-> 2015\u001b[1;33m       self._c_op = _create_c_op(self._graph, node_def, inputs,\n\u001b[0m\u001b[0;32m   2016\u001b[0m                                 control_input_ops, op_def)\n\u001b[0;32m   2017\u001b[0m       \u001b[0mname\u001b[0m \u001b[1;33m=\u001b[0m \u001b[0mcompat\u001b[0m\u001b[1;33m.\u001b[0m\u001b[0mas_str\u001b[0m\u001b[1;33m(\u001b[0m\u001b[0mnode_def\u001b[0m\u001b[1;33m.\u001b[0m\u001b[0mname\u001b[0m\u001b[1;33m)\u001b[0m\u001b[1;33m\u001b[0m\u001b[1;33m\u001b[0m\u001b[0m\n",
      "\u001b[1;32m~\\.conda\\envs\\TF_24\\lib\\site-packages\\tensorflow\\python\\framework\\ops.py\u001b[0m in \u001b[0;36m_create_c_op\u001b[1;34m(graph, node_def, inputs, control_inputs, op_def)\u001b[0m\n\u001b[0;32m   1854\u001b[0m   \u001b[1;32mexcept\u001b[0m \u001b[0merrors\u001b[0m\u001b[1;33m.\u001b[0m\u001b[0mInvalidArgumentError\u001b[0m \u001b[1;32mas\u001b[0m \u001b[0me\u001b[0m\u001b[1;33m:\u001b[0m\u001b[1;33m\u001b[0m\u001b[1;33m\u001b[0m\u001b[0m\n\u001b[0;32m   1855\u001b[0m     \u001b[1;31m# Convert to ValueError for backwards compatibility.\u001b[0m\u001b[1;33m\u001b[0m\u001b[1;33m\u001b[0m\u001b[1;33m\u001b[0m\u001b[0m\n\u001b[1;32m-> 1856\u001b[1;33m     \u001b[1;32mraise\u001b[0m \u001b[0mValueError\u001b[0m\u001b[1;33m(\u001b[0m\u001b[0mstr\u001b[0m\u001b[1;33m(\u001b[0m\u001b[0me\u001b[0m\u001b[1;33m)\u001b[0m\u001b[1;33m)\u001b[0m\u001b[1;33m\u001b[0m\u001b[1;33m\u001b[0m\u001b[0m\n\u001b[0m\u001b[0;32m   1857\u001b[0m \u001b[1;33m\u001b[0m\u001b[0m\n\u001b[0;32m   1858\u001b[0m   \u001b[1;32mreturn\u001b[0m \u001b[0mc_op\u001b[0m\u001b[1;33m\u001b[0m\u001b[1;33m\u001b[0m\u001b[0m\n",
      "\u001b[1;31mValueError\u001b[0m: Dimensions must be equal, but are 512 and 1024 for '{{node dense_23/MatMul}} = MatMul[T=DT_FLOAT, transpose_a=false, transpose_b=false](Placeholder, dense_23/MatMul/ReadVariableOp)' with input shapes: [?,512], [1024,4096]."
     ]
    }
   ],
   "source": [
    "encoded_input = keras.Input(shape=(encoding_dim,))\n",
    "# Retrieve the last layer of the autoencoder model\n",
    "decoder_layer = autoencoder.layers[-2]\n",
    "decoder_layer2 = autoencoder.layers[-1]\n",
    "# Create the decoder model\n",
    "decoder = keras.Model(encoded_input, decoder_layer2(encoded_input))"
   ]
  },
  {
   "cell_type": "code",
   "execution_count": 143,
   "metadata": {},
   "outputs": [],
   "source": [
    "autoencoder.compile(optimizer='adam', loss='binary_crossentropy')"
   ]
  },
  {
   "cell_type": "code",
   "execution_count": 144,
   "metadata": {},
   "outputs": [
    {
     "name": "stdout",
     "output_type": "stream",
     "text": [
      "Model: \"model_35\"\n",
      "_________________________________________________________________\n",
      "Layer (type)                 Output Shape              Param #   \n",
      "=================================================================\n",
      "input_42 (InputLayer)        [(None, 8, 512)]          0         \n",
      "_________________________________________________________________\n",
      "permute_20 (Permute)         (None, 512, 8)            0         \n",
      "_________________________________________________________________\n",
      "conv1d_78 (Conv1D)           (None, 501, 256)          24832     \n",
      "_________________________________________________________________\n",
      "max_pooling1d_30 (MaxPooling (None, 250, 256)          0         \n",
      "_________________________________________________________________\n",
      "conv1d_79 (Conv1D)           (None, 241, 128)          327808    \n",
      "_________________________________________________________________\n",
      "max_pooling1d_31 (MaxPooling (None, 120, 128)          0         \n",
      "_________________________________________________________________\n",
      "conv1d_80 (Conv1D)           (None, 111, 64)           81984     \n",
      "_________________________________________________________________\n",
      "average_pooling1d_14 (Averag (None, 55, 64)            0         \n",
      "_________________________________________________________________\n",
      "flatten_13 (Flatten)         (None, 3520)              0         \n",
      "_________________________________________________________________\n",
      "dense_63 (Dense)             (None, 32)                112672    \n",
      "_________________________________________________________________\n",
      "dense_64 (Dense)             (None, 64)                2112      \n",
      "_________________________________________________________________\n",
      "reshape_13 (Reshape)         (None, 16, 4)             0         \n",
      "_________________________________________________________________\n",
      "conv1d_81 (Conv1D)           (None, 16, 256)           1280      \n",
      "_________________________________________________________________\n",
      "up_sampling1d_50 (UpSampling (None, 32, 256)           0         \n",
      "_________________________________________________________________\n",
      "up_sampling1d_51 (UpSampling (None, 64, 256)           0         \n",
      "_________________________________________________________________\n",
      "conv1d_82 (Conv1D)           (None, 64, 256)           65792     \n",
      "_________________________________________________________________\n",
      "up_sampling1d_52 (UpSampling (None, 128, 256)          0         \n",
      "_________________________________________________________________\n",
      "up_sampling1d_53 (UpSampling (None, 256, 256)          0         \n",
      "_________________________________________________________________\n",
      "conv1d_83 (Conv1D)           (None, 256, 256)          65792     \n",
      "_________________________________________________________________\n",
      "up_sampling1d_54 (UpSampling (None, 512, 256)          0         \n",
      "_________________________________________________________________\n",
      "conv1d_84 (Conv1D)           (None, 512, 8)            2056      \n",
      "_________________________________________________________________\n",
      "permute_21 (Permute)         (None, 8, 512)            0         \n",
      "=================================================================\n",
      "Total params: 684,328\n",
      "Trainable params: 684,328\n",
      "Non-trainable params: 0\n",
      "_________________________________________________________________\n"
     ]
    }
   ],
   "source": [
    "autoencoder.summary()"
   ]
  },
  {
   "cell_type": "code",
   "execution_count": null,
   "metadata": {},
   "outputs": [],
   "source": []
  },
  {
   "cell_type": "code",
   "execution_count": 11,
   "metadata": {},
   "outputs": [
    {
     "name": "stdout",
     "output_type": "stream",
     "text": [
      "(1754061, 8, 512)\n",
      "(1754061, 4096)\n"
     ]
    }
   ],
   "source": [
    "print(X_train.shape)\n",
    "print(X_test.shape)"
   ]
  },
  {
   "cell_type": "code",
   "execution_count": 145,
   "metadata": {},
   "outputs": [
    {
     "name": "stdout",
     "output_type": "stream",
     "text": [
      "Epoch 1/25\n",
      "3426/3426 [==============================] - 430s 124ms/step - loss: 0.1151\n",
      "Epoch 2/25\n",
      "3426/3426 [==============================] - 428s 125ms/step - loss: 0.0968\n",
      "Epoch 3/25\n",
      "3426/3426 [==============================] - 427s 125ms/step - loss: 0.0953\n",
      "Epoch 4/25\n",
      "3426/3426 [==============================] - 427s 125ms/step - loss: 0.0947\n",
      "Epoch 5/25\n",
      "3426/3426 [==============================] - 427s 125ms/step - loss: 0.0944\n",
      "Epoch 6/25\n",
      "3426/3426 [==============================] - 427s 125ms/step - loss: 0.0942\n",
      "Epoch 7/25\n",
      "3426/3426 [==============================] - 426s 124ms/step - loss: 0.0940\n",
      "Epoch 8/25\n",
      "3361/3426 [============================>.] - ETA: 8s - loss: 0.0939"
     ]
    },
    {
     "ename": "KeyboardInterrupt",
     "evalue": "",
     "output_type": "error",
     "traceback": [
      "\u001b[1;31m---------------------------------------------------------------------------\u001b[0m",
      "\u001b[1;31mKeyboardInterrupt\u001b[0m                         Traceback (most recent call last)",
      "\u001b[1;32m<ipython-input-145-090affd5d81f>\u001b[0m in \u001b[0;36m<module>\u001b[1;34m\u001b[0m\n\u001b[1;32m----> 1\u001b[1;33m \u001b[0mhistory\u001b[0m\u001b[1;33m=\u001b[0m\u001b[0mautoencoder\u001b[0m\u001b[1;33m.\u001b[0m\u001b[0mfit\u001b[0m\u001b[1;33m(\u001b[0m\u001b[0mX_train\u001b[0m\u001b[1;33m,\u001b[0m \u001b[0mX_train\u001b[0m\u001b[1;33m,\u001b[0m\u001b[0mepochs\u001b[0m\u001b[1;33m=\u001b[0m\u001b[1;36m25\u001b[0m\u001b[1;33m,\u001b[0m\u001b[0mbatch_size\u001b[0m\u001b[1;33m=\u001b[0m\u001b[1;36m512\u001b[0m\u001b[1;33m,\u001b[0m\u001b[0mshuffle\u001b[0m\u001b[1;33m=\u001b[0m\u001b[1;32mTrue\u001b[0m\u001b[1;33m)\u001b[0m\u001b[1;33m\u001b[0m\u001b[1;33m\u001b[0m\u001b[0m\n\u001b[0m",
      "\u001b[1;32m~\\.conda\\envs\\TF_24\\lib\\site-packages\\tensorflow\\python\\keras\\engine\\training.py\u001b[0m in \u001b[0;36mfit\u001b[1;34m(self, x, y, batch_size, epochs, verbose, callbacks, validation_split, validation_data, shuffle, class_weight, sample_weight, initial_epoch, steps_per_epoch, validation_steps, validation_batch_size, validation_freq, max_queue_size, workers, use_multiprocessing)\u001b[0m\n\u001b[0;32m   1098\u001b[0m                 _r=1):\n\u001b[0;32m   1099\u001b[0m               \u001b[0mcallbacks\u001b[0m\u001b[1;33m.\u001b[0m\u001b[0mon_train_batch_begin\u001b[0m\u001b[1;33m(\u001b[0m\u001b[0mstep\u001b[0m\u001b[1;33m)\u001b[0m\u001b[1;33m\u001b[0m\u001b[1;33m\u001b[0m\u001b[0m\n\u001b[1;32m-> 1100\u001b[1;33m               \u001b[0mtmp_logs\u001b[0m \u001b[1;33m=\u001b[0m \u001b[0mself\u001b[0m\u001b[1;33m.\u001b[0m\u001b[0mtrain_function\u001b[0m\u001b[1;33m(\u001b[0m\u001b[0miterator\u001b[0m\u001b[1;33m)\u001b[0m\u001b[1;33m\u001b[0m\u001b[1;33m\u001b[0m\u001b[0m\n\u001b[0m\u001b[0;32m   1101\u001b[0m               \u001b[1;32mif\u001b[0m \u001b[0mdata_handler\u001b[0m\u001b[1;33m.\u001b[0m\u001b[0mshould_sync\u001b[0m\u001b[1;33m:\u001b[0m\u001b[1;33m\u001b[0m\u001b[1;33m\u001b[0m\u001b[0m\n\u001b[0;32m   1102\u001b[0m                 \u001b[0mcontext\u001b[0m\u001b[1;33m.\u001b[0m\u001b[0masync_wait\u001b[0m\u001b[1;33m(\u001b[0m\u001b[1;33m)\u001b[0m\u001b[1;33m\u001b[0m\u001b[1;33m\u001b[0m\u001b[0m\n",
      "\u001b[1;32m~\\.conda\\envs\\TF_24\\lib\\site-packages\\tensorflow\\python\\eager\\def_function.py\u001b[0m in \u001b[0;36m__call__\u001b[1;34m(self, *args, **kwds)\u001b[0m\n\u001b[0;32m    826\u001b[0m     \u001b[0mtracing_count\u001b[0m \u001b[1;33m=\u001b[0m \u001b[0mself\u001b[0m\u001b[1;33m.\u001b[0m\u001b[0mexperimental_get_tracing_count\u001b[0m\u001b[1;33m(\u001b[0m\u001b[1;33m)\u001b[0m\u001b[1;33m\u001b[0m\u001b[1;33m\u001b[0m\u001b[0m\n\u001b[0;32m    827\u001b[0m     \u001b[1;32mwith\u001b[0m \u001b[0mtrace\u001b[0m\u001b[1;33m.\u001b[0m\u001b[0mTrace\u001b[0m\u001b[1;33m(\u001b[0m\u001b[0mself\u001b[0m\u001b[1;33m.\u001b[0m\u001b[0m_name\u001b[0m\u001b[1;33m)\u001b[0m \u001b[1;32mas\u001b[0m \u001b[0mtm\u001b[0m\u001b[1;33m:\u001b[0m\u001b[1;33m\u001b[0m\u001b[1;33m\u001b[0m\u001b[0m\n\u001b[1;32m--> 828\u001b[1;33m       \u001b[0mresult\u001b[0m \u001b[1;33m=\u001b[0m \u001b[0mself\u001b[0m\u001b[1;33m.\u001b[0m\u001b[0m_call\u001b[0m\u001b[1;33m(\u001b[0m\u001b[1;33m*\u001b[0m\u001b[0margs\u001b[0m\u001b[1;33m,\u001b[0m \u001b[1;33m**\u001b[0m\u001b[0mkwds\u001b[0m\u001b[1;33m)\u001b[0m\u001b[1;33m\u001b[0m\u001b[1;33m\u001b[0m\u001b[0m\n\u001b[0m\u001b[0;32m    829\u001b[0m       \u001b[0mcompiler\u001b[0m \u001b[1;33m=\u001b[0m \u001b[1;34m\"xla\"\u001b[0m \u001b[1;32mif\u001b[0m \u001b[0mself\u001b[0m\u001b[1;33m.\u001b[0m\u001b[0m_experimental_compile\u001b[0m \u001b[1;32melse\u001b[0m \u001b[1;34m\"nonXla\"\u001b[0m\u001b[1;33m\u001b[0m\u001b[1;33m\u001b[0m\u001b[0m\n\u001b[0;32m    830\u001b[0m       \u001b[0mnew_tracing_count\u001b[0m \u001b[1;33m=\u001b[0m \u001b[0mself\u001b[0m\u001b[1;33m.\u001b[0m\u001b[0mexperimental_get_tracing_count\u001b[0m\u001b[1;33m(\u001b[0m\u001b[1;33m)\u001b[0m\u001b[1;33m\u001b[0m\u001b[1;33m\u001b[0m\u001b[0m\n",
      "\u001b[1;32m~\\.conda\\envs\\TF_24\\lib\\site-packages\\tensorflow\\python\\eager\\def_function.py\u001b[0m in \u001b[0;36m_call\u001b[1;34m(self, *args, **kwds)\u001b[0m\n\u001b[0;32m    853\u001b[0m       \u001b[1;31m# In this case we have created variables on the first call, so we run the\u001b[0m\u001b[1;33m\u001b[0m\u001b[1;33m\u001b[0m\u001b[1;33m\u001b[0m\u001b[0m\n\u001b[0;32m    854\u001b[0m       \u001b[1;31m# defunned version which is guaranteed to never create variables.\u001b[0m\u001b[1;33m\u001b[0m\u001b[1;33m\u001b[0m\u001b[1;33m\u001b[0m\u001b[0m\n\u001b[1;32m--> 855\u001b[1;33m       \u001b[1;32mreturn\u001b[0m \u001b[0mself\u001b[0m\u001b[1;33m.\u001b[0m\u001b[0m_stateless_fn\u001b[0m\u001b[1;33m(\u001b[0m\u001b[1;33m*\u001b[0m\u001b[0margs\u001b[0m\u001b[1;33m,\u001b[0m \u001b[1;33m**\u001b[0m\u001b[0mkwds\u001b[0m\u001b[1;33m)\u001b[0m  \u001b[1;31m# pylint: disable=not-callable\u001b[0m\u001b[1;33m\u001b[0m\u001b[1;33m\u001b[0m\u001b[0m\n\u001b[0m\u001b[0;32m    856\u001b[0m     \u001b[1;32melif\u001b[0m \u001b[0mself\u001b[0m\u001b[1;33m.\u001b[0m\u001b[0m_stateful_fn\u001b[0m \u001b[1;32mis\u001b[0m \u001b[1;32mnot\u001b[0m \u001b[1;32mNone\u001b[0m\u001b[1;33m:\u001b[0m\u001b[1;33m\u001b[0m\u001b[1;33m\u001b[0m\u001b[0m\n\u001b[0;32m    857\u001b[0m       \u001b[1;31m# Release the lock early so that multiple threads can perform the call\u001b[0m\u001b[1;33m\u001b[0m\u001b[1;33m\u001b[0m\u001b[1;33m\u001b[0m\u001b[0m\n",
      "\u001b[1;32m~\\.conda\\envs\\TF_24\\lib\\site-packages\\tensorflow\\python\\eager\\function.py\u001b[0m in \u001b[0;36m__call__\u001b[1;34m(self, *args, **kwargs)\u001b[0m\n\u001b[0;32m   2940\u001b[0m       (graph_function,\n\u001b[0;32m   2941\u001b[0m        filtered_flat_args) = self._maybe_define_function(args, kwargs)\n\u001b[1;32m-> 2942\u001b[1;33m     return graph_function._call_flat(\n\u001b[0m\u001b[0;32m   2943\u001b[0m         filtered_flat_args, captured_inputs=graph_function.captured_inputs)  # pylint: disable=protected-access\n\u001b[0;32m   2944\u001b[0m \u001b[1;33m\u001b[0m\u001b[0m\n",
      "\u001b[1;32m~\\.conda\\envs\\TF_24\\lib\\site-packages\\tensorflow\\python\\eager\\function.py\u001b[0m in \u001b[0;36m_call_flat\u001b[1;34m(self, args, captured_inputs, cancellation_manager)\u001b[0m\n\u001b[0;32m   1916\u001b[0m         and executing_eagerly):\n\u001b[0;32m   1917\u001b[0m       \u001b[1;31m# No tape is watching; skip to running the function.\u001b[0m\u001b[1;33m\u001b[0m\u001b[1;33m\u001b[0m\u001b[1;33m\u001b[0m\u001b[0m\n\u001b[1;32m-> 1918\u001b[1;33m       return self._build_call_outputs(self._inference_function.call(\n\u001b[0m\u001b[0;32m   1919\u001b[0m           ctx, args, cancellation_manager=cancellation_manager))\n\u001b[0;32m   1920\u001b[0m     forward_backward = self._select_forward_and_backward_functions(\n",
      "\u001b[1;32m~\\.conda\\envs\\TF_24\\lib\\site-packages\\tensorflow\\python\\eager\\function.py\u001b[0m in \u001b[0;36mcall\u001b[1;34m(self, ctx, args, cancellation_manager)\u001b[0m\n\u001b[0;32m    553\u001b[0m       \u001b[1;32mwith\u001b[0m \u001b[0m_InterpolateFunctionError\u001b[0m\u001b[1;33m(\u001b[0m\u001b[0mself\u001b[0m\u001b[1;33m)\u001b[0m\u001b[1;33m:\u001b[0m\u001b[1;33m\u001b[0m\u001b[1;33m\u001b[0m\u001b[0m\n\u001b[0;32m    554\u001b[0m         \u001b[1;32mif\u001b[0m \u001b[0mcancellation_manager\u001b[0m \u001b[1;32mis\u001b[0m \u001b[1;32mNone\u001b[0m\u001b[1;33m:\u001b[0m\u001b[1;33m\u001b[0m\u001b[1;33m\u001b[0m\u001b[0m\n\u001b[1;32m--> 555\u001b[1;33m           outputs = execute.execute(\n\u001b[0m\u001b[0;32m    556\u001b[0m               \u001b[0mstr\u001b[0m\u001b[1;33m(\u001b[0m\u001b[0mself\u001b[0m\u001b[1;33m.\u001b[0m\u001b[0msignature\u001b[0m\u001b[1;33m.\u001b[0m\u001b[0mname\u001b[0m\u001b[1;33m)\u001b[0m\u001b[1;33m,\u001b[0m\u001b[1;33m\u001b[0m\u001b[1;33m\u001b[0m\u001b[0m\n\u001b[0;32m    557\u001b[0m               \u001b[0mnum_outputs\u001b[0m\u001b[1;33m=\u001b[0m\u001b[0mself\u001b[0m\u001b[1;33m.\u001b[0m\u001b[0m_num_outputs\u001b[0m\u001b[1;33m,\u001b[0m\u001b[1;33m\u001b[0m\u001b[1;33m\u001b[0m\u001b[0m\n",
      "\u001b[1;32m~\\.conda\\envs\\TF_24\\lib\\site-packages\\tensorflow\\python\\eager\\execute.py\u001b[0m in \u001b[0;36mquick_execute\u001b[1;34m(op_name, num_outputs, inputs, attrs, ctx, name)\u001b[0m\n\u001b[0;32m     57\u001b[0m   \u001b[1;32mtry\u001b[0m\u001b[1;33m:\u001b[0m\u001b[1;33m\u001b[0m\u001b[1;33m\u001b[0m\u001b[0m\n\u001b[0;32m     58\u001b[0m     \u001b[0mctx\u001b[0m\u001b[1;33m.\u001b[0m\u001b[0mensure_initialized\u001b[0m\u001b[1;33m(\u001b[0m\u001b[1;33m)\u001b[0m\u001b[1;33m\u001b[0m\u001b[1;33m\u001b[0m\u001b[0m\n\u001b[1;32m---> 59\u001b[1;33m     tensors = pywrap_tfe.TFE_Py_Execute(ctx._handle, device_name, op_name,\n\u001b[0m\u001b[0;32m     60\u001b[0m                                         inputs, attrs, num_outputs)\n\u001b[0;32m     61\u001b[0m   \u001b[1;32mexcept\u001b[0m \u001b[0mcore\u001b[0m\u001b[1;33m.\u001b[0m\u001b[0m_NotOkStatusException\u001b[0m \u001b[1;32mas\u001b[0m \u001b[0me\u001b[0m\u001b[1;33m:\u001b[0m\u001b[1;33m\u001b[0m\u001b[1;33m\u001b[0m\u001b[0m\n",
      "\u001b[1;31mKeyboardInterrupt\u001b[0m: "
     ]
    }
   ],
   "source": [
    "history=autoencoder.fit(X_train, X_train,epochs=25,batch_size=512,shuffle=True)"
   ]
  },
  {
   "cell_type": "code",
   "execution_count": 13,
   "metadata": {},
   "outputs": [
    {
     "data": {
      "text/plain": [
       "128.0"
      ]
     },
     "execution_count": 13,
     "metadata": {},
     "output_type": "execute_result"
    }
   ],
   "source": [
    "4096/32"
   ]
  },
  {
   "cell_type": "code",
   "execution_count": 43,
   "metadata": {},
   "outputs": [
    {
     "data": {
      "text/plain": [
       "(1754061, 20)"
      ]
     },
     "execution_count": 43,
     "metadata": {},
     "output_type": "execute_result"
    }
   ],
   "source": [
    "Y_train.shape"
   ]
  },
  {
   "cell_type": "code",
   "execution_count": 22,
   "metadata": {},
   "outputs": [
    {
     "ename": "NameError",
     "evalue": "name 'X_test2' is not defined",
     "output_type": "error",
     "traceback": [
      "\u001b[1;31m---------------------------------------------------------------------------\u001b[0m",
      "\u001b[1;31mNameError\u001b[0m                                 Traceback (most recent call last)",
      "\u001b[1;32m<ipython-input-22-338faae67ff3>\u001b[0m in \u001b[0;36m<module>\u001b[1;34m\u001b[0m\n\u001b[1;32m----> 1\u001b[1;33m \u001b[0mcca\u001b[0m\u001b[1;33m=\u001b[0m\u001b[0mautoencoder\u001b[0m\u001b[1;33m.\u001b[0m\u001b[0mpredict\u001b[0m\u001b[1;33m(\u001b[0m\u001b[0mX_test2\u001b[0m\u001b[1;33m,\u001b[0m\u001b[0mbatch_size\u001b[0m\u001b[1;33m=\u001b[0m\u001b[1;36m512\u001b[0m\u001b[1;33m,\u001b[0m\u001b[0mverbose\u001b[0m\u001b[1;33m=\u001b[0m\u001b[1;36m1\u001b[0m\u001b[1;33m)\u001b[0m\u001b[1;33m\u001b[0m\u001b[1;33m\u001b[0m\u001b[0m\n\u001b[0m",
      "\u001b[1;31mNameError\u001b[0m: name 'X_test2' is not defined"
     ]
    }
   ],
   "source": [
    "cca=autoencoder.predict(X_test2,batch_size=512,verbose=1)"
   ]
  },
  {
   "cell_type": "code",
   "execution_count": 131,
   "metadata": {},
   "outputs": [
    {
     "data": {
      "text/plain": [
       "array([-0.7937768 ,  0.651528  ,  0.1007852 ,  0.6734864 ,  0.5746062 ,\n",
       "       -0.0087104 , -0.20331836,  0.49023637, -0.57273585, -0.19399995,\n",
       "       -0.16572641,  0.14164943,  0.06269745,  0.3651145 ,  0.06234551,\n",
       "       -0.3049409 ,  0.40658417,  0.14946294,  0.4125324 ,  0.9884156 ,\n",
       "       -0.64446545, -0.4022359 ,  0.22626491, -0.6824732 , -0.3072537 ,\n",
       "        0.22517806,  0.1348609 , -0.31462744,  0.3044423 , -0.36948717,\n",
       "        0.6231832 , -0.5494398 ], dtype=float32)"
      ]
     },
     "execution_count": 131,
     "metadata": {},
     "output_type": "execute_result"
    }
   ],
   "source": [
    "cca[0]"
   ]
  },
  {
   "cell_type": "code",
   "execution_count": 108,
   "metadata": {},
   "outputs": [
    {
     "name": "stdout",
     "output_type": "stream",
     "text": [
      "Model: \"model_27\"\n",
      "_________________________________________________________________\n",
      "Layer (type)                 Output Shape              Param #   \n",
      "=================================================================\n",
      "input_31 (InputLayer)        [(None, 8, 512)]          0         \n",
      "_________________________________________________________________\n",
      "permute_8 (Permute)          (None, 512, 8)            0         \n",
      "_________________________________________________________________\n",
      "conv1d_38 (Conv1D)           (None, 510, 8)            200       \n",
      "_________________________________________________________________\n",
      "max_pooling1d_18 (MaxPooling (None, 255, 8)            0         \n",
      "_________________________________________________________________\n",
      "conv1d_39 (Conv1D)           (None, 253, 4)            100       \n",
      "_________________________________________________________________\n",
      "max_pooling1d_19 (MaxPooling (None, 126, 4)            0         \n",
      "_________________________________________________________________\n",
      "average_pooling1d_8 (Average (None, 63, 4)             0         \n",
      "_________________________________________________________________\n",
      "flatten_7 (Flatten)          (None, 252)               0         \n",
      "_________________________________________________________________\n",
      "dense_45 (Dense)             (None, 32)                8096      \n",
      "=================================================================\n",
      "Total params: 8,396\n",
      "Trainable params: 8,396\n",
      "Non-trainable params: 0\n",
      "_________________________________________________________________\n"
     ]
    }
   ],
   "source": [
    "encoder.summary()"
   ]
  },
  {
   "cell_type": "code",
   "execution_count": 14,
   "metadata": {},
   "outputs": [
    {
     "name": "stdout",
     "output_type": "stream",
     "text": [
      "Counter({'methanol': 873067, 'dichloromethane': 818973, 'hexane': 509199, 'ethyl_acetate': 494441, 'chloroform': 236411, 'diethyl_ether': 49166, 'acetone': 46636, 'petroleum_ether': 43696, 'toluene': 27948, 'ethanol': 21354})\n",
      "{'toluene': 0, 'ethanol': 1, 'ethyl_acetate': 2, 'dichloromethane': 3, 'methanol': 4, 'acetone': 5, 'diethyl_ether': 6, 'petroleum_ether': 7, 'hexane': 8, 'chloroform': 9}\n",
      "10\n"
     ]
    }
   ],
   "source": [
    "data = pd.read_csv('dadfre24.csv', sep=\"\\t\",low_memory=False)\n",
    "data[\"crude\"] = data[\"crude\"].str.replace('methylene_chloride','dichloromethane')\n",
    "charset_t = collections.Counter((\" \".join(list(data.crude))).split(' '))\n",
    "print(charset_t)\n",
    "charset_t=set(charset_t)\n",
    "char_to_int_t = dict((c,i) for i,c in enumerate(charset_t))\n",
    "int_to_char_t = dict((i,c) for i,c in enumerate(charset_t))\n",
    "print(char_to_int_t)\n",
    "embed_t =  len(charset_t)\n",
    "print(embed_t)"
   ]
  },
  {
   "cell_type": "code",
   "execution_count": 15,
   "metadata": {},
   "outputs": [
    {
     "data": {
      "text/html": [
       "<div>\n",
       "<style scoped>\n",
       "    .dataframe tbody tr th:only-of-type {\n",
       "        vertical-align: middle;\n",
       "    }\n",
       "\n",
       "    .dataframe tbody tr th {\n",
       "        vertical-align: top;\n",
       "    }\n",
       "\n",
       "    .dataframe thead th {\n",
       "        text-align: right;\n",
       "    }\n",
       "</style>\n",
       "<table border=\"1\" class=\"dataframe\">\n",
       "  <thead>\n",
       "    <tr style=\"text-align: right;\">\n",
       "      <th></th>\n",
       "      <th>RP</th>\n",
       "      <th>crude</th>\n",
       "    </tr>\n",
       "  </thead>\n",
       "  <tbody>\n",
       "    <tr>\n",
       "      <th>0</th>\n",
       "      <td>O=C1NC=Nc2c1cc1OCCOc1c2.O=P(Cl)(Cl)Cl.N.Clc(c1...</td>\n",
       "      <td>chloroform</td>\n",
       "    </tr>\n",
       "    <tr>\n",
       "      <th>1</th>\n",
       "      <td>O=C1NC=Nc2c1cc1OCCOc1c2.O=P(Cl)(Cl)Cl.Clc(c1c2...</td>\n",
       "      <td>chloroform</td>\n",
       "    </tr>\n",
       "    <tr>\n",
       "      <th>2</th>\n",
       "      <td>O=C1NC=Nc2c1cc1OCCOc1c2.N.O=P(Cl)(Cl)Cl.Clc(c1...</td>\n",
       "      <td>chloroform</td>\n",
       "    </tr>\n",
       "    <tr>\n",
       "      <th>3</th>\n",
       "      <td>O=C1NC=Nc2c1cc1OCCOc1c2.N.Clc(c1c2)ncnc1cc1c2O...</td>\n",
       "      <td>chloroform</td>\n",
       "    </tr>\n",
       "    <tr>\n",
       "      <th>4</th>\n",
       "      <td>O=C1NC=Nc2c1cc1OCCOc1c2.Clc(c1c2)ncnc1cc1c2OCC...</td>\n",
       "      <td>chloroform</td>\n",
       "    </tr>\n",
       "    <tr>\n",
       "      <th>...</th>\n",
       "      <td>...</td>\n",
       "      <td>...</td>\n",
       "    </tr>\n",
       "    <tr>\n",
       "      <th>1754056</th>\n",
       "      <td>COc1ccc(B(O)O)cc1.[O-]C([O-])=O.O=Cc1cc(Br)c(-...</td>\n",
       "      <td>hexane ethyl_acetate</td>\n",
       "    </tr>\n",
       "    <tr>\n",
       "      <th>1754057</th>\n",
       "      <td>COc1ccc(B(O)O)cc1.[O-]C([O-])=O.O=Cc1cc(Br)c(-...</td>\n",
       "      <td>hexane ethyl_acetate</td>\n",
       "    </tr>\n",
       "    <tr>\n",
       "      <th>1754058</th>\n",
       "      <td>COc1ccc(B(O)O)cc1.[O-]C([O-])=O.O=Cc1cc(Br)c(-...</td>\n",
       "      <td>hexane ethyl_acetate</td>\n",
       "    </tr>\n",
       "    <tr>\n",
       "      <th>1754059</th>\n",
       "      <td>COc1ccc(B(O)O)cc1.[O-]C([O-])=O.O=Cc1cc(Br)c(-...</td>\n",
       "      <td>hexane ethyl_acetate</td>\n",
       "    </tr>\n",
       "    <tr>\n",
       "      <th>1754060</th>\n",
       "      <td>COc1ccc(B(O)O)cc1.[O-]C([O-])=O.O=Cc1cc(Br)c(-...</td>\n",
       "      <td>hexane ethyl_acetate</td>\n",
       "    </tr>\n",
       "  </tbody>\n",
       "</table>\n",
       "<p>1754061 rows × 2 columns</p>\n",
       "</div>"
      ],
      "text/plain": [
       "                                                        RP  \\\n",
       "0        O=C1NC=Nc2c1cc1OCCOc1c2.O=P(Cl)(Cl)Cl.N.Clc(c1...   \n",
       "1        O=C1NC=Nc2c1cc1OCCOc1c2.O=P(Cl)(Cl)Cl.Clc(c1c2...   \n",
       "2        O=C1NC=Nc2c1cc1OCCOc1c2.N.O=P(Cl)(Cl)Cl.Clc(c1...   \n",
       "3        O=C1NC=Nc2c1cc1OCCOc1c2.N.Clc(c1c2)ncnc1cc1c2O...   \n",
       "4        O=C1NC=Nc2c1cc1OCCOc1c2.Clc(c1c2)ncnc1cc1c2OCC...   \n",
       "...                                                    ...   \n",
       "1754056  COc1ccc(B(O)O)cc1.[O-]C([O-])=O.O=Cc1cc(Br)c(-...   \n",
       "1754057  COc1ccc(B(O)O)cc1.[O-]C([O-])=O.O=Cc1cc(Br)c(-...   \n",
       "1754058  COc1ccc(B(O)O)cc1.[O-]C([O-])=O.O=Cc1cc(Br)c(-...   \n",
       "1754059  COc1ccc(B(O)O)cc1.[O-]C([O-])=O.O=Cc1cc(Br)c(-...   \n",
       "1754060  COc1ccc(B(O)O)cc1.[O-]C([O-])=O.O=Cc1cc(Br)c(-...   \n",
       "\n",
       "                        crude  \n",
       "0                  chloroform  \n",
       "1                  chloroform  \n",
       "2                  chloroform  \n",
       "3                  chloroform  \n",
       "4                  chloroform  \n",
       "...                       ...  \n",
       "1754056  hexane ethyl_acetate  \n",
       "1754057  hexane ethyl_acetate  \n",
       "1754058  hexane ethyl_acetate  \n",
       "1754059  hexane ethyl_acetate  \n",
       "1754060  hexane ethyl_acetate  \n",
       "\n",
       "[1754061 rows x 2 columns]"
      ]
     },
     "execution_count": 15,
     "metadata": {},
     "output_type": "execute_result"
    }
   ],
   "source": [
    "data"
   ]
  },
  {
   "cell_type": "code",
   "execution_count": 16,
   "metadata": {},
   "outputs": [],
   "source": [
    "one_hot_y = np.zeros((len(data), (len(charset_t))*2 ),dtype=np.int8)\n",
    "len(one_hot_y[0])\n",
    "for i,nam in enumerate(data['crude']):\n",
    "    list_short = list(nam.split(\" \"))\n",
    "    first = True\n",
    "    for z, name in enumerate(list_short):\n",
    "        if first == True:\n",
    "            one_hot_y[i][char_to_int_t[name]] = 1\n",
    "            first = False\n",
    "        elif first !=True:\n",
    "            one_hot_y[i][char_to_int_t[name]+10] = 1\n",
    "            \n",
    "Y_train = np.array(one_hot_y)"
   ]
  },
  {
   "cell_type": "code",
   "execution_count": 120,
   "metadata": {},
   "outputs": [],
   "source": [
    "input_img = keras.Input(shape=(8,512,))\n",
    "\n",
    "#input_to_model = encoder\n",
    "#x = layers.Dense(32,activation='relu')(input_to_model)\n",
    "'''\n",
    "enc2 = encoder.layers[-8](input_img)\n",
    "enc2 = encoder.layers[-7](enc2)\n",
    "enc2 = encoder.layers[-6](enc2)\n",
    "enc2 = encoder.layers[-5](enc2)\n",
    "\n",
    "enc2 = encoder.layers[-4](enc2)\n",
    "enc2 = encoder.layers[-3](enc2)\n",
    "\n",
    "\n",
    "enc2 = encoder.layers[-2](enc2)\n",
    "enc2 = encoder.layers[-1](enc2)\n",
    "'''\n",
    "#ls = layers.Dense(64, activation=\"relu\")(enc2)\n",
    "ls = layers.Dense(128, activation=\"relu\")(img_input)\n",
    "ls = layers.Dense(64, activation=\"relu\")(ls)\n",
    "p = layers.Dense(20, activation=\"sigmoid\",dtype='float32',name=\"classification\")(ls)\n",
    "\n",
    "\n",
    "pred_model = keras.Model(input_img, p)\n",
    "pred_model.compile(loss='binary_crossentropy', optimizer=\"adam\", metrics='binary_accuracy')"
   ]
  },
  {
   "cell_type": "code",
   "execution_count": 121,
   "metadata": {},
   "outputs": [],
   "source": [
    "pred_model.layers[1].trainable=False\n",
    "pred_model.layers[2].trainable=False\n",
    "pred_model.layers[3].trainable=False\n",
    "pred_model.layers[4].trainable=False\n",
    "pred_model.layers[5].trainable=False\n",
    "pred_model.layers[6].trainable=False\n",
    "pred_model.layers[7].trainable=False\n",
    "pred_model.layers[8].trainable=False"
   ]
  },
  {
   "cell_type": "code",
   "execution_count": 122,
   "metadata": {},
   "outputs": [],
   "source": [
    "X_train2,X_test2,Y_train2,Y_test2 = X_train2, X_test2, y_train2_2,y_test2_2  = train_test_split(X_train,Y_train, test_size=0.1,shuffle=True)"
   ]
  },
  {
   "cell_type": "code",
   "execution_count": 123,
   "metadata": {},
   "outputs": [
    {
     "name": "stdout",
     "output_type": "stream",
     "text": [
      "Model: \"model_29\"\n",
      "_________________________________________________________________\n",
      "Layer (type)                 Output Shape              Param #   \n",
      "=================================================================\n",
      "input_36 (InputLayer)        [(None, 8, 512)]          0         \n",
      "_________________________________________________________________\n",
      "permute_8 (Permute)          (None, 512, 8)            0         \n",
      "_________________________________________________________________\n",
      "conv1d_38 (Conv1D)           (None, 510, 8)            200       \n",
      "_________________________________________________________________\n",
      "max_pooling1d_18 (MaxPooling (None, 255, 8)            0         \n",
      "_________________________________________________________________\n",
      "conv1d_39 (Conv1D)           (None, 253, 4)            100       \n",
      "_________________________________________________________________\n",
      "max_pooling1d_19 (MaxPooling (None, 126, 4)            0         \n",
      "_________________________________________________________________\n",
      "average_pooling1d_8 (Average (None, 63, 4)             0         \n",
      "_________________________________________________________________\n",
      "flatten_7 (Flatten)          (None, 252)               0         \n",
      "_________________________________________________________________\n",
      "dense_45 (Dense)             (None, 32)                8096      \n",
      "_________________________________________________________________\n",
      "dense_50 (Dense)             (None, 64)                2112      \n",
      "_________________________________________________________________\n",
      "dense_51 (Dense)             (None, 128)               8320      \n",
      "_________________________________________________________________\n",
      "dense_52 (Dense)             (None, 64)                8256      \n",
      "_________________________________________________________________\n",
      "classification (Dense)       (None, 20)                1300      \n",
      "=================================================================\n",
      "Total params: 28,384\n",
      "Trainable params: 19,988\n",
      "Non-trainable params: 8,396\n",
      "_________________________________________________________________\n"
     ]
    }
   ],
   "source": [
    "pred_model.summary()"
   ]
  },
  {
   "cell_type": "code",
   "execution_count": 124,
   "metadata": {},
   "outputs": [
    {
     "name": "stdout",
     "output_type": "stream",
     "text": [
      "Epoch 1/40\n",
      "1465/1465 [==============================] - 10s 7ms/step - loss: 0.2676 - binary_accuracy: 0.8976 - val_loss: 0.2391 - val_binary_accuracy: 0.9111\n",
      "Epoch 2/40\n",
      "1465/1465 [==============================] - 9s 6ms/step - loss: 0.2382 - binary_accuracy: 0.9110 - val_loss: 0.2373 - val_binary_accuracy: 0.9112\n",
      "Epoch 3/40\n",
      "1465/1465 [==============================] - 9s 6ms/step - loss: 0.2369 - binary_accuracy: 0.9111 - val_loss: 0.2364 - val_binary_accuracy: 0.9114\n",
      "Epoch 4/40\n",
      "1465/1465 [==============================] - 9s 6ms/step - loss: 0.2355 - binary_accuracy: 0.9113 - val_loss: 0.2351 - val_binary_accuracy: 0.9116\n",
      "Epoch 5/40\n",
      "1465/1465 [==============================] - 9s 6ms/step - loss: 0.2342 - binary_accuracy: 0.9117 - val_loss: 0.2337 - val_binary_accuracy: 0.9120\n",
      "Epoch 6/40\n",
      "1465/1465 [==============================] - 9s 6ms/step - loss: 0.2329 - binary_accuracy: 0.9120 - val_loss: 0.2325 - val_binary_accuracy: 0.9122\n",
      "Epoch 7/40\n",
      "1465/1465 [==============================] - 9s 6ms/step - loss: 0.2317 - binary_accuracy: 0.9123 - val_loss: 0.2319 - val_binary_accuracy: 0.9124\n",
      "Epoch 8/40\n",
      "1465/1465 [==============================] - 9s 6ms/step - loss: 0.2305 - binary_accuracy: 0.9127 - val_loss: 0.2307 - val_binary_accuracy: 0.9128\n",
      "Epoch 9/40\n",
      "1465/1465 [==============================] - 9s 6ms/step - loss: 0.2294 - binary_accuracy: 0.9130 - val_loss: 0.2298 - val_binary_accuracy: 0.9131\n",
      "Epoch 10/40\n",
      "1465/1465 [==============================] - 9s 6ms/step - loss: 0.2287 - binary_accuracy: 0.9133 - val_loss: 0.2292 - val_binary_accuracy: 0.9132\n",
      "Epoch 11/40\n",
      "1465/1465 [==============================] - 9s 6ms/step - loss: 0.2279 - binary_accuracy: 0.9135 - val_loss: 0.2286 - val_binary_accuracy: 0.9135\n",
      "Epoch 12/40\n",
      "1465/1465 [==============================] - 9s 6ms/step - loss: 0.2273 - binary_accuracy: 0.9137 - val_loss: 0.2278 - val_binary_accuracy: 0.9138\n",
      "Epoch 13/40\n",
      "1465/1465 [==============================] - 9s 6ms/step - loss: 0.2269 - binary_accuracy: 0.9139 - val_loss: 0.2275 - val_binary_accuracy: 0.9139\n",
      "Epoch 14/40\n",
      "1465/1465 [==============================] - 9s 6ms/step - loss: 0.2261 - binary_accuracy: 0.9141 - val_loss: 0.2271 - val_binary_accuracy: 0.9141\n",
      "Epoch 15/40\n",
      "1465/1465 [==============================] - 9s 6ms/step - loss: 0.2255 - binary_accuracy: 0.9143 - val_loss: 0.2270 - val_binary_accuracy: 0.9139\n",
      "Epoch 16/40\n",
      "1465/1465 [==============================] - 9s 6ms/step - loss: 0.2250 - binary_accuracy: 0.9145 - val_loss: 0.2262 - val_binary_accuracy: 0.9144\n",
      "Epoch 17/40\n",
      "1465/1465 [==============================] - 9s 6ms/step - loss: 0.2247 - binary_accuracy: 0.9146 - val_loss: 0.2258 - val_binary_accuracy: 0.9145\n",
      "Epoch 18/40\n",
      "1465/1465 [==============================] - 9s 6ms/step - loss: 0.2241 - binary_accuracy: 0.9149 - val_loss: 0.2253 - val_binary_accuracy: 0.9146\n",
      "Epoch 19/40\n",
      "1465/1465 [==============================] - 9s 6ms/step - loss: 0.2238 - binary_accuracy: 0.9150 - val_loss: 0.2251 - val_binary_accuracy: 0.9147\n",
      "Epoch 20/40\n",
      "1465/1465 [==============================] - 9s 6ms/step - loss: 0.2235 - binary_accuracy: 0.9151 - val_loss: 0.2248 - val_binary_accuracy: 0.9149\n",
      "Epoch 21/40\n",
      "1465/1465 [==============================] - 9s 6ms/step - loss: 0.2231 - binary_accuracy: 0.9152 - val_loss: 0.2246 - val_binary_accuracy: 0.9149\n",
      "Epoch 22/40\n",
      "1465/1465 [==============================] - 9s 6ms/step - loss: 0.2228 - binary_accuracy: 0.9154 - val_loss: 0.2245 - val_binary_accuracy: 0.9149\n",
      "Epoch 23/40\n",
      "1465/1465 [==============================] - 9s 6ms/step - loss: 0.2227 - binary_accuracy: 0.9154 - val_loss: 0.2238 - val_binary_accuracy: 0.9153\n",
      "Epoch 24/40\n",
      "1465/1465 [==============================] - 9s 6ms/step - loss: 0.2222 - binary_accuracy: 0.9156 - val_loss: 0.2235 - val_binary_accuracy: 0.9152\n",
      "Epoch 25/40\n",
      "1465/1465 [==============================] - 9s 6ms/step - loss: 0.2220 - binary_accuracy: 0.9156 - val_loss: 0.2237 - val_binary_accuracy: 0.9152\n",
      "Epoch 26/40\n",
      "1465/1465 [==============================] - 9s 6ms/step - loss: 0.2218 - binary_accuracy: 0.9157 - val_loss: 0.2233 - val_binary_accuracy: 0.9155\n",
      "Epoch 27/40\n",
      "1465/1465 [==============================] - 9s 6ms/step - loss: 0.2215 - binary_accuracy: 0.9159 - val_loss: 0.2230 - val_binary_accuracy: 0.9154\n",
      "Epoch 28/40\n",
      "1465/1465 [==============================] - 9s 6ms/step - loss: 0.2213 - binary_accuracy: 0.9159 - val_loss: 0.2231 - val_binary_accuracy: 0.9155\n",
      "Epoch 29/40\n",
      "1465/1465 [==============================] - 9s 6ms/step - loss: 0.2212 - binary_accuracy: 0.9160 - val_loss: 0.2229 - val_binary_accuracy: 0.9156\n",
      "Epoch 30/40\n",
      "1465/1465 [==============================] - 9s 6ms/step - loss: 0.2209 - binary_accuracy: 0.9160 - val_loss: 0.2227 - val_binary_accuracy: 0.9158\n",
      "Epoch 31/40\n",
      "1465/1465 [==============================] - 9s 6ms/step - loss: 0.2207 - binary_accuracy: 0.9162 - val_loss: 0.2226 - val_binary_accuracy: 0.9157\n",
      "Epoch 32/40\n",
      "1465/1465 [==============================] - 9s 6ms/step - loss: 0.2206 - binary_accuracy: 0.9162 - val_loss: 0.2227 - val_binary_accuracy: 0.9157\n",
      "Epoch 33/40\n",
      "1465/1465 [==============================] - 9s 6ms/step - loss: 0.2205 - binary_accuracy: 0.9163 - val_loss: 0.2225 - val_binary_accuracy: 0.9158\n",
      "Epoch 34/40\n",
      "1465/1465 [==============================] - 9s 6ms/step - loss: 0.2202 - binary_accuracy: 0.9163 - val_loss: 0.2220 - val_binary_accuracy: 0.9160\n",
      "Epoch 35/40\n",
      "1465/1465 [==============================] - 9s 6ms/step - loss: 0.2201 - binary_accuracy: 0.9164 - val_loss: 0.2224 - val_binary_accuracy: 0.9158\n",
      "Epoch 36/40\n",
      "1465/1465 [==============================] - 9s 6ms/step - loss: 0.2199 - binary_accuracy: 0.9165 - val_loss: 0.2217 - val_binary_accuracy: 0.9161\n",
      "Epoch 37/40\n",
      "1465/1465 [==============================] - 9s 6ms/step - loss: 0.2200 - binary_accuracy: 0.9165 - val_loss: 0.2222 - val_binary_accuracy: 0.9158\n",
      "Epoch 38/40\n",
      "1465/1465 [==============================] - 9s 6ms/step - loss: 0.2197 - binary_accuracy: 0.9166 - val_loss: 0.2219 - val_binary_accuracy: 0.9160\n",
      "Epoch 39/40\n",
      "1465/1465 [==============================] - 9s 6ms/step - loss: 0.2197 - binary_accuracy: 0.9166 - val_loss: 0.2217 - val_binary_accuracy: 0.9160\n",
      "Epoch 40/40\n",
      "1465/1465 [==============================] - 9s 6ms/step - loss: 0.2195 - binary_accuracy: 0.9167 - val_loss: 0.2220 - val_binary_accuracy: 0.9159\n"
     ]
    }
   ],
   "source": [
    "history=pred_model.fit(X_train2, Y_train2,epochs=40,batch_size=1024,shuffle=True,validation_split=0.05)"
   ]
  },
  {
   "cell_type": "code",
   "execution_count": 30,
   "metadata": {},
   "outputs": [],
   "source": [
    "#pred_model.compile(loss='binary_crossentropy', optimizer=\"adam\", metrics='binary_accuracy')\n",
    "pred_model.layers[1].trainable=True"
   ]
  },
  {
   "cell_type": "code",
   "execution_count": 125,
   "metadata": {},
   "outputs": [
    {
     "name": "stdout",
     "output_type": "stream",
     "text": [
      "343/343 [==============================] - 1s 3ms/step\n",
      "0.14986859133329913\n"
     ]
    },
    {
     "name": "stderr",
     "output_type": "stream",
     "text": [
      "C:\\Users\\XXX\\.conda\\envs\\TF_24\\lib\\site-packages\\sklearn\\metrics\\_classification.py:1221: UndefinedMetricWarning: Precision and F-score are ill-defined and being set to 0.0 in labels with no predicted samples. Use `zero_division` parameter to control this behavior.\n",
      "  _warn_prf(average, modifier, msg_start, len(result))\n"
     ]
    },
    {
     "name": "stdout",
     "output_type": "stream",
     "text": [
      "              precision    recall  f1-score   support\n",
      "\n",
      "           0       0.73      0.03      0.06      2403\n",
      "           1       0.52      0.02      0.03       634\n",
      "           2       0.37      0.10      0.16     31414\n",
      "           3       0.44      0.41      0.42     47292\n",
      "           4       0.46      0.51      0.48     41082\n",
      "           5       0.77      0.05      0.09      2351\n",
      "           6       0.65      0.01      0.01      3506\n",
      "           7       1.00      0.00      0.00      2155\n",
      "           8       0.40      0.13      0.19     25968\n",
      "           9       0.46      0.11      0.18     18602\n",
      "          10       0.50      0.01      0.02       376\n",
      "          11       0.00      0.00      0.00      1554\n",
      "          12       0.41      0.02      0.03     17937\n",
      "          13       0.45      0.40      0.42     34894\n",
      "          14       0.46      0.54      0.50     46372\n",
      "          15       0.52      0.09      0.15      2235\n",
      "          16       0.52      0.01      0.02      1310\n",
      "          17       0.20      0.00      0.00      2156\n",
      "          18       0.39      0.06      0.11     24782\n",
      "          19       0.70      0.06      0.12      4992\n",
      "\n",
      "   micro avg       0.45      0.29      0.35    312015\n",
      "   macro avg       0.50      0.13      0.15    312015\n",
      "weighted avg       0.44      0.29      0.31    312015\n",
      " samples avg       0.27      0.28      0.27    312015\n",
      "\n",
      "[[[172978     26]\n",
      "  [  2334     69]]\n",
      "\n",
      " [[174763     10]\n",
      "  [   623     11]]\n",
      "\n",
      " [[138500   5493]\n",
      "  [ 28202   3212]]\n",
      "\n",
      " [[103238  24877]\n",
      "  [ 27872  19420]]\n",
      "\n",
      " [[109774  24551]\n",
      "  [ 20258  20824]]\n",
      "\n",
      " [[173022     34]\n",
      "  [  2239    112]]\n",
      "\n",
      " [[171887     14]\n",
      "  [  3480     26]]\n",
      "\n",
      " [[173252      0]\n",
      "  [  2154      1]]\n",
      "\n",
      " [[144399   5040]\n",
      "  [ 22667   3301]]\n",
      "\n",
      " [[154336   2469]\n",
      "  [ 16530   2072]]\n",
      "\n",
      " [[175028      3]\n",
      "  [   373      3]]\n",
      "\n",
      " [[173853      0]\n",
      "  [  1554      0]]\n",
      "\n",
      " [[157078    392]\n",
      "  [ 17662    275]]\n",
      "\n",
      " [[123623  16890]\n",
      "  [ 21049  13845]]\n",
      "\n",
      " [[ 99947  29088]\n",
      "  [ 21143  25229]]\n",
      "\n",
      " [[172987    185]\n",
      "  [  2036    199]]\n",
      "\n",
      " [[174084     13]\n",
      "  [  1296     14]]\n",
      "\n",
      " [[173247      4]\n",
      "  [  2155      1]]\n",
      "\n",
      " [[148152   2473]\n",
      "  [ 23191   1591]]\n",
      "\n",
      " [[170277    138]\n",
      "  [  4669    323]]]\n"
     ]
    }
   ],
   "source": [
    "from sklearn.metrics import classification_report, accuracy_score, multilabel_confusion_matrix\n",
    "preds1 = pred_model.predict(X_test2,verbose=1,batch_size=512)\n",
    "#print(preds1)\n",
    "#print(y_test2)\n",
    "preds1[preds1>=0.31] = 1\n",
    "preds1[preds1<1-0.31] = 0\n",
    "print (accuracy_score(Y_test2, preds1))\n",
    "print (classification_report(Y_test2, preds1))\n",
    "print (multilabel_confusion_matrix(Y_test2, preds1))"
   ]
  },
  {
   "cell_type": "code",
   "execution_count": 78,
   "metadata": {},
   "outputs": [
    {
     "name": "stdout",
     "output_type": "stream",
     "text": [
      "0.36500000000000005\n",
      "0.6569920242635698\n",
      "0.6569920242635698\n"
     ]
    },
    {
     "ename": "NameError",
     "evalue": "name 'plt' is not defined",
     "output_type": "error",
     "traceback": [
      "\u001b[1;31m---------------------------------------------------------------------------\u001b[0m",
      "\u001b[1;31mNameError\u001b[0m                                 Traceback (most recent call last)",
      "\u001b[1;32m<ipython-input-78-f16b719848a3>\u001b[0m in \u001b[0;36m<module>\u001b[1;34m\u001b[0m\n\u001b[0;32m     29\u001b[0m \u001b[0mprint\u001b[0m\u001b[1;33m(\u001b[0m\u001b[0mmaxpr\u001b[0m\u001b[1;33m)\u001b[0m\u001b[1;33m\u001b[0m\u001b[1;33m\u001b[0m\u001b[0m\n\u001b[0;32m     30\u001b[0m \u001b[0mprint\u001b[0m\u001b[1;33m(\u001b[0m\u001b[0mnp\u001b[0m\u001b[1;33m.\u001b[0m\u001b[0marray\u001b[0m\u001b[1;33m(\u001b[0m\u001b[0mzel\u001b[0m\u001b[1;33m)\u001b[0m\u001b[1;33m.\u001b[0m\u001b[0mmax\u001b[0m\u001b[1;33m(\u001b[0m\u001b[1;33m)\u001b[0m\u001b[1;33m)\u001b[0m\u001b[1;33m\u001b[0m\u001b[1;33m\u001b[0m\u001b[0m\n\u001b[1;32m---> 31\u001b[1;33m \u001b[0mplt\u001b[0m\u001b[1;33m.\u001b[0m\u001b[0mplot\u001b[0m\u001b[1;33m(\u001b[0m\u001b[0mzel\u001b[0m\u001b[1;33m)\u001b[0m\u001b[1;33m\u001b[0m\u001b[1;33m\u001b[0m\u001b[0m\n\u001b[0m",
      "\u001b[1;31mNameError\u001b[0m: name 'plt' is not defined"
     ]
    }
   ],
   "source": [
    "zest = [0.1,0.2,0.3,0.4,0.5,0.6,0.7,0.8,0.9]\n",
    "zesp = 0.3\n",
    "zel = []\n",
    "maxpr = 0\n",
    "best_nr = 0\n",
    "bad_count = 0\n",
    "for zzyz in range(0,100):\n",
    "    \n",
    "    try:\n",
    "        preds1 = pred_model.predict(X_test2,verbose=0,batch_size=512)\n",
    "        #print(preds1)\n",
    "        #print(y_test2)\n",
    "        preds1[preds1>=zesp] = 1\n",
    "        preds1[preds1<1-zesp] = 0\n",
    "        klkl = accuracy_score(Y_test2, preds1)\n",
    "        \n",
    "        if klkl > maxpr:\n",
    "            maxpr = klkl\n",
    "            best_nr = zesp\n",
    "        #print (klkl)\n",
    "    except:\n",
    "        bad_count +=1\n",
    "    if bad_count >4:\n",
    "        break\n",
    "    zesp+=0.005\n",
    "    zel.append(klkl)\n",
    "print(best_nr)\n",
    "#plt.plot(zel)\n",
    "print(maxpr)\n",
    "print(np.array(zel).max())\n",
    "plt.plot(zel)"
   ]
  },
  {
   "cell_type": "code",
   "execution_count": null,
   "metadata": {},
   "outputs": [],
   "source": [
    "zest = [0.1,0.2,0.3,0.4,0.5,0.6,0.7,0.8,0.9]\n",
    "zesp = 0.39\n",
    "zel = []\n",
    "maxpr = 0\n",
    "best_nr = 0\n",
    "bad_count = 0\n",
    "for zzyz in range(0,40):\n",
    "    \n",
    "    try:\n",
    "        preds1 = modelx.predict(X_test2,verbose=0,batch_size=512)\n",
    "        #print(preds1)\n",
    "        #print(y_test2)\n",
    "        preds1[preds1>=zesp] = 1\n",
    "        preds1[preds1<1-zesp] = 0\n",
    "        klkl = accuracy_score(y_test2_2, preds1)\n",
    "        \n",
    "        if klkl > maxpr:\n",
    "            maxpr = klkl\n",
    "            best_nr = zesp\n",
    "        #print (klkl)\n",
    "    except:\n",
    "        bad_count +=1\n",
    "    if bad_count >4:\n",
    "        break\n",
    "    zesp+=0.001\n",
    "    zel.append(klkl)\n",
    "print(best_nr)\n",
    "#plt.plot(zel)\n",
    "print(maxpr)\n",
    "print(np.array(zel).max())\n",
    "plt.plot(zel)"
   ]
  }
 ],
 "metadata": {
  "kernelspec": {
   "display_name": "Python 3",
   "language": "python",
   "name": "python3"
  },
  "language_info": {
   "codemirror_mode": {
    "name": "ipython",
    "version": 3
   },
   "file_extension": ".py",
   "mimetype": "text/x-python",
   "name": "python",
   "nbconvert_exporter": "python",
   "pygments_lexer": "ipython3",
   "version": "3.6.13"
  }
 },
 "nbformat": 4,
 "nbformat_minor": 4
}
