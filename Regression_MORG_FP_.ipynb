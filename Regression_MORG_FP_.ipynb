{
 "cells": [
  {
   "cell_type": "code",
   "execution_count": null,
   "metadata": {},
   "outputs": [],
   "source": [
    "from tensorflow import keras\n",
    "import tensorflow as tf\n",
    "import pandas as pd\n",
    "import numpy as np\n",
    "from sklearn.model_selection import train_test_split\n",
    "from tensorflow.keras import layers\n",
    "from tensorflow import nn\n",
    "import collections\n",
    "from rdkit.Chem import Descriptors\n",
    "from rdkit import Chem\n",
    "from rdkit.Chem import AllChem\n",
    "import matplotlib.pyplot as plt\n",
    "from sklearn.metrics import classification_report, accuracy_score, multilabel_confusion_matrix, mean_squared_error\n",
    "import statsmodels.api as sm"
   ]
  },
  {
   "cell_type": "code",
   "execution_count": null,
   "metadata": {},
   "outputs": [],
   "source": [
    "data = pd.read_csv('ratio_dataset.csv', sep=\"\\t\",low_memory=False)"
   ]
  },
  {
   "cell_type": "code",
   "execution_count": null,
   "metadata": {},
   "outputs": [],
   "source": [
    "#params\n",
    "#for quick prototyping epoch count is set to 20\n",
    "epoch_count = 20"
   ]
  },
  {
   "cell_type": "code",
   "execution_count": null,
   "metadata": {},
   "outputs": [],
   "source": [
    "#Generate morgan FP, may take a while\n",
    "bins_len= 512\n",
    "smiles_train = data[\"RP\"]\n",
    "def vectorize(smiles):\n",
    "    x_one = np.zeros((len(data), 8, bins_len ),dtype=np.int8)\n",
    "    #x_one = []\n",
    "    for ca,smil in enumerate(smiles):\n",
    "        #x_one_ = []\n",
    "        qq = list(smil.split(\".\"))\n",
    "        for fa in range(0,8):\n",
    "            try:\n",
    "                x_one[ca][fa]=np.fromiter((map(int, AllChem.GetMorganFingerprintAsBitVect(AllChem.MolFromSmiles(qq[fa]),3,nBits=bins_len).ToBitString())),int)\n",
    "            except:\n",
    "                pass\n",
    "            #x_one_.append([0 for x in range(0,bins_len)])\n",
    "            #print(smil)\n",
    "        \n",
    "    return x_one\n",
    "X_train = vectorize(smiles_train.values)"
   ]
  },
  {
   "cell_type": "code",
   "execution_count": null,
   "metadata": {},
   "outputs": [],
   "source": [
    "#saving a numpy array is recommended, to avoid generating morgan FP every time\n",
    "#np.save('X_train_rat.npy', X_train)\n",
    "# npy file can be loaded with:\n",
    "#X_train = np.load(\"X_train_rat.npy\")"
   ]
  },
  {
   "cell_type": "code",
   "execution_count": null,
   "metadata": {},
   "outputs": [],
   "source": [
    "# vectorize output\n",
    "one_hot_yz = np.zeros((len(data), 1 ),dtype=np.float16)\n",
    "for i,nam in enumerate(data['rat2'])\n",
    "    one_hot_yz[i] = float(nam)          \n",
    "Y_train = np.array(one_hot_yz)\n"
   ]
  },
  {
   "cell_type": "code",
   "execution_count": null,
   "metadata": {},
   "outputs": [],
   "source": [
    "# split dataset\n",
    "X_train = np.array(X_train)\n",
    "X_train2, X_test2, y_train2_2,y_test2_2  = train_test_split(X_train,Y_train, test_size=0.1,shuffle=True)"
   ]
  },
  {
   "cell_type": "code",
   "execution_count": null,
   "metadata": {},
   "outputs": [],
   "source": [
    "inputA = keras.Input(shape=(8,512),name='inputx')\n",
    "\n",
    "\n",
    "x = layers.Dense(64, activation=\"relu\")(inputA)\n",
    "\n",
    "x = layers.Dense(32, activation=\"relu\")(x)\n",
    "\n",
    "x = layers.Flatten()(x)\n",
    "\n",
    "p = layers.Dense(32, activation='relu')(x)\n",
    "\n",
    "p = layers.Dense(1, activation=\"linear\",dtype='float32',name=\"ratio\")(p)\n",
    "\n",
    "\n",
    "modelx = keras.Model(inputs=inputA, outputs=p)\n",
    "\n",
    "modelx.compile(loss='mse', optimizer=\"adam\")\n",
    "print (modelx.summary())"
   ]
  },
  {
   "cell_type": "code",
   "execution_count": null,
   "metadata": {
    "scrolled": true
   },
   "outputs": [],
   "source": [
    "history = modelx.fit(X_train2,y_train2_2, epochs=epoch_count, batch_size=256, validation_split = 0.1)"
   ]
  },
  {
   "cell_type": "code",
   "execution_count": null,
   "metadata": {},
   "outputs": [],
   "source": [
    "y_pred2=modelx.predict(X_test2,verbose=1)\n",
    "\n",
    "print('MSE: ',mean_squared_error([float(x) for x in y_test2_2], [float(x) for x in y_pred2]))\n",
    "\n",
    "#plt.axis([0, 1.1, 0, 1.1])\n",
    "#plt.scatter((y_pred2),(y_test2_2))\n",
    "print('Correlation cof matrix:')\n",
    "print(np.corrcoef([float(x) for x in y_pred2], [float(x) for x in y_test2_2]))\n",
    "X_addC = sm.add_constant([float(x) for x in y_test2_2])\n",
    "result = sm.OLS([float(x) for x in y_pred2], X_addC).fit()\n",
    "print('R2:',result.rsquared,'R2 adj:', result.rsquared_adj)"
   ]
  },
  {
   "cell_type": "code",
   "execution_count": null,
   "metadata": {},
   "outputs": [],
   "source": [
    "inputA = keras.Input(shape=(8,512),name='inputx')\n",
    "\n",
    "x = layers.LSTM(32,return_sequences=False)(inputA)\n",
    "\n",
    "p = layers.Dense(64, activation='relu')(x)\n",
    "\n",
    "p = layers.Dense(32, activation='relu')(x)\n",
    "\n",
    "p = layers.Dense(1, activation=\"linear\",dtype='float32',name=\"ratio\")(p)\n",
    "\n",
    "\n",
    "modelx = keras.Model(inputs=inputA, outputs=p)\n",
    "\n",
    "modelx.compile(loss='mse', optimizer=\"adam\")\n",
    "print (modelx.summary())"
   ]
  },
  {
   "cell_type": "code",
   "execution_count": null,
   "metadata": {
    "scrolled": true
   },
   "outputs": [],
   "source": [
    "history = modelx.fit(X_train2,y_train2_2, epochs=epoch_count, batch_size=256, validation_split = 0.1)"
   ]
  },
  {
   "cell_type": "code",
   "execution_count": null,
   "metadata": {},
   "outputs": [],
   "source": [
    "y_pred2=modelx.predict(X_test2,verbose=1)\n",
    "\n",
    "print('MSE: ',mean_squared_error([float(x) for x in y_test2_2], [float(x) for x in y_pred2]))\n",
    "\n",
    "#plt.axis([0, 1.1, 0, 1.1])\n",
    "#plt.scatter((y_pred2),(y_test2_2))\n",
    "print('Correlation cof matrix:')\n",
    "print(np.corrcoef([float(x) for x in y_pred2], [float(x) for x in y_test2_2]))\n",
    "X_addC = sm.add_constant([float(x) for x in y_test2_2])\n",
    "result = sm.OLS([float(x) for x in y_pred2], X_addC).fit()\n",
    "print('R2:',result.rsquared,'R2 adj:', result.rsquared_adj)"
   ]
  },
  {
   "cell_type": "code",
   "execution_count": null,
   "metadata": {},
   "outputs": [],
   "source": [
    "inputA = keras.Input(shape=(8,512),name='inputx')\n",
    "\n",
    "x = layers.Permute((2,1))(inputA)\n",
    "\n",
    "k = layers.Conv1D(32,12,activation='relu')(x)\n",
    "k = layers.AveragePooling1D(3)(k)\n",
    "k = layers.Conv1D(32,12,activation='relu')(k)\n",
    "k = layers.AveragePooling1D(3)(k)\n",
    "k = layers.Conv1D(32,5,activation='relu')(k)\n",
    "k = layers.AveragePooling1D(2)(k)\n",
    "\n",
    "k = layers.Flatten()(k)\n",
    "\n",
    "p = layers.Dense(32, activation='relu')(k)\n",
    "\n",
    "#p = layers.Dense(64, activation='relu')(p)\n",
    "\n",
    "p = layers.Dense(1, activation=\"linear\",dtype='float32',name=\"ratio\")(p)\n",
    "\n",
    "\n",
    "modelx = keras.Model(inputs=inputA, outputs=p)\n",
    "\n",
    "modelx.compile(loss='mse', optimizer=\"adam\")\n",
    "modelx.summary()"
   ]
  },
  {
   "cell_type": "code",
   "execution_count": null,
   "metadata": {
    "scrolled": true
   },
   "outputs": [],
   "source": [
    "history = modelx.fit(X_train2,y_train2_2, epochs=epoch_count, batch_size=256, validation_split = 0.1)"
   ]
  },
  {
   "cell_type": "code",
   "execution_count": null,
   "metadata": {},
   "outputs": [],
   "source": [
    "y_pred2=modelx.predict(X_test2,verbose=1)\n",
    "\n",
    "print('MSE: ',mean_squared_error([float(x) for x in y_test2_2], [float(x) for x in y_pred2]))\n",
    "\n",
    "#plt.axis([0, 1.1, 0, 1.1])\n",
    "#plt.scatter((y_pred2),(y_test2_2))\n",
    "print('Correlation cof matrix:')\n",
    "print(np.corrcoef([float(x) for x in y_pred2], [float(x) for x in y_test2_2]))\n",
    "X_addC = sm.add_constant([float(x) for x in y_test2_2])\n",
    "result = sm.OLS([float(x) for x in y_pred2], X_addC).fit()\n",
    "print('R2:',result.rsquared,'R2 adj:', result.rsquared_adj)"
   ]
  },
  {
   "cell_type": "code",
   "execution_count": null,
   "metadata": {},
   "outputs": [],
   "source": []
  }
 ],
 "metadata": {
  "kernelspec": {
   "display_name": "Python 3",
   "language": "python",
   "name": "python3"
  },
  "language_info": {
   "codemirror_mode": {
    "name": "ipython",
    "version": 3
   },
   "file_extension": ".py",
   "mimetype": "text/x-python",
   "name": "python",
   "nbconvert_exporter": "python",
   "pygments_lexer": "ipython3",
   "version": "3.6.13"
  }
 },
 "nbformat": 4,
 "nbformat_minor": 4
}
